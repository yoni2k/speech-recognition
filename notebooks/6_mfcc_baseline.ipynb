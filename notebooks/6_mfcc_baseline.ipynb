{
 "cells": [
  {
   "cell_type": "code",
   "execution_count": 1,
   "id": "60718ffa",
   "metadata": {
    "ExecuteTime": {
     "end_time": "2023-07-09T07:22:23.586918Z",
     "start_time": "2023-07-09T07:22:23.582801Z"
    }
   },
   "outputs": [],
   "source": [
    "# ! pip install --user librosa"
   ]
  },
  {
   "cell_type": "code",
   "execution_count": 2,
   "id": "c223697b",
   "metadata": {
    "ExecuteTime": {
     "end_time": "2023-07-09T07:22:25.770194Z",
     "start_time": "2023-07-09T07:22:23.588048Z"
    }
   },
   "outputs": [],
   "source": [
    "from pathlib import Path\n",
    "from scipy.io import wavfile\n",
    "import scipy.signal\n",
    "import pandas as pd\n",
    "from tqdm.auto import tqdm\n",
    "import seaborn as sns\n",
    "import matplotlib.pyplot as plt\n",
    "from collections import Counter\n",
    "import numpy as np\n",
    "import os\n",
    "from sklearn.linear_model import LogisticRegression\n",
    "from sklearn.metrics import accuracy_score, classification_report\n",
    "from sklearn.ensemble import RandomForestClassifier\n",
    "import librosa"
   ]
  },
  {
   "cell_type": "markdown",
   "id": "b73bbb0a",
   "metadata": {},
   "source": [
    "## Read data"
   ]
  },
  {
   "cell_type": "code",
   "execution_count": 3,
   "id": "e28503be",
   "metadata": {
    "ExecuteTime": {
     "end_time": "2023-07-09T07:22:25.786181Z",
     "start_time": "2023-07-09T07:22:25.771328Z"
    }
   },
   "outputs": [],
   "source": [
    "intermediate_folder = Path('..') / 'data' / 'intermediate'"
   ]
  },
  {
   "cell_type": "code",
   "execution_count": 4,
   "id": "c7a1597f",
   "metadata": {
    "ExecuteTime": {
     "end_time": "2023-07-09T07:22:26.004555Z",
     "start_time": "2023-07-09T07:22:25.787389Z"
    }
   },
   "outputs": [
    {
     "data": {
      "text/plain": [
       "(33566, 20, 32)"
      ]
     },
     "execution_count": 4,
     "metadata": {},
     "output_type": "execute_result"
    }
   ],
   "source": [
    "X_train = np.load(intermediate_folder / 'train_main_1_sec_audio_mfcc.npy')\n",
    "X_train.shape"
   ]
  },
  {
   "cell_type": "code",
   "execution_count": 5,
   "id": "4ac2edcb",
   "metadata": {
    "ExecuteTime": {
     "end_time": "2023-07-09T07:22:26.066163Z",
     "start_time": "2023-07-09T07:22:26.007155Z"
    }
   },
   "outputs": [
    {
     "data": {
      "text/plain": [
       "(4619, 20, 32)"
      ]
     },
     "execution_count": 5,
     "metadata": {},
     "output_type": "execute_result"
    }
   ],
   "source": [
    "X_val = np.load(intermediate_folder / 'val_main_1_sec_audio_mfcc.npy')\n",
    "X_val.shape"
   ]
  },
  {
   "cell_type": "code",
   "execution_count": 6,
   "id": "ecf71a07",
   "metadata": {
    "ExecuteTime": {
     "end_time": "2023-07-09T07:22:26.114318Z",
     "start_time": "2023-07-09T07:22:26.067091Z"
    }
   },
   "outputs": [
    {
     "data": {
      "text/plain": [
       "(4689, 20, 32)"
      ]
     },
     "execution_count": 6,
     "metadata": {},
     "output_type": "execute_result"
    }
   ],
   "source": [
    "X_test = np.load(intermediate_folder / 'test_main_1_sec_audio_mfcc.npy')\n",
    "X_test.shape"
   ]
  },
  {
   "cell_type": "code",
   "execution_count": 7,
   "id": "4c0ed4bc",
   "metadata": {
    "ExecuteTime": {
     "end_time": "2023-07-09T07:22:26.190049Z",
     "start_time": "2023-07-09T07:22:26.115396Z"
    }
   },
   "outputs": [
    {
     "data": {
      "text/plain": [
       "((33566,), (4619,), (4689,))"
      ]
     },
     "execution_count": 7,
     "metadata": {},
     "output_type": "execute_result"
    }
   ],
   "source": [
    "y_train = pd.read_csv(intermediate_folder / 'train_main_1_sec_labels.csv', header=None, index_col=False)[0]\n",
    "y_val = pd.read_csv(intermediate_folder / 'val_main_1_sec_labels.csv', header=None, index_col=False)[0]\n",
    "y_test = pd.read_csv(intermediate_folder / 'test_main_1_sec_labels.csv', header=None, index_col=False)[0]\n",
    "y_train.shape, y_val.shape, y_test.shape"
   ]
  },
  {
   "cell_type": "code",
   "execution_count": 9,
   "id": "e1fa3a02",
   "metadata": {
    "ExecuteTime": {
     "end_time": "2023-07-09T07:22:31.574917Z",
     "start_time": "2023-07-09T07:22:31.566167Z"
    }
   },
   "outputs": [
    {
     "data": {
      "text/plain": [
       "((33566, 20, 32), (33566, 640))"
      ]
     },
     "execution_count": 9,
     "metadata": {},
     "output_type": "execute_result"
    }
   ],
   "source": [
    "X_train.shape, X_train.reshape(X_train.shape[0], -1).shape"
   ]
  },
  {
   "cell_type": "markdown",
   "id": "ba482432",
   "metadata": {},
   "source": [
    "## Flat LogisticRegression"
   ]
  },
  {
   "cell_type": "code",
   "execution_count": 22,
   "id": "5d5e4a52",
   "metadata": {
    "ExecuteTime": {
     "end_time": "2023-07-04T15:26:16.627154Z",
     "start_time": "2023-07-04T15:24:51.238295Z"
    }
   },
   "outputs": [
    {
     "name": "stderr",
     "output_type": "stream",
     "text": [
      "[Parallel(n_jobs=1)]: Using backend SequentialBackend with 1 concurrent workers.\n",
      "C:\\ProgramData\\Anaconda3\\lib\\site-packages\\sklearn\\linear_model\\_logistic.py:763: ConvergenceWarning: lbfgs failed to converge (status=1):\n",
      "STOP: TOTAL NO. of ITERATIONS REACHED LIMIT.\n",
      "\n",
      "Increase the number of iterations (max_iter) or scale the data as shown in:\n",
      "    https://scikit-learn.org/stable/modules/preprocessing.html\n",
      "Please also refer to the documentation for alternative solver options:\n",
      "    https://scikit-learn.org/stable/modules/linear_model.html#logistic-regression\n",
      "  n_iter_i = _check_optimize_result(\n",
      "[Parallel(n_jobs=1)]: Done   1 out of   1 | elapsed:  1.4min finished\n"
     ]
    },
    {
     "name": "stdout",
     "output_type": "stream",
     "text": [
      "              precision    recall  f1-score   support\n",
      "\n",
      "        down       0.05      0.04      0.05       247\n",
      "       eight       0.04      0.03      0.03       226\n",
      "        five       0.06      0.07      0.07       224\n",
      "        four       0.07      0.06      0.07       261\n",
      "          go       0.03      0.03      0.03       231\n",
      "        left       0.03      0.04      0.04       233\n",
      "        nine       0.06      0.07      0.06       215\n",
      "          no       0.05      0.04      0.04       235\n",
      "         off       0.05      0.06      0.05       232\n",
      "          on       0.03      0.03      0.03       234\n",
      "         one       0.04      0.03      0.03       209\n",
      "       right       0.05      0.06      0.05       235\n",
      "       seven       0.05      0.04      0.05       240\n",
      "         six       0.07      0.09      0.08       241\n",
      "        stop       0.05      0.04      0.05       225\n",
      "       three       0.06      0.07      0.07       225\n",
      "         two       0.05      0.06      0.05       214\n",
      "          up       0.05      0.04      0.04       221\n",
      "         yes       0.07      0.07      0.07       232\n",
      "        zero       0.04      0.05      0.05       239\n",
      "\n",
      "    accuracy                           0.05      4619\n",
      "   macro avg       0.05      0.05      0.05      4619\n",
      "weighted avg       0.05      0.05      0.05      4619\n",
      "\n"
     ]
    }
   ],
   "source": [
    "lr_def = LogisticRegression(verbose=1, max_iter=300)\n",
    "lr_def.fit(X_train.reshape(X_train.shape[0], -1), y_train)\n",
    "y_pred_lr = lr_def.predict(X_val.reshape(X_val.shape[0], -1))\n",
    "print(classification_report(y_val, y_pred_lr))"
   ]
  },
  {
   "cell_type": "code",
   "execution_count": 26,
   "id": "d5149485",
   "metadata": {
    "ExecuteTime": {
     "end_time": "2023-07-04T15:39:00.587634Z",
     "start_time": "2023-07-04T15:33:02.394240Z"
    }
   },
   "outputs": [
    {
     "name": "stderr",
     "output_type": "stream",
     "text": [
      "[Parallel(n_jobs=1)]: Using backend SequentialBackend with 1 concurrent workers.\n",
      "C:\\ProgramData\\Anaconda3\\lib\\site-packages\\sklearn\\linear_model\\_logistic.py:763: ConvergenceWarning: lbfgs failed to converge (status=1):\n",
      "STOP: TOTAL NO. of ITERATIONS REACHED LIMIT.\n",
      "\n",
      "Increase the number of iterations (max_iter) or scale the data as shown in:\n",
      "    https://scikit-learn.org/stable/modules/preprocessing.html\n",
      "Please also refer to the documentation for alternative solver options:\n",
      "    https://scikit-learn.org/stable/modules/linear_model.html#logistic-regression\n",
      "  n_iter_i = _check_optimize_result(\n",
      "[Parallel(n_jobs=1)]: Done   1 out of   1 | elapsed:  6.0min finished\n"
     ]
    },
    {
     "name": "stdout",
     "output_type": "stream",
     "text": [
      "              precision    recall  f1-score   support\n",
      "\n",
      "        down       0.07      0.07      0.07       247\n",
      "       eight       0.03      0.02      0.02       226\n",
      "        five       0.07      0.08      0.07       224\n",
      "        four       0.06      0.05      0.06       261\n",
      "          go       0.06      0.06      0.06       231\n",
      "        left       0.04      0.04      0.04       233\n",
      "        nine       0.04      0.05      0.04       215\n",
      "          no       0.07      0.07      0.07       235\n",
      "         off       0.05      0.05      0.05       232\n",
      "          on       0.05      0.04      0.04       234\n",
      "         one       0.04      0.03      0.04       209\n",
      "       right       0.05      0.05      0.05       235\n",
      "       seven       0.07      0.06      0.07       240\n",
      "         six       0.06      0.07      0.07       241\n",
      "        stop       0.04      0.03      0.03       225\n",
      "       three       0.05      0.05      0.05       225\n",
      "         two       0.04      0.05      0.04       214\n",
      "          up       0.03      0.03      0.03       221\n",
      "         yes       0.06      0.07      0.07       232\n",
      "        zero       0.06      0.06      0.06       239\n",
      "\n",
      "    accuracy                           0.05      4619\n",
      "   macro avg       0.05      0.05      0.05      4619\n",
      "weighted avg       0.05      0.05      0.05      4619\n",
      "\n"
     ]
    }
   ],
   "source": [
    "lr_def = LogisticRegression(verbose=1, max_iter=1000)\n",
    "lr_def.fit(X_train.reshape(X_train.shape[0], -1), y_train)\n",
    "y_pred_lr = lr_def.predict(X_val.reshape(X_val.shape[0], -1))\n",
    "print(classification_report(y_val, y_pred_lr))"
   ]
  },
  {
   "cell_type": "markdown",
   "id": "ed33a27e",
   "metadata": {},
   "source": [
    "## Flat Random Forest"
   ]
  },
  {
   "cell_type": "code",
   "execution_count": 27,
   "id": "88884154",
   "metadata": {
    "ExecuteTime": {
     "end_time": "2023-07-04T15:39:08.282286Z",
     "start_time": "2023-07-04T15:39:00.698424Z"
    }
   },
   "outputs": [
    {
     "name": "stderr",
     "output_type": "stream",
     "text": [
      "[Parallel(n_jobs=-1)]: Using backend ThreadingBackend with 8 concurrent workers.\n",
      "[Parallel(n_jobs=-1)]: Done  34 tasks      | elapsed:    2.4s\n",
      "[Parallel(n_jobs=-1)]: Done 100 out of 100 | elapsed:    6.4s finished\n",
      "[Parallel(n_jobs=8)]: Using backend ThreadingBackend with 8 concurrent workers.\n",
      "[Parallel(n_jobs=8)]: Done  34 tasks      | elapsed:    0.0s\n",
      "[Parallel(n_jobs=8)]: Done 100 out of 100 | elapsed:    0.0s finished\n",
      "C:\\ProgramData\\Anaconda3\\lib\\site-packages\\sklearn\\metrics\\_classification.py:1248: UndefinedMetricWarning: Precision and F-score are ill-defined and being set to 0.0 in labels with no predicted samples. Use `zero_division` parameter to control this behavior.\n",
      "  _warn_prf(average, modifier, msg_start, len(result))\n",
      "C:\\ProgramData\\Anaconda3\\lib\\site-packages\\sklearn\\metrics\\_classification.py:1248: UndefinedMetricWarning: Precision and F-score are ill-defined and being set to 0.0 in labels with no predicted samples. Use `zero_division` parameter to control this behavior.\n",
      "  _warn_prf(average, modifier, msg_start, len(result))\n"
     ]
    },
    {
     "name": "stdout",
     "output_type": "stream",
     "text": [
      "              precision    recall  f1-score   support\n",
      "\n",
      "        down       0.00      0.00      0.00       247\n",
      "       eight       0.00      0.00      0.00       226\n",
      "        five       0.00      0.00      0.00       224\n",
      "        four       0.00      0.00      0.00       261\n",
      "          go       0.00      0.00      0.00       231\n",
      "        left       0.00      0.00      0.00       233\n",
      "        nine       0.00      0.00      0.00       215\n",
      "          no       0.00      0.00      0.00       235\n",
      "         off       0.00      0.00      0.00       232\n",
      "          on       0.00      0.00      0.00       234\n",
      "         one       0.00      0.00      0.00       209\n",
      "       right       0.00      0.00      0.00       235\n",
      "       seven       0.00      0.00      0.00       240\n",
      "         six       0.00      0.00      0.00       241\n",
      "        stop       0.00      0.00      0.00       225\n",
      "       three       0.00      0.00      0.00       225\n",
      "         two       0.00      0.00      0.00       214\n",
      "          up       0.00      0.00      0.00       221\n",
      "         yes       0.00      0.00      0.00       232\n",
      "        zero       0.05      1.00      0.10       239\n",
      "\n",
      "    accuracy                           0.05      4619\n",
      "   macro avg       0.00      0.05      0.00      4619\n",
      "weighted avg       0.00      0.05      0.01      4619\n",
      "\n"
     ]
    },
    {
     "name": "stderr",
     "output_type": "stream",
     "text": [
      "C:\\ProgramData\\Anaconda3\\lib\\site-packages\\sklearn\\metrics\\_classification.py:1248: UndefinedMetricWarning: Precision and F-score are ill-defined and being set to 0.0 in labels with no predicted samples. Use `zero_division` parameter to control this behavior.\n",
      "  _warn_prf(average, modifier, msg_start, len(result))\n"
     ]
    }
   ],
   "source": [
    "rf = RandomForestClassifier(n_jobs=-1, verbose=1, min_impurity_decrease=.001)\n",
    "rf.fit(X_train.reshape(X_train.shape[0], -1), y_train)\n",
    "y_pred_rf = rf.predict(X_val.reshape(X_val.shape[0], -1))\n",
    "print(classification_report(y_val, y_pred_rf))"
   ]
  },
  {
   "cell_type": "code",
   "execution_count": 30,
   "id": "0c21f678",
   "metadata": {
    "ExecuteTime": {
     "end_time": "2023-07-04T15:40:52.285239Z",
     "start_time": "2023-07-04T15:40:33.895286Z"
    }
   },
   "outputs": [
    {
     "name": "stderr",
     "output_type": "stream",
     "text": [
      "[Parallel(n_jobs=-1)]: Using backend ThreadingBackend with 8 concurrent workers.\n",
      "[Parallel(n_jobs=-1)]: Done  34 tasks      | elapsed:    6.1s\n",
      "[Parallel(n_jobs=-1)]: Done 100 out of 100 | elapsed:   17.4s finished\n",
      "[Parallel(n_jobs=8)]: Using backend ThreadingBackend with 8 concurrent workers.\n",
      "[Parallel(n_jobs=8)]: Done  34 tasks      | elapsed:    0.1s\n",
      "[Parallel(n_jobs=8)]: Done 100 out of 100 | elapsed:    0.2s finished\n"
     ]
    },
    {
     "name": "stdout",
     "output_type": "stream",
     "text": [
      "              precision    recall  f1-score   support\n",
      "\n",
      "        down       0.14      0.02      0.03       247\n",
      "       eight       0.00      0.00      0.00       226\n",
      "        five       0.03      0.01      0.01       224\n",
      "        four       0.02      0.00      0.01       261\n",
      "          go       0.03      0.00      0.01       231\n",
      "        left       0.12      0.01      0.02       233\n",
      "        nine       0.06      0.11      0.08       215\n",
      "          no       0.15      0.01      0.02       235\n",
      "         off       0.00      0.00      0.00       232\n",
      "          on       0.00      0.00      0.00       234\n",
      "         one       0.00      0.00      0.00       209\n",
      "       right       0.00      0.00      0.00       235\n",
      "       seven       0.07      0.04      0.05       240\n",
      "         six       0.06      0.09      0.07       241\n",
      "        stop       0.08      0.06      0.07       225\n",
      "       three       0.06      0.01      0.02       225\n",
      "         two       0.10      0.01      0.02       214\n",
      "          up       0.09      0.00      0.01       221\n",
      "         yes       0.06      0.01      0.01       232\n",
      "        zero       0.05      0.64      0.09       239\n",
      "\n",
      "    accuracy                           0.05      4619\n",
      "   macro avg       0.06      0.05      0.03      4619\n",
      "weighted avg       0.06      0.05      0.03      4619\n",
      "\n"
     ]
    }
   ],
   "source": [
    "rf = RandomForestClassifier(n_jobs=-1, verbose=1, min_impurity_decrease=.00015)\n",
    "rf.fit(X_train.reshape(X_train.shape[0], -1), y_train)\n",
    "y_pred_rf = rf.predict(X_val.reshape(X_val.shape[0], -1))\n",
    "print(classification_report(y_val, y_pred_rf))"
   ]
  },
  {
   "cell_type": "code",
   "execution_count": 24,
   "id": "4f06a538",
   "metadata": {
    "ExecuteTime": {
     "end_time": "2023-07-04T15:29:36.935632Z",
     "start_time": "2023-07-04T15:26:49.349723Z"
    }
   },
   "outputs": [
    {
     "name": "stderr",
     "output_type": "stream",
     "text": [
      "[Parallel(n_jobs=-1)]: Using backend ThreadingBackend with 8 concurrent workers.\n",
      "[Parallel(n_jobs=-1)]: Done  34 tasks      | elapsed:  1.1min\n",
      "[Parallel(n_jobs=-1)]: Done 100 out of 100 | elapsed:  2.8min finished\n",
      "[Parallel(n_jobs=8)]: Using backend ThreadingBackend with 8 concurrent workers.\n",
      "[Parallel(n_jobs=8)]: Done  34 tasks      | elapsed:    0.0s\n",
      "[Parallel(n_jobs=8)]: Done 100 out of 100 | elapsed:    0.0s finished\n"
     ]
    },
    {
     "name": "stdout",
     "output_type": "stream",
     "text": [
      "              precision    recall  f1-score   support\n",
      "\n",
      "        down       0.06      0.06      0.06       247\n",
      "       eight       0.05      0.05      0.05       226\n",
      "        five       0.07      0.07      0.07       224\n",
      "        four       0.03      0.03      0.03       261\n",
      "          go       0.05      0.05      0.05       231\n",
      "        left       0.05      0.04      0.04       233\n",
      "        nine       0.05      0.07      0.06       215\n",
      "          no       0.04      0.03      0.03       235\n",
      "         off       0.05      0.04      0.04       232\n",
      "          on       0.06      0.06      0.06       234\n",
      "         one       0.04      0.04      0.04       209\n",
      "       right       0.04      0.04      0.04       235\n",
      "       seven       0.07      0.08      0.08       240\n",
      "         six       0.10      0.10      0.10       241\n",
      "        stop       0.05      0.06      0.06       225\n",
      "       three       0.05      0.05      0.05       225\n",
      "         two       0.05      0.05      0.05       214\n",
      "          up       0.08      0.05      0.06       221\n",
      "         yes       0.07      0.07      0.07       232\n",
      "        zero       0.05      0.06      0.05       239\n",
      "\n",
      "    accuracy                           0.06      4619\n",
      "   macro avg       0.06      0.06      0.05      4619\n",
      "weighted avg       0.06      0.06      0.05      4619\n",
      "\n"
     ]
    }
   ],
   "source": [
    "rf = RandomForestClassifier(n_jobs=-1, verbose=1, min_impurity_decrease=.0001)\n",
    "rf.fit(X_train.reshape(X_train.shape[0], -1), y_train)\n",
    "y_pred_rf = rf.predict(X_val.reshape(X_val.shape[0], -1))\n",
    "print(classification_report(y_val, y_pred_rf))"
   ]
  },
  {
   "cell_type": "code",
   "execution_count": 31,
   "id": "2a3e5ec2",
   "metadata": {
    "ExecuteTime": {
     "end_time": "2023-07-04T15:44:44.986921Z",
     "start_time": "2023-07-04T15:41:06.935405Z"
    }
   },
   "outputs": [
    {
     "name": "stderr",
     "output_type": "stream",
     "text": [
      "[Parallel(n_jobs=-1)]: Using backend ThreadingBackend with 8 concurrent workers.\n",
      "[Parallel(n_jobs=-1)]: Done  34 tasks      | elapsed:  1.3min\n",
      "[Parallel(n_jobs=-1)]: Done 100 out of 100 | elapsed:  3.6min finished\n",
      "[Parallel(n_jobs=8)]: Using backend ThreadingBackend with 8 concurrent workers.\n",
      "[Parallel(n_jobs=8)]: Done  34 tasks      | elapsed:    0.0s\n",
      "[Parallel(n_jobs=8)]: Done 100 out of 100 | elapsed:    0.1s finished\n"
     ]
    },
    {
     "name": "stdout",
     "output_type": "stream",
     "text": [
      "              precision    recall  f1-score   support\n",
      "\n",
      "        down       0.07      0.06      0.07       247\n",
      "       eight       0.03      0.03      0.03       226\n",
      "        five       0.06      0.05      0.05       224\n",
      "        four       0.05      0.04      0.04       261\n",
      "          go       0.08      0.07      0.08       231\n",
      "        left       0.05      0.06      0.06       233\n",
      "        nine       0.04      0.05      0.05       215\n",
      "          no       0.08      0.07      0.07       235\n",
      "         off       0.06      0.06      0.06       232\n",
      "          on       0.06      0.06      0.06       234\n",
      "         one       0.03      0.03      0.03       209\n",
      "       right       0.07      0.07      0.07       235\n",
      "       seven       0.07      0.08      0.08       240\n",
      "         six       0.06      0.07      0.07       241\n",
      "        stop       0.05      0.06      0.06       225\n",
      "       three       0.05      0.05      0.05       225\n",
      "         two       0.06      0.06      0.06       214\n",
      "          up       0.06      0.05      0.05       221\n",
      "         yes       0.05      0.05      0.05       232\n",
      "        zero       0.06      0.06      0.06       239\n",
      "\n",
      "    accuracy                           0.06      4619\n",
      "   macro avg       0.06      0.06      0.06      4619\n",
      "weighted avg       0.06      0.06      0.06      4619\n",
      "\n"
     ]
    }
   ],
   "source": [
    "rf = RandomForestClassifier(n_jobs=-1, verbose=1, min_impurity_decrease=.00005)\n",
    "rf.fit(X_train.reshape(X_train.shape[0], -1), y_train)\n",
    "y_pred_rf = rf.predict(X_val.reshape(X_val.shape[0], -1))\n",
    "print(classification_report(y_val, y_pred_rf))"
   ]
  },
  {
   "cell_type": "code",
   "execution_count": 25,
   "id": "22edf6d9",
   "metadata": {
    "ExecuteTime": {
     "end_time": "2023-07-04T15:33:02.282488Z",
     "start_time": "2023-07-04T15:30:15.246492Z"
    }
   },
   "outputs": [
    {
     "name": "stderr",
     "output_type": "stream",
     "text": [
      "[Parallel(n_jobs=-1)]: Using backend ThreadingBackend with 8 concurrent workers.\n",
      "[Parallel(n_jobs=-1)]: Done  34 tasks      | elapsed:  1.1min\n",
      "[Parallel(n_jobs=-1)]: Done 100 out of 100 | elapsed:  2.8min finished\n",
      "[Parallel(n_jobs=8)]: Using backend ThreadingBackend with 8 concurrent workers.\n",
      "[Parallel(n_jobs=8)]: Done  34 tasks      | elapsed:    0.0s\n",
      "[Parallel(n_jobs=8)]: Done 100 out of 100 | elapsed:    0.1s finished\n"
     ]
    },
    {
     "name": "stdout",
     "output_type": "stream",
     "text": [
      "              precision    recall  f1-score   support\n",
      "\n",
      "        down       0.04      0.05      0.05       247\n",
      "       eight       0.05      0.06      0.05       226\n",
      "        five       0.07      0.09      0.08       224\n",
      "        four       0.06      0.06      0.06       261\n",
      "          go       0.05      0.05      0.05       231\n",
      "        left       0.05      0.06      0.05       233\n",
      "        nine       0.05      0.07      0.06       215\n",
      "          no       0.04      0.04      0.04       235\n",
      "         off       0.09      0.09      0.09       232\n",
      "          on       0.04      0.04      0.04       234\n",
      "         one       0.05      0.04      0.04       209\n",
      "       right       0.06      0.06      0.06       235\n",
      "       seven       0.05      0.05      0.05       240\n",
      "         six       0.02      0.02      0.02       241\n",
      "        stop       0.04      0.04      0.04       225\n",
      "       three       0.04      0.04      0.04       225\n",
      "         two       0.08      0.07      0.07       214\n",
      "          up       0.06      0.04      0.05       221\n",
      "         yes       0.03      0.02      0.02       232\n",
      "        zero       0.06      0.05      0.06       239\n",
      "\n",
      "    accuracy                           0.05      4619\n",
      "   macro avg       0.05      0.05      0.05      4619\n",
      "weighted avg       0.05      0.05      0.05      4619\n",
      "\n"
     ]
    }
   ],
   "source": [
    "rf = RandomForestClassifier(n_jobs=-1, verbose=1, min_impurity_decrease=.00001)\n",
    "rf.fit(X_train.reshape(X_train.shape[0], -1), y_train)\n",
    "y_pred_rf = rf.predict(X_val.reshape(X_val.shape[0], -1))\n",
    "print(classification_report(y_val, y_pred_rf))"
   ]
  },
  {
   "cell_type": "code",
   "execution_count": 32,
   "id": "d34efe58",
   "metadata": {
    "ExecuteTime": {
     "end_time": "2023-07-04T15:48:53.961662Z",
     "start_time": "2023-07-04T15:44:45.130729Z"
    }
   },
   "outputs": [
    {
     "name": "stderr",
     "output_type": "stream",
     "text": [
      "[Parallel(n_jobs=-1)]: Using backend ThreadingBackend with 8 concurrent workers.\n",
      "[Parallel(n_jobs=-1)]: Done  34 tasks      | elapsed:  1.6min\n",
      "[Parallel(n_jobs=-1)]: Done 100 out of 100 | elapsed:  4.1min finished\n",
      "[Parallel(n_jobs=8)]: Using backend ThreadingBackend with 8 concurrent workers.\n",
      "[Parallel(n_jobs=8)]: Done  34 tasks      | elapsed:    0.0s\n",
      "[Parallel(n_jobs=8)]: Done 100 out of 100 | elapsed:    0.2s finished\n"
     ]
    },
    {
     "name": "stdout",
     "output_type": "stream",
     "text": [
      "              precision    recall  f1-score   support\n",
      "\n",
      "        down       0.05      0.06      0.05       247\n",
      "       eight       0.04      0.05      0.04       226\n",
      "        five       0.05      0.07      0.06       224\n",
      "        four       0.08      0.08      0.08       261\n",
      "          go       0.05      0.05      0.05       231\n",
      "        left       0.05      0.06      0.05       233\n",
      "        nine       0.06      0.08      0.07       215\n",
      "          no       0.05      0.05      0.05       235\n",
      "         off       0.07      0.06      0.07       232\n",
      "          on       0.04      0.04      0.04       234\n",
      "         one       0.08      0.08      0.08       209\n",
      "       right       0.04      0.04      0.04       235\n",
      "       seven       0.05      0.04      0.05       240\n",
      "         six       0.05      0.05      0.05       241\n",
      "        stop       0.06      0.06      0.06       225\n",
      "       three       0.03      0.03      0.03       225\n",
      "         two       0.03      0.03      0.03       214\n",
      "          up       0.06      0.04      0.04       221\n",
      "         yes       0.02      0.01      0.01       232\n",
      "        zero       0.03      0.03      0.03       239\n",
      "\n",
      "    accuracy                           0.05      4619\n",
      "   macro avg       0.05      0.05      0.05      4619\n",
      "weighted avg       0.05      0.05      0.05      4619\n",
      "\n"
     ]
    }
   ],
   "source": [
    "rf = RandomForestClassifier(n_jobs=-1, verbose=1, min_impurity_decrease=.000001)\n",
    "rf.fit(X_train.reshape(X_train.shape[0], -1), y_train)\n",
    "y_pred_rf = rf.predict(X_val.reshape(X_val.shape[0], -1))\n",
    "print(classification_report(y_val, y_pred_rf))"
   ]
  }
 ],
 "metadata": {
  "hide_input": false,
  "kernelspec": {
   "display_name": "Python 3 (ipykernel)",
   "language": "python",
   "name": "python3"
  },
  "language_info": {
   "codemirror_mode": {
    "name": "ipython",
    "version": 3
   },
   "file_extension": ".py",
   "mimetype": "text/x-python",
   "name": "python",
   "nbconvert_exporter": "python",
   "pygments_lexer": "ipython3",
   "version": "3.9.7"
  },
  "toc": {
   "base_numbering": 1,
   "nav_menu": {},
   "number_sections": true,
   "sideBar": true,
   "skip_h1_title": false,
   "title_cell": "Table of Contents",
   "title_sidebar": "Contents",
   "toc_cell": false,
   "toc_position": {},
   "toc_section_display": true,
   "toc_window_display": true
  },
  "varInspector": {
   "cols": {
    "lenName": 16,
    "lenType": 16,
    "lenVar": 40
   },
   "kernels_config": {
    "python": {
     "delete_cmd_postfix": "",
     "delete_cmd_prefix": "del ",
     "library": "var_list.py",
     "varRefreshCmd": "print(var_dic_list())"
    },
    "r": {
     "delete_cmd_postfix": ") ",
     "delete_cmd_prefix": "rm(",
     "library": "var_list.r",
     "varRefreshCmd": "cat(var_dic_list()) "
    }
   },
   "position": {
    "height": "297.865px",
    "left": "1754.33px",
    "right": "20px",
    "top": "120px",
    "width": "350px"
   },
   "types_to_exclude": [
    "module",
    "function",
    "builtin_function_or_method",
    "instance",
    "_Feature"
   ],
   "window_display": false
  }
 },
 "nbformat": 4,
 "nbformat_minor": 5
}
