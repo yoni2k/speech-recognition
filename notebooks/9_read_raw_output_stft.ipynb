{
 "cells": [
  {
   "cell_type": "code",
   "execution_count": 1,
   "id": "60718ffa",
   "metadata": {
    "ExecuteTime": {
     "end_time": "2023-07-12T09:30:59.292691Z",
     "start_time": "2023-07-12T09:30:59.278641Z"
    }
   },
   "outputs": [],
   "source": [
    "# ! pip install --user librosa"
   ]
  },
  {
   "cell_type": "code",
   "execution_count": 2,
   "id": "c223697b",
   "metadata": {
    "ExecuteTime": {
     "end_time": "2023-07-12T09:31:01.837001Z",
     "start_time": "2023-07-12T09:30:59.294930Z"
    }
   },
   "outputs": [],
   "source": [
    "from pathlib import Path\n",
    "from scipy.io import wavfile\n",
    "import scipy.signal\n",
    "import pandas as pd\n",
    "from tqdm.auto import tqdm\n",
    "import seaborn as sns\n",
    "import matplotlib.pyplot as plt\n",
    "from collections import Counter\n",
    "import numpy as np\n",
    "import os\n",
    "from sklearn.linear_model import LogisticRegression\n",
    "from sklearn.metrics import accuracy_score, classification_report\n",
    "from sklearn.ensemble import RandomForestClassifier\n",
    "import librosa"
   ]
  },
  {
   "cell_type": "markdown",
   "id": "e7aea3ce",
   "metadata": {},
   "source": [
    "## Read data"
   ]
  },
  {
   "cell_type": "code",
   "execution_count": 3,
   "id": "e28503be",
   "metadata": {
    "ExecuteTime": {
     "end_time": "2023-07-12T09:31:01.852194Z",
     "start_time": "2023-07-12T09:31:01.839307Z"
    }
   },
   "outputs": [],
   "source": [
    "intermediate_folder = Path('..') / 'data' / 'intermediate'"
   ]
  },
  {
   "cell_type": "code",
   "execution_count": 4,
   "id": "c3b06050",
   "metadata": {
    "ExecuteTime": {
     "end_time": "2023-07-12T09:31:09.970809Z",
     "start_time": "2023-07-12T09:31:01.853604Z"
    }
   },
   "outputs": [
    {
     "data": {
      "text/plain": [
       "(33566, 16000)"
      ]
     },
     "execution_count": 4,
     "metadata": {},
     "output_type": "execute_result"
    }
   ],
   "source": [
    "X_train = np.load(intermediate_folder / 'train_main_1_sec_audio.npy').astype(float)\n",
    "X_train.shape"
   ]
  },
  {
   "cell_type": "code",
   "execution_count": 5,
   "id": "8819b538",
   "metadata": {
    "ExecuteTime": {
     "end_time": "2023-07-12T09:31:10.002314Z",
     "start_time": "2023-07-12T09:31:09.973761Z"
    }
   },
   "outputs": [
    {
     "data": {
      "text/plain": [
       "array([[-5.00e+00, -4.00e+00, -4.00e+00, ..., -9.00e+00, -7.00e+00,\n",
       "        -1.50e+01],\n",
       "       [-1.30e+02, -1.35e+02, -1.31e+02, ..., -1.54e+02, -1.90e+02,\n",
       "        -2.24e+02],\n",
       "       [ 1.50e+01,  2.90e+01,  1.50e+01, ...,  9.72e+02,  1.09e+03,\n",
       "         9.34e+02],\n",
       "       ...,\n",
       "       [ 1.00e+00,  0.00e+00,  5.00e+00, ...,  1.10e+01,  1.00e+01,\n",
       "         9.00e+00],\n",
       "       [ 1.00e+00, -6.00e+00, -6.00e+00, ..., -1.20e+01, -1.30e+01,\n",
       "        -5.00e+00],\n",
       "       [-3.20e+01, -2.80e+01, -3.90e+01, ..., -2.00e+01, -4.20e+01,\n",
       "        -2.80e+01]])"
      ]
     },
     "execution_count": 5,
     "metadata": {},
     "output_type": "execute_result"
    }
   ],
   "source": [
    "X_train"
   ]
  },
  {
   "cell_type": "code",
   "execution_count": 6,
   "id": "bd5bf69d",
   "metadata": {
    "ExecuteTime": {
     "end_time": "2023-07-12T09:31:11.159511Z",
     "start_time": "2023-07-12T09:31:10.004963Z"
    }
   },
   "outputs": [
    {
     "data": {
      "text/plain": [
       "(33566,)"
      ]
     },
     "execution_count": 6,
     "metadata": {},
     "output_type": "execute_result"
    }
   ],
   "source": [
    "X_train.mean(axis=1).shape"
   ]
  },
  {
   "cell_type": "code",
   "execution_count": 7,
   "id": "eea1c3a3",
   "metadata": {
    "ExecuteTime": {
     "end_time": "2023-07-12T09:31:11.939538Z",
     "start_time": "2023-07-12T09:31:11.161496Z"
    }
   },
   "outputs": [
    {
     "data": {
      "text/plain": [
       "array([-4.78375000e-01, -9.63329375e+01,  1.93625000e-01, ...,\n",
       "        2.33806250e+00,  6.75387500e+00,  7.83125000e-02])"
      ]
     },
     "execution_count": 7,
     "metadata": {},
     "output_type": "execute_result"
    }
   ],
   "source": [
    "X_train.mean(axis=1)"
   ]
  },
  {
   "cell_type": "code",
   "execution_count": 8,
   "id": "135dffdc",
   "metadata": {
    "ExecuteTime": {
     "end_time": "2023-07-12T09:31:12.328123Z",
     "start_time": "2023-07-12T09:31:11.941534Z"
    }
   },
   "outputs": [
    {
     "data": {
      "text/plain": [
       "(4619, 16000)"
      ]
     },
     "execution_count": 8,
     "metadata": {},
     "output_type": "execute_result"
    }
   ],
   "source": [
    "X_val = np.load(intermediate_folder / 'val_main_1_sec_audio.npy').astype(float)\n",
    "X_val.shape"
   ]
  },
  {
   "cell_type": "code",
   "execution_count": 9,
   "id": "38ebe26c",
   "metadata": {
    "ExecuteTime": {
     "end_time": "2023-07-12T09:31:12.750286Z",
     "start_time": "2023-07-12T09:31:12.329189Z"
    }
   },
   "outputs": [
    {
     "data": {
      "text/plain": [
       "(4689, 16000)"
      ]
     },
     "execution_count": 9,
     "metadata": {},
     "output_type": "execute_result"
    }
   ],
   "source": [
    "X_test = np.load(intermediate_folder / 'test_main_1_sec_audio.npy').astype(float)\n",
    "X_test.shape"
   ]
  },
  {
   "cell_type": "code",
   "execution_count": 10,
   "id": "be092f1b",
   "metadata": {
    "ExecuteTime": {
     "end_time": "2023-07-12T09:31:12.765989Z",
     "start_time": "2023-07-12T09:31:12.750783Z"
    }
   },
   "outputs": [],
   "source": [
    "SAMPLE_RATE = 16000"
   ]
  },
  {
   "cell_type": "markdown",
   "id": "d7524df5",
   "metadata": {},
   "source": [
    "## Convert and Save librosa"
   ]
  },
  {
   "cell_type": "code",
   "execution_count": 11,
   "id": "8b679f11",
   "metadata": {
    "ExecuteTime": {
     "end_time": "2023-07-12T09:31:15.515420Z",
     "start_time": "2023-07-12T09:31:12.767280Z"
    }
   },
   "outputs": [
    {
     "name": "stdout",
     "output_type": "stream",
     "text": [
      "Sample shape: (16000,), initial stft stft.shape=(1025, 32), stft.size=32800\n",
      "Before transpose: stft_magnitude.shape=(1025, 32)\n",
      "After transpose: stft_magnitude.shape=(32, 1025)\n",
      "After adding additional dimension stft_data.shape=(32, 1025, 1)\n"
     ]
    }
   ],
   "source": [
    "# Compute STFT\n",
    "stft = librosa.stft(X_train[0])\n",
    "print(f'Sample shape: {X_train[0].shape}, initial stft {stft.shape=}, {stft.size=}')\n",
    "\n",
    "# To ensure all the values are real, get magnitude\n",
    "stft_magnitude, stft_phase = librosa.magphase(stft)\n",
    "print(f'Before transpose: {stft_magnitude.shape=}')\n",
    "\n",
    "# Transpose the result so the rows represent time\n",
    "stft_magnitude = stft_magnitude.T\n",
    "print(f'After transpose: {stft_magnitude.shape=}')\n",
    "\n",
    "# To use this data with a Conv2D layer, it needs to have 4 dimensions: (num_samples, rows, columns, channels)\n",
    "# If we're only using the magnitude (a common choice), we add an extra dimension for channels\n",
    "stft_data = np.expand_dims(stft_magnitude, axis=-1)\n",
    "print(f'After adding additional dimension {stft_data.shape=}')"
   ]
  },
  {
   "cell_type": "code",
   "execution_count": 12,
   "id": "2779a8f4",
   "metadata": {
    "ExecuteTime": {
     "end_time": "2023-07-12T09:31:15.530614Z",
     "start_time": "2023-07-12T09:31:15.520534Z"
    }
   },
   "outputs": [],
   "source": [
    "def get_stft_librosa(raw_audio):\n",
    "    # Compute STFT\n",
    "    stft_magnitude, stft_phase = librosa.magphase(librosa.stft(raw_audio))\n",
    "    return stft_magnitude"
   ]
  },
  {
   "cell_type": "code",
   "execution_count": 13,
   "id": "ffcc28cc",
   "metadata": {
    "ExecuteTime": {
     "end_time": "2023-07-12T09:34:27.777271Z",
     "start_time": "2023-07-12T09:31:15.532563Z"
    }
   },
   "outputs": [
    {
     "data": {
      "application/vnd.jupyter.widget-view+json": {
       "model_id": "4c1e4abd2351495483c845fa1bbb9ac4",
       "version_major": 2,
       "version_minor": 0
      },
      "text/plain": [
       "  0%|          | 0/33566 [00:00<?, ?it/s]"
      ]
     },
     "metadata": {},
     "output_type": "display_data"
    },
    {
     "data": {
      "text/plain": [
       "(33566, 1025, 32)"
      ]
     },
     "execution_count": 13,
     "metadata": {},
     "output_type": "execute_result"
    }
   ],
   "source": [
    "stft_train_list = []\n",
    "\n",
    "for i in tqdm(range(len(X_train))):\n",
    "    stft_train_list.append(get_stft_librosa(X_train[i]))\n",
    "\n",
    "X_train_stft_np = np.stack(stft_train_list)\n",
    "del stft_train_list\n",
    "X_train_stft_np.shape"
   ]
  },
  {
   "cell_type": "code",
   "execution_count": 14,
   "id": "d1734352",
   "metadata": {
    "ExecuteTime": {
     "end_time": "2023-07-12T09:34:42.164842Z",
     "start_time": "2023-07-12T09:34:27.797819Z"
    }
   },
   "outputs": [
    {
     "data": {
      "application/vnd.jupyter.widget-view+json": {
       "model_id": "dbfb13b631de4f3cb558cc78ddf9cd2e",
       "version_major": 2,
       "version_minor": 0
      },
      "text/plain": [
       "  0%|          | 0/4619 [00:00<?, ?it/s]"
      ]
     },
     "metadata": {},
     "output_type": "display_data"
    },
    {
     "data": {
      "text/plain": [
       "(4619, 1025, 32)"
      ]
     },
     "execution_count": 14,
     "metadata": {},
     "output_type": "execute_result"
    }
   ],
   "source": [
    "stft_val_list = []\n",
    "\n",
    "for i in tqdm(range(len(X_val))):\n",
    "    stft_val_list.append(get_stft_librosa(X_val[i]))\n",
    "\n",
    "X_val_stft_np = np.stack(stft_val_list)\n",
    "del stft_val_list\n",
    "X_val_stft_np.shape"
   ]
  },
  {
   "cell_type": "code",
   "execution_count": 15,
   "id": "71b113c8",
   "metadata": {
    "ExecuteTime": {
     "end_time": "2023-07-12T09:35:00.698633Z",
     "start_time": "2023-07-12T09:34:42.167743Z"
    }
   },
   "outputs": [
    {
     "data": {
      "application/vnd.jupyter.widget-view+json": {
       "model_id": "f0819b62178b49fb80bf16a1c1989b79",
       "version_major": 2,
       "version_minor": 0
      },
      "text/plain": [
       "  0%|          | 0/4689 [00:00<?, ?it/s]"
      ]
     },
     "metadata": {},
     "output_type": "display_data"
    },
    {
     "data": {
      "text/plain": [
       "(4689, 1025, 32)"
      ]
     },
     "execution_count": 15,
     "metadata": {},
     "output_type": "execute_result"
    }
   ],
   "source": [
    "stft_test_list = []\n",
    "\n",
    "for i in tqdm(range(len(X_test))):\n",
    "    stft_test_list.append(get_stft_librosa(X_test[i]))\n",
    "\n",
    "X_test_stft_np = np.stack(stft_test_list)\n",
    "del stft_test_list\n",
    "X_test_stft_np.shape"
   ]
  },
  {
   "cell_type": "code",
   "execution_count": 16,
   "id": "b795940a",
   "metadata": {
    "ExecuteTime": {
     "end_time": "2023-07-12T09:37:38.983375Z",
     "start_time": "2023-07-12T09:35:00.723369Z"
    }
   },
   "outputs": [],
   "source": [
    "np.save(intermediate_folder / 'train_main_1_sec_audio_stft_librosa.npy', X_train_stft_np)"
   ]
  },
  {
   "cell_type": "code",
   "execution_count": 17,
   "id": "ca342567",
   "metadata": {
    "ExecuteTime": {
     "end_time": "2023-07-12T09:37:58.083184Z",
     "start_time": "2023-07-12T09:37:39.019946Z"
    }
   },
   "outputs": [],
   "source": [
    "np.save(intermediate_folder / 'val_main_1_sec_audio_stft_librosa.npy', X_val_stft_np)"
   ]
  },
  {
   "cell_type": "code",
   "execution_count": 18,
   "id": "503bfd52",
   "metadata": {
    "ExecuteTime": {
     "end_time": "2023-07-12T09:38:17.079133Z",
     "start_time": "2023-07-12T09:37:58.086869Z"
    }
   },
   "outputs": [],
   "source": [
    "np.save(intermediate_folder / 'test_main_1_sec_audio_stft_librosa.npy', X_test_stft_np)"
   ]
  },
  {
   "cell_type": "markdown",
   "id": "085dd7bd",
   "metadata": {},
   "source": [
    "## Convert and Save Scipy"
   ]
  },
  {
   "cell_type": "code",
   "execution_count": 19,
   "id": "57660903",
   "metadata": {
    "ExecuteTime": {
     "end_time": "2023-07-12T09:38:17.421408Z",
     "start_time": "2023-07-12T09:38:17.143017Z"
    }
   },
   "outputs": [
    {
     "data": {
      "text/plain": [
       "((129,), (126,), (129, 126))"
      ]
     },
     "execution_count": 19,
     "metadata": {},
     "output_type": "execute_result"
    }
   ],
   "source": [
    "# Compute the STFT\n",
    "frequencies, times, Zxx = scipy.signal.stft(X_train[0], fs=SAMPLE_RATE) # , nperseg=128, noverlap=56)\n",
    "\n",
    "# Note: nperseg (number of samples per segment) and noverlap (number of samples to overlap) \n",
    "# can be adjusted according to your needs\n",
    "\n",
    "# Compute the magnitude (absolute value) of the STFT complex numbers\n",
    "Zxx = np.abs(Zxx)\n",
    "frequencies.shape, times.shape, Zxx.shape\n",
    "\n",
    "\n",
    "# # Plot the spectrogram\n",
    "# plt.pcolormesh(times, frequencies, 10 * np.log10(Zxx), shading='gouraud')\n",
    "# plt.title('Spectrogram')\n",
    "# plt.ylabel('Frequency [Hz]')\n",
    "# plt.xlabel('Time [sec]')\n",
    "# plt.show()"
   ]
  },
  {
   "cell_type": "code",
   "execution_count": 20,
   "id": "7d5c3051",
   "metadata": {
    "ExecuteTime": {
     "end_time": "2023-07-12T09:38:17.437530Z",
     "start_time": "2023-07-12T09:38:17.424022Z"
    }
   },
   "outputs": [],
   "source": [
    "def get_stft_scipy(raw_audio):\n",
    "    frequencies, times, Zxx = scipy.signal.stft(raw_audio, fs=SAMPLE_RATE) # , nperseg=128, noverlap=56)\n",
    "    return np.abs(Zxx)"
   ]
  },
  {
   "cell_type": "code",
   "execution_count": 21,
   "id": "9d02b8cb",
   "metadata": {
    "ExecuteTime": {
     "end_time": "2023-07-12T09:41:58.321379Z",
     "start_time": "2023-07-12T09:38:17.440495Z"
    }
   },
   "outputs": [
    {
     "data": {
      "application/vnd.jupyter.widget-view+json": {
       "model_id": "cbe8ba2401984366b346dea286ea96c3",
       "version_major": 2,
       "version_minor": 0
      },
      "text/plain": [
       "  0%|          | 0/33566 [00:00<?, ?it/s]"
      ]
     },
     "metadata": {},
     "output_type": "display_data"
    },
    {
     "data": {
      "text/plain": [
       "(33566, 129, 126)"
      ]
     },
     "execution_count": 21,
     "metadata": {},
     "output_type": "execute_result"
    }
   ],
   "source": [
    "stft_train_list = []\n",
    "\n",
    "for i in tqdm(range(len(X_train))):\n",
    "    stft_train_list.append(get_stft_scipy(X_train[i]))\n",
    "\n",
    "X_train_stft_np = np.stack(stft_train_list)\n",
    "del stft_train_list\n",
    "X_train_stft_np.shape"
   ]
  },
  {
   "cell_type": "code",
   "execution_count": 22,
   "id": "b972a021",
   "metadata": {
    "ExecuteTime": {
     "end_time": "2023-07-12T09:42:08.636027Z",
     "start_time": "2023-07-12T09:41:58.368970Z"
    }
   },
   "outputs": [
    {
     "data": {
      "application/vnd.jupyter.widget-view+json": {
       "model_id": "6007f660280c46b58631920f66971b16",
       "version_major": 2,
       "version_minor": 0
      },
      "text/plain": [
       "  0%|          | 0/4619 [00:00<?, ?it/s]"
      ]
     },
     "metadata": {},
     "output_type": "display_data"
    },
    {
     "data": {
      "text/plain": [
       "(4619, 129, 126)"
      ]
     },
     "execution_count": 22,
     "metadata": {},
     "output_type": "execute_result"
    }
   ],
   "source": [
    "stft_val_list = []\n",
    "\n",
    "for i in tqdm(range(len(X_val))):\n",
    "    stft_val_list.append(get_stft_scipy(X_val[i]))\n",
    "\n",
    "X_val_stft_np = np.stack(stft_val_list)\n",
    "del stft_val_list\n",
    "X_val_stft_np.shape"
   ]
  },
  {
   "cell_type": "code",
   "execution_count": 23,
   "id": "027f2a5a",
   "metadata": {
    "ExecuteTime": {
     "end_time": "2023-07-12T09:42:23.194979Z",
     "start_time": "2023-07-12T09:42:08.641006Z"
    }
   },
   "outputs": [
    {
     "data": {
      "application/vnd.jupyter.widget-view+json": {
       "model_id": "ce6ea9c808804271b5022c236047e95f",
       "version_major": 2,
       "version_minor": 0
      },
      "text/plain": [
       "  0%|          | 0/4689 [00:00<?, ?it/s]"
      ]
     },
     "metadata": {},
     "output_type": "display_data"
    },
    {
     "data": {
      "text/plain": [
       "(4689, 129, 126)"
      ]
     },
     "execution_count": 23,
     "metadata": {},
     "output_type": "execute_result"
    }
   ],
   "source": [
    "stft_test_list = []\n",
    "\n",
    "for i in tqdm(range(len(X_test))):\n",
    "    stft_test_list.append(get_stft_scipy(X_test[i]))\n",
    "\n",
    "X_test_stft_np = np.stack(stft_test_list)\n",
    "del stft_test_list\n",
    "X_test_stft_np.shape"
   ]
  },
  {
   "cell_type": "code",
   "execution_count": 24,
   "id": "1d810b3f",
   "metadata": {
    "ExecuteTime": {
     "end_time": "2023-07-12T09:43:36.611783Z",
     "start_time": "2023-07-12T09:42:23.245745Z"
    }
   },
   "outputs": [],
   "source": [
    "np.save(intermediate_folder / 'train_main_1_sec_audio_stft_scipy.npy', X_train_stft_np)"
   ]
  },
  {
   "cell_type": "code",
   "execution_count": 25,
   "id": "b771df31",
   "metadata": {
    "ExecuteTime": {
     "end_time": "2023-07-12T09:43:44.854788Z",
     "start_time": "2023-07-12T09:43:36.645598Z"
    }
   },
   "outputs": [],
   "source": [
    "np.save(intermediate_folder / 'val_main_1_sec_audio_stft_scipy.npy', X_val_stft_np)"
   ]
  },
  {
   "cell_type": "code",
   "execution_count": 26,
   "id": "40724f95",
   "metadata": {
    "ExecuteTime": {
     "end_time": "2023-07-12T09:43:53.161644Z",
     "start_time": "2023-07-12T09:43:44.871535Z"
    }
   },
   "outputs": [],
   "source": [
    "np.save(intermediate_folder / 'test_main_1_sec_audio_stft_scipy.npy', X_test_stft_np)"
   ]
  }
 ],
 "metadata": {
  "hide_input": false,
  "kernelspec": {
   "display_name": "Python 3 (ipykernel)",
   "language": "python",
   "name": "python3"
  },
  "language_info": {
   "codemirror_mode": {
    "name": "ipython",
    "version": 3
   },
   "file_extension": ".py",
   "mimetype": "text/x-python",
   "name": "python",
   "nbconvert_exporter": "python",
   "pygments_lexer": "ipython3",
   "version": "3.9.7"
  },
  "toc": {
   "base_numbering": 1,
   "nav_menu": {},
   "number_sections": true,
   "sideBar": true,
   "skip_h1_title": false,
   "title_cell": "Table of Contents",
   "title_sidebar": "Contents",
   "toc_cell": false,
   "toc_position": {},
   "toc_section_display": true,
   "toc_window_display": true
  },
  "varInspector": {
   "cols": {
    "lenName": 16,
    "lenType": 16,
    "lenVar": 40
   },
   "kernels_config": {
    "python": {
     "delete_cmd_postfix": "",
     "delete_cmd_prefix": "del ",
     "library": "var_list.py",
     "varRefreshCmd": "print(var_dic_list())"
    },
    "r": {
     "delete_cmd_postfix": ") ",
     "delete_cmd_prefix": "rm(",
     "library": "var_list.r",
     "varRefreshCmd": "cat(var_dic_list()) "
    }
   },
   "position": {
    "height": "297.865px",
    "left": "1754.33px",
    "right": "20px",
    "top": "120px",
    "width": "350px"
   },
   "types_to_exclude": [
    "module",
    "function",
    "builtin_function_or_method",
    "instance",
    "_Feature"
   ],
   "window_display": false
  }
 },
 "nbformat": 4,
 "nbformat_minor": 5
}
