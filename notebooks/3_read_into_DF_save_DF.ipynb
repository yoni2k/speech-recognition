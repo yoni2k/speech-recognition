{
 "cells": [
  {
   "cell_type": "code",
   "execution_count": 1,
   "id": "c223697b",
   "metadata": {
    "ExecuteTime": {
     "end_time": "2023-07-12T08:34:58.075809Z",
     "start_time": "2023-07-12T08:34:54.730588Z"
    }
   },
   "outputs": [],
   "source": [
    "from pathlib import Path\n",
    "from scipy.io import wavfile\n",
    "import scipy.signal\n",
    "import pandas as pd\n",
    "from tqdm.auto import tqdm\n",
    "import seaborn as sns\n",
    "import matplotlib.pyplot as plt\n",
    "from collections import Counter\n",
    "import numpy as np\n",
    "import os"
   ]
  },
  {
   "cell_type": "code",
   "execution_count": 3,
   "id": "7b4efbbd",
   "metadata": {
    "ExecuteTime": {
     "end_time": "2023-07-12T08:38:03.748722Z",
     "start_time": "2023-07-12T08:37:55.176471Z"
    }
   },
   "outputs": [
    {
     "data": {
      "text/plain": [
       "64721"
      ]
     },
     "execution_count": 3,
     "metadata": {},
     "output_type": "execute_result"
    }
   ],
   "source": [
    "root_folder = Path('..') / 'data' / 'train' / 'audio'\n",
    "\n",
    "lines = []\n",
    "\n",
    "set_all = set()\n",
    "\n",
    "for path in root_folder.rglob('*'):\n",
    "    if '_background_noise_' not in path.parts and path.is_file():\n",
    "        set_all.add(str(path.relative_to(root_folder)))\n",
    "\n",
    "len(set_all)"
   ]
  },
  {
   "cell_type": "code",
   "execution_count": 4,
   "id": "1efcd687",
   "metadata": {
    "ExecuteTime": {
     "end_time": "2023-07-12T08:38:03.873872Z",
     "start_time": "2023-07-12T08:38:03.845152Z"
    }
   },
   "outputs": [
    {
     "name": "stdout",
     "output_type": "stream",
     "text": [
      "All 64721, train 51088, val 6798, test 6835\n"
     ]
    }
   ],
   "source": [
    "val_list_file = Path('..') / 'data' / 'train' / 'validation_list.txt'\n",
    "test_list_file = Path('..') / 'data' / 'train' / 'testing_list.txt'\n",
    "\n",
    "with open(val_list_file, 'r') as file:\n",
    "    set_val_all = set(line.strip().replace('/', '\\\\') for line in file)\n",
    "with open(test_list_file, 'r') as file:\n",
    "    set_test_all = set(line.strip().replace('/', '\\\\') for line in file)\n",
    "        \n",
    "set_train_all = set_all - set_val_all - set_test_all\n",
    "print(f'All {len(set_all)}, train {len(set_train_all)}, val {len(set_val_all)}, test {len(set_test_all)}')"
   ]
  },
  {
   "cell_type": "code",
   "execution_count": 5,
   "id": "00853d61",
   "metadata": {
    "ExecuteTime": {
     "end_time": "2023-07-12T08:39:33.385764Z",
     "start_time": "2023-07-12T08:39:20.096961Z"
    }
   },
   "outputs": [
    {
     "name": "stdout",
     "output_type": "stream",
     "text": [
      "Main folders: ['on', 'four', 'yes', 'nine', 'three', 'no', 'stop', 'five', 'right', 'down', 'one', 'eight', 'off', 'zero', 'two', 'up', 'six', 'go', 'left', 'seven']\n",
      "All 64721, main 47348, not main 17380, train 37158, val 5071, test 5119\n"
     ]
    }
   ],
   "source": [
    "folders_main = ['on', 'four', 'yes', 'nine', 'three', 'no', 'stop', 'five', 'right', 'down', 'one', 'eight', 'off', 'zero', 'two', 'up', 'six', 'go', 'left', 'seven']\n",
    "print('Main folders:', folders_main)\n",
    "\n",
    "folders_main_ser = pd.Series(list(folders_main))\n",
    "set_not_main = {str(path.relative_to(root_folder))\n",
    "                for path in root_folder.rglob('*')\n",
    "                if not folders_main_ser.isin(path.parts).any() and path.is_file()}\n",
    "        \n",
    "set_main = set_all - set_not_main        \n",
    "set_train_main = set_train_all - set_not_main\n",
    "set_val_main = set_val_all - set_not_main\n",
    "set_test_main = set_test_all - set_not_main\n",
    "print(f'All {len(set_all)}, main {len(set_main)}, not main {len(set_not_main)}, train {len(set_train_main)}, val {len(set_val_main)}, test {len(set_test_main)}')"
   ]
  },
  {
   "cell_type": "code",
   "execution_count": 6,
   "id": "c393733a",
   "metadata": {
    "ExecuteTime": {
     "end_time": "2023-07-12T08:46:46.946202Z",
     "start_time": "2023-07-12T08:39:51.264550Z"
    }
   },
   "outputs": [
    {
     "data": {
      "application/vnd.jupyter.widget-view+json": {
       "model_id": "187f6c0595fd4ecab072feb5f0bfeaca",
       "version_major": 2,
       "version_minor": 0
      },
      "text/plain": [
       "  0%|          | 0/64721 [00:00<?, ?it/s]"
      ]
     },
     "metadata": {},
     "output_type": "display_data"
    },
    {
     "name": "stdout",
     "output_type": "stream",
     "text": [
      "All 64721, 1 sec 58252, not 1 sec 6469\n"
     ]
    }
   ],
   "source": [
    "list_1_sec = []\n",
    "lengths_list = []\n",
    "\n",
    "for f in tqdm(set_all):\n",
    "    _, data = wavfile.read(root_folder / f)\n",
    "    if len(data) == 16000:\n",
    "        list_1_sec.append(f)\n",
    "    lengths_list.append(len(data))\n",
    "    \n",
    "set_1_sec = set(list_1_sec)\n",
    "del list_1_sec\n",
    "lengths = Counter(lengths_list)\n",
    "del lengths_list\n",
    "set_not_1_sec = set_all - set_1_sec\n",
    "print(f'All {len(set_all)}, 1 sec {len(set_1_sec)}, not 1 sec {len(set_not_1_sec)}')"
   ]
  },
  {
   "cell_type": "code",
   "execution_count": 7,
   "id": "b06f9381",
   "metadata": {
    "ExecuteTime": {
     "end_time": "2023-07-12T08:46:47.569854Z",
     "start_time": "2023-07-12T08:46:47.275822Z"
    }
   },
   "outputs": [
    {
     "data": {
      "image/png": "[encoded data removed]",
      "text/plain": [
       "<Figure size 720x432 with 1 Axes>"
      ]
     },
     "metadata": {
      "needs_background": "light"
     },
     "output_type": "display_data"
    }
   ],
   "source": [
    "plt.figure(figsize=(10, 6))\n",
    "plt.plot(pd.Series(lengths).sort_index().cumsum() / sum(lengths.values()) * 100)\n",
    "plt.grid(axis='y', which='both')\n",
    "plt.xlabel('Num samples')\n",
    "plt.ylabel('Cumalative %')\n",
    "plt.title('Cumalative % of num samples (audio length)')\n",
    "plt.show()"
   ]
  },
  {
   "cell_type": "code",
   "execution_count": 8,
   "id": "701f142f",
   "metadata": {
    "ExecuteTime": {
     "end_time": "2023-07-12T08:46:47.913256Z",
     "start_time": "2023-07-12T08:46:47.900273Z"
    }
   },
   "outputs": [
    {
     "name": "stdout",
     "output_type": "stream",
     "text": [
      "Files (not including background noise): 64721, 1 sec 58252,  not 1 sec 6469\n",
      "Main 47348, main 1 sec 42874, train 33566, val 4619, test 4689\n"
     ]
    }
   ],
   "source": [
    "set_main_1_sec = set_main - set_not_1_sec        \n",
    "set_train_main_1_sec = set_train_main - set_not_1_sec\n",
    "set_val_main_1_sec = set_val_main - set_not_1_sec\n",
    "set_test_main_1_sec = set_test_main - set_not_1_sec\n",
    "\n",
    "print(f'Files (not including background noise): {len(set_all)}, 1 sec {len(set_1_sec)},  not 1 sec {len(set_not_1_sec)}')\n",
    "print(f'Main {len(set_main)}, main 1 sec {len(set_main_1_sec)}, train {len(set_train_main_1_sec)}, val {len(set_val_main_1_sec)}, test {len(set_test_main_1_sec)}')"
   ]
  },
  {
   "cell_type": "code",
   "execution_count": 16,
   "id": "8340ad06",
   "metadata": {
    "ExecuteTime": {
     "end_time": "2023-07-12T08:50:12.376990Z",
     "start_time": "2023-07-12T08:50:12.369629Z"
    }
   },
   "outputs": [
    {
     "data": {
      "text/plain": [
       "['up\\\\3ea77ede_nohash_1.wav',\n",
       " 'zero\\\\b59fe16d_nohash_1.wav',\n",
       " 'up\\\\5efb758c_nohash_0.wav',\n",
       " 'yes\\\\25132942_nohash_2.wav',\n",
       " 'seven\\\\190821dc_nohash_1.wav',\n",
       " 'down\\\\1625acd8_nohash_2.wav',\n",
       " 'right\\\\8a28231e_nohash_2.wav',\n",
       " 'stop\\\\6078eb0d_nohash_0.wav',\n",
       " 'seven\\\\512dc91a_nohash_0.wav',\n",
       " 'right\\\\ce7a8e92_nohash_1.wav']"
      ]
     },
     "execution_count": 16,
     "metadata": {},
     "output_type": "execute_result"
    }
   ],
   "source": [
    "list(set_train_main_1_sec)[:10]"
   ]
  },
  {
   "cell_type": "code",
   "execution_count": 14,
   "id": "ad2d205d",
   "metadata": {
    "ExecuteTime": {
     "end_time": "2023-07-12T08:49:54.394330Z",
     "start_time": "2023-07-12T08:49:54.376361Z"
    }
   },
   "outputs": [
    {
     "data": {
      "text/plain": [
       "['left\\\\f84762e5_nohash_0.wav',\n",
       " 'up\\\\264f471d_nohash_4.wav',\n",
       " 'eight\\\\56eb74ae_nohash_4.wav',\n",
       " 'five\\\\7fd25f7c_nohash_0.wav',\n",
       " 'four\\\\56eb74ae_nohash_4.wav',\n",
       " 'zero\\\\e54a0f16_nohash_3.wav',\n",
       " 'yes\\\\eb0857c0_nohash_0.wav',\n",
       " 'right\\\\61bcb275_nohash_0.wav',\n",
       " 'yes\\\\e8e960fd_nohash_0.wav',\n",
       " 'on\\\\409c962a_nohash_1.wav']"
      ]
     },
     "execution_count": 14,
     "metadata": {},
     "output_type": "execute_result"
    }
   ],
   "source": [
    "list(set_val_main_1_sec)[:10]"
   ]
  },
  {
   "cell_type": "code",
   "execution_count": 15,
   "id": "fa1dc85a",
   "metadata": {
    "ExecuteTime": {
     "end_time": "2023-07-12T08:50:01.844476Z",
     "start_time": "2023-07-12T08:50:01.832921Z"
    }
   },
   "outputs": [
    {
     "data": {
      "text/plain": [
       "['two\\\\37dca74f_nohash_1.wav',\n",
       " 'zero\\\\964e8cfd_nohash_4.wav',\n",
       " 'nine\\\\0f250098_nohash_0.wav',\n",
       " 'five\\\\a1533da4_nohash_1.wav',\n",
       " 'no\\\\9a69672b_nohash_3.wav',\n",
       " 'on\\\\964e8cfd_nohash_4.wav',\n",
       " 'five\\\\692a88e6_nohash_2.wav',\n",
       " 'nine\\\\a591c2ea_nohash_3.wav',\n",
       " 'four\\\\587f3271_nohash_2.wav',\n",
       " 'two\\\\8494fba8_nohash_0.wav']"
      ]
     },
     "execution_count": 15,
     "metadata": {},
     "output_type": "execute_result"
    }
   ],
   "source": [
    "list(set_test_main_1_sec)[:10]"
   ]
  },
  {
   "cell_type": "code",
   "execution_count": 12,
   "id": "aa3ae6a2",
   "metadata": {
    "ExecuteTime": {
     "end_time": "2023-07-12T08:49:16.318567Z",
     "start_time": "2023-07-12T08:48:07.808784Z"
    }
   },
   "outputs": [
    {
     "data": {
      "application/vnd.jupyter.widget-view+json": {
       "model_id": "ec1f0840ac294577926122661d276005",
       "version_major": 2,
       "version_minor": 0
      },
      "text/plain": [
       "  0%|          | 0/33566 [00:00<?, ?it/s]"
      ]
     },
     "metadata": {},
     "output_type": "display_data"
    },
    {
     "data": {
      "text/plain": [
       "((33566, 16000), 33566)"
      ]
     },
     "execution_count": 12,
     "metadata": {},
     "output_type": "execute_result"
    }
   ],
   "source": [
    "train_main_1_sec_list = []\n",
    "train_main_1_sec_labels = []\n",
    "\n",
    "for f in tqdm(sorted(set_train_main_1_sec)):\n",
    "    _, data = wavfile.read(root_folder / f)\n",
    "    train_main_1_sec_list.append(data)\n",
    "    train_main_1_sec_labels.append(os.path.basename(os.path.dirname(f)))\n",
    "\n",
    "train_main_1_sec_np = np.stack(train_main_1_sec_list)\n",
    "train_main_1_sec_np.shape, len(train_main_1_sec_labels)"
   ]
  },
  {
   "cell_type": "code",
   "execution_count": 17,
   "id": "13862963",
   "metadata": {
    "ExecuteTime": {
     "end_time": "2023-07-12T08:50:41.349300Z",
     "start_time": "2023-07-12T08:50:41.337509Z"
    }
   },
   "outputs": [
    {
     "data": {
      "text/plain": [
       "['down',\n",
       " 'down',\n",
       " 'down',\n",
       " 'down',\n",
       " 'down',\n",
       " 'down',\n",
       " 'down',\n",
       " 'down',\n",
       " 'down',\n",
       " 'down']"
      ]
     },
     "execution_count": 17,
     "metadata": {},
     "output_type": "execute_result"
    }
   ],
   "source": [
    "train_main_1_sec_labels[:10]"
   ]
  },
  {
   "cell_type": "code",
   "execution_count": 20,
   "id": "c4968423",
   "metadata": {
    "ExecuteTime": {
     "end_time": "2023-07-12T08:52:05.681239Z",
     "start_time": "2023-07-12T08:52:05.672553Z"
    }
   },
   "outputs": [
    {
     "data": {
      "text/plain": [
       "array([[  -5,   -4,   -4, ...,   -9,   -7,  -15],\n",
       "       [-130, -135, -131, ..., -154, -190, -224],\n",
       "       [  15,   29,   15, ...,  972, 1090,  934],\n",
       "       ...,\n",
       "       [   1,    0,    5, ...,   11,   10,    9],\n",
       "       [   1,   -6,   -6, ...,  -12,  -13,   -5],\n",
       "       [ -32,  -28,  -39, ...,  -20,  -42,  -28]], dtype=int16)"
      ]
     },
     "execution_count": 20,
     "metadata": {},
     "output_type": "execute_result"
    }
   ],
   "source": [
    "train_main_1_sec_np"
   ]
  },
  {
   "cell_type": "code",
   "execution_count": 25,
   "id": "9683a13b",
   "metadata": {
    "ExecuteTime": {
     "end_time": "2023-07-12T08:54:39.123695Z",
     "start_time": "2023-07-12T08:54:38.344824Z"
    }
   },
   "outputs": [
    {
     "data": {
      "text/plain": [
       "(33566,)"
      ]
     },
     "execution_count": 25,
     "metadata": {},
     "output_type": "execute_result"
    }
   ],
   "source": [
    "train_main_1_sec_np.mean(axis=1).shape"
   ]
  },
  {
   "cell_type": "code",
   "execution_count": 26,
   "id": "5d66aebe",
   "metadata": {
    "ExecuteTime": {
     "end_time": "2023-07-12T08:54:46.359120Z",
     "start_time": "2023-07-12T08:54:45.598301Z"
    }
   },
   "outputs": [
    {
     "data": {
      "text/plain": [
       "array([-4.78375000e-01, -9.63329375e+01,  1.93625000e-01, ...,\n",
       "        2.33806250e+00,  6.75387500e+00,  7.83125000e-02])"
      ]
     },
     "execution_count": 26,
     "metadata": {},
     "output_type": "execute_result"
    }
   ],
   "source": [
    "train_main_1_sec_np.mean(axis=1)"
   ]
  },
  {
   "cell_type": "code",
   "execution_count": 21,
   "id": "6011d4cc",
   "metadata": {
    "ExecuteTime": {
     "end_time": "2023-07-12T08:53:25.195978Z",
     "start_time": "2023-07-12T08:53:03.104389Z"
    }
   },
   "outputs": [
    {
     "data": {
      "application/vnd.jupyter.widget-view+json": {
       "model_id": "91dbcda0d51542da9dda1641f75b292f",
       "version_major": 2,
       "version_minor": 0
      },
      "text/plain": [
       "  0%|          | 0/4619 [00:00<?, ?it/s]"
      ]
     },
     "metadata": {},
     "output_type": "display_data"
    },
    {
     "data": {
      "text/plain": [
       "((4619, 16000), 4619)"
      ]
     },
     "execution_count": 21,
     "metadata": {},
     "output_type": "execute_result"
    }
   ],
   "source": [
    "val_main_1_sec_list = []\n",
    "val_main_1_sec_labels = []\n",
    "\n",
    "for f in tqdm(sorted(set_val_main_1_sec)):\n",
    "    _, data = wavfile.read(root_folder / f)\n",
    "    val_main_1_sec_list.append(data)\n",
    "    val_main_1_sec_labels.append(os.path.basename(os.path.dirname(f)))\n",
    "\n",
    "val_main_1_sec_np = np.stack(val_main_1_sec_list)\n",
    "val_main_1_sec_np.shape, len(val_main_1_sec_labels)"
   ]
  },
  {
   "cell_type": "code",
   "execution_count": 22,
   "id": "da6edd70",
   "metadata": {
    "ExecuteTime": {
     "end_time": "2023-07-12T08:53:53.447373Z",
     "start_time": "2023-07-12T08:53:31.140336Z"
    }
   },
   "outputs": [
    {
     "data": {
      "application/vnd.jupyter.widget-view+json": {
       "model_id": "fad3c6a9f3b1461d8eb797764521b88e",
       "version_major": 2,
       "version_minor": 0
      },
      "text/plain": [
       "  0%|          | 0/4689 [00:00<?, ?it/s]"
      ]
     },
     "metadata": {},
     "output_type": "display_data"
    },
    {
     "data": {
      "text/plain": [
       "((4689, 16000), 4689)"
      ]
     },
     "execution_count": 22,
     "metadata": {},
     "output_type": "execute_result"
    }
   ],
   "source": [
    "test_main_1_sec_list = []\n",
    "test_main_1_sec_labels = []\n",
    "\n",
    "for f in tqdm(sorted(set_test_main_1_sec)):\n",
    "    _, data = wavfile.read(root_folder / f)\n",
    "    test_main_1_sec_list.append(data)\n",
    "    test_main_1_sec_labels.append(os.path.basename(os.path.dirname(f)))\n",
    "\n",
    "test_main_1_sec_np = np.stack(test_main_1_sec_list)\n",
    "test_main_1_sec_np.shape, len(test_main_1_sec_labels)"
   ]
  },
  {
   "cell_type": "code",
   "execution_count": 23,
   "id": "d774e942",
   "metadata": {
    "ExecuteTime": {
     "end_time": "2023-07-12T08:54:00.074281Z",
     "start_time": "2023-07-12T08:54:00.060258Z"
    }
   },
   "outputs": [],
   "source": [
    "out_intermediate_folder = Path('..') / 'data' / 'intermediate'"
   ]
  },
  {
   "cell_type": "code",
   "execution_count": 27,
   "id": "370fbcac",
   "metadata": {
    "ExecuteTime": {
     "end_time": "2023-07-12T08:56:15.583814Z",
     "start_time": "2023-07-12T08:56:14.320195Z"
    }
   },
   "outputs": [],
   "source": [
    "np.save(out_intermediate_folder / 'train_main_1_sec_audio.npy', train_main_1_sec_np)"
   ]
  },
  {
   "cell_type": "code",
   "execution_count": 28,
   "id": "89aed352",
   "metadata": {
    "ExecuteTime": {
     "end_time": "2023-07-12T08:56:23.174093Z",
     "start_time": "2023-07-12T08:56:22.381060Z"
    }
   },
   "outputs": [],
   "source": [
    "np.save(out_intermediate_folder / 'train_main_1_sec_audio_means.npy', train_main_1_sec_np.mean(axis=1))"
   ]
  },
  {
   "cell_type": "code",
   "execution_count": 29,
   "id": "9dfd4546",
   "metadata": {
    "ExecuteTime": {
     "end_time": "2023-07-12T08:56:29.755058Z",
     "start_time": "2023-07-12T08:56:29.601476Z"
    }
   },
   "outputs": [],
   "source": [
    "np.save(out_intermediate_folder / 'val_main_1_sec_audio.npy', val_main_1_sec_np)"
   ]
  },
  {
   "cell_type": "code",
   "execution_count": 30,
   "id": "f481fb4a",
   "metadata": {
    "ExecuteTime": {
     "end_time": "2023-07-12T08:56:36.249551Z",
     "start_time": "2023-07-12T08:56:36.050544Z"
    }
   },
   "outputs": [],
   "source": [
    "np.save(out_intermediate_folder / 'test_main_1_sec_audio.npy', test_main_1_sec_np)"
   ]
  },
  {
   "cell_type": "code",
   "execution_count": 31,
   "id": "44a743ba",
   "metadata": {
    "ExecuteTime": {
     "end_time": "2023-07-12T08:56:43.215614Z",
     "start_time": "2023-07-12T08:56:43.202161Z"
    }
   },
   "outputs": [
    {
     "data": {
      "text/plain": [
       "['down',\n",
       " 'down',\n",
       " 'down',\n",
       " 'down',\n",
       " 'down',\n",
       " 'down',\n",
       " 'down',\n",
       " 'down',\n",
       " 'down',\n",
       " 'down']"
      ]
     },
     "execution_count": 31,
     "metadata": {},
     "output_type": "execute_result"
    }
   ],
   "source": [
    "train_main_1_sec_labels[:10]"
   ]
  },
  {
   "cell_type": "code",
   "execution_count": 32,
   "id": "ef8c973d",
   "metadata": {
    "ExecuteTime": {
     "end_time": "2023-07-12T08:56:50.128481Z",
     "start_time": "2023-07-12T08:56:50.053971Z"
    },
    "scrolled": true
   },
   "outputs": [
    {
     "data": {
      "text/plain": [
       "0        down\n",
       "1        down\n",
       "2        down\n",
       "3        down\n",
       "4        down\n",
       "         ... \n",
       "33561    zero\n",
       "33562    zero\n",
       "33563    zero\n",
       "33564    zero\n",
       "33565    zero\n",
       "Length: 33566, dtype: object"
      ]
     },
     "execution_count": 32,
     "metadata": {},
     "output_type": "execute_result"
    }
   ],
   "source": [
    "pd.Series(train_main_1_sec_labels)"
   ]
  },
  {
   "cell_type": "code",
   "execution_count": 33,
   "id": "6e493fa3",
   "metadata": {
    "ExecuteTime": {
     "end_time": "2023-07-12T08:56:57.704687Z",
     "start_time": "2023-07-12T08:56:57.658504Z"
    }
   },
   "outputs": [
    {
     "data": {
      "text/plain": [
       "zero     1734\n",
       "six      1727\n",
       "nine     1723\n",
       "stop     1715\n",
       "seven    1708\n",
       "five     1696\n",
       "two      1693\n",
       "right    1687\n",
       "yes      1686\n",
       "left     1683\n",
       "three    1672\n",
       "one      1672\n",
       "off      1668\n",
       "down     1667\n",
       "four     1662\n",
       "eight    1655\n",
       "on       1650\n",
       "go       1647\n",
       "no       1630\n",
       "up       1591\n",
       "dtype: int64"
      ]
     },
     "execution_count": 33,
     "metadata": {},
     "output_type": "execute_result"
    }
   ],
   "source": [
    "pd.Series(train_main_1_sec_labels).value_counts()"
   ]
  },
  {
   "cell_type": "code",
   "execution_count": 34,
   "id": "cd24ed03",
   "metadata": {
    "ExecuteTime": {
     "end_time": "2023-07-12T08:57:04.721615Z",
     "start_time": "2023-07-12T08:57:04.599975Z"
    }
   },
   "outputs": [],
   "source": [
    "pd.Series(train_main_1_sec_labels).to_csv(out_intermediate_folder / 'train_main_1_sec_labels.csv',\n",
    "                                          header=False,\n",
    "                                          index=False)\n",
    "pd.Series(val_main_1_sec_labels).to_csv(out_intermediate_folder / 'val_main_1_sec_labels.csv',\n",
    "                                          header=False,\n",
    "                                          index=False)\n",
    "pd.Series(test_main_1_sec_labels).to_csv(out_intermediate_folder / 'test_main_1_sec_labels.csv',\n",
    "                                          header=False,\n",
    "                                          index=False)"
   ]
  }
 ],
 "metadata": {
  "hide_input": false,
  "kernelspec": {
   "display_name": "Python 3 (ipykernel)",
   "language": "python",
   "name": "python3"
  },
  "language_info": {
   "codemirror_mode": {
    "name": "ipython",
    "version": 3
   },
   "file_extension": ".py",
   "mimetype": "text/x-python",
   "name": "python",
   "nbconvert_exporter": "python",
   "pygments_lexer": "ipython3",
   "version": "3.9.7"
  },
  "toc": {
   "base_numbering": 1,
   "nav_menu": {},
   "number_sections": true,
   "sideBar": true,
   "skip_h1_title": false,
   "title_cell": "Table of Contents",
   "title_sidebar": "Contents",
   "toc_cell": false,
   "toc_position": {},
   "toc_section_display": true,
   "toc_window_display": false
  },
  "varInspector": {
   "cols": {
    "lenName": 16,
    "lenType": 16,
    "lenVar": 40
   },
   "kernels_config": {
    "python": {
     "delete_cmd_postfix": "",
     "delete_cmd_prefix": "del ",
     "library": "var_list.py",
     "varRefreshCmd": "print(var_dic_list())"
    },
    "r": {
     "delete_cmd_postfix": ") ",
     "delete_cmd_prefix": "rm(",
     "library": "var_list.r",
     "varRefreshCmd": "cat(var_dic_list()) "
    }
   },
   "types_to_exclude": [
    "module",
    "function",
    "builtin_function_or_method",
    "instance",
    "_Feature"
   ],
   "window_display": false
  }
 },
 "nbformat": 4,
 "nbformat_minor": 5
}
