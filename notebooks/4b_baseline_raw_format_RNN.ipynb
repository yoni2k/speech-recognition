{
  "cells": [
    {
      "cell_type": "code",
      "execution_count": null,
      "id": "c223697b",
      "metadata": {
        "ExecuteTime": {
          "end_time": "2023-07-04T11:57:04.787952Z",
          "start_time": "2023-07-04T11:56:55.051179Z"
        },
        "id": "c223697b"
      },
      "outputs": [],
      "source": [
        "from pathlib import Path\n",
        "from scipy.io import wavfile\n",
        "import scipy.signal\n",
        "import pandas as pd\n",
        "from tqdm.auto import tqdm\n",
        "import seaborn as sns\n",
        "import matplotlib.pyplot as plt\n",
        "from collections import Counter\n",
        "import numpy as np\n",
        "import os\n",
        "from sklearn.linear_model import LogisticRegression\n",
        "from sklearn.metrics import accuracy_score, classification_report\n",
        "from sklearn.ensemble import RandomForestClassifier\n",
        "import tensorflow as tf\n",
        "from tensorflow.keras.layers import LSTM, Dense, Bidirectional, Dropout\n",
        "from tensorflow.keras.models import Sequential\n",
        "from sklearn.preprocessing import LabelEncoder\n",
        "from tensorflow.keras.optimizers import Adam\n",
        "from tensorflow.keras.callbacks import EarlyStopping"
      ]
    },
    {
      "cell_type": "markdown",
      "source": [
        "## Mount Drive"
      ],
      "metadata": {
        "id": "MUtkQLNlLuv_"
      },
      "id": "MUtkQLNlLuv_"
    },
    {
      "cell_type": "code",
      "source": [
        "def is_running_on_colab():\n",
        "    try:\n",
        "        import google.colab\n",
        "        return True\n",
        "    except ImportError:\n",
        "        return False\n",
        "\n",
        "ON_COLAB = is_running_on_colab()\n",
        "ON_COLAB"
      ],
      "metadata": {
        "colab": {
          "base_uri": "https://localhost:8080/"
        },
        "id": "wQTD7KkSMPpo",
        "outputId": "99797a08-2631-444a-839e-0e6cd4df12bf"
      },
      "id": "wQTD7KkSMPpo",
      "execution_count": null,
      "outputs": [
        {
          "output_type": "execute_result",
          "data": {
            "text/plain": [
              "True"
            ]
          },
          "metadata": {},
          "execution_count": 2
        }
      ]
    },
    {
      "cell_type": "code",
      "source": [
        "if ON_COLAB:\n",
        "  from google.colab import drive\n",
        "  drive.mount('/content/gdrive')\n",
        "  intermediate_folder = Path('/content/gdrive/MyDrive/Temp/Speech recognition project')\n",
        "else:\n",
        "  intermediate_folder = Path('..') / 'data' / 'intermediate'\n"
      ],
      "metadata": {
        "colab": {
          "base_uri": "https://localhost:8080/"
        },
        "id": "fm-OvgwTLySi",
        "outputId": "6a808c3e-64db-4908-bfe4-521fa8bbfbcd"
      },
      "id": "fm-OvgwTLySi",
      "execution_count": null,
      "outputs": [
        {
          "output_type": "stream",
          "name": "stdout",
          "text": [
            "Drive already mounted at /content/gdrive; to attempt to forcibly remount, call drive.mount(\"/content/gdrive\", force_remount=True).\n"
          ]
        }
      ]
    },
    {
      "cell_type": "markdown",
      "id": "fe12bd7b",
      "metadata": {
        "id": "fe12bd7b"
      },
      "source": [
        "## Read files"
      ]
    },
    {
      "cell_type": "code",
      "execution_count": null,
      "id": "924b631f",
      "metadata": {
        "ExecuteTime": {
          "end_time": "2023-07-04T12:10:32.798434Z",
          "start_time": "2023-07-04T11:57:32.009816Z"
        },
        "colab": {
          "base_uri": "https://localhost:8080/"
        },
        "id": "924b631f",
        "outputId": "afda2abd-6623-4321-ca38-6f3d9dc967e0"
      },
      "outputs": [
        {
          "output_type": "execute_result",
          "data": {
            "text/plain": [
              "(33566, 16000)"
            ]
          },
          "metadata": {},
          "execution_count": 4
        }
      ],
      "source": [
        "X_train = np.load(intermediate_folder / 'train_main_1_sec_audio.npy')\n",
        "X_train.shape"
      ]
    },
    {
      "cell_type": "code",
      "execution_count": null,
      "id": "544a3ec0",
      "metadata": {
        "ExecuteTime": {
          "end_time": "2023-07-04T12:11:58.043667Z",
          "start_time": "2023-07-04T12:10:39.542245Z"
        },
        "colab": {
          "base_uri": "https://localhost:8080/"
        },
        "id": "544a3ec0",
        "outputId": "8189b5fe-61f4-42b8-9e54-d25cce51378e"
      },
      "outputs": [
        {
          "output_type": "execute_result",
          "data": {
            "text/plain": [
              "(4619, 16000)"
            ]
          },
          "metadata": {},
          "execution_count": 5
        }
      ],
      "source": [
        "X_val = np.load(intermediate_folder / 'val_main_1_sec_audio.npy')\n",
        "X_val.shape"
      ]
    },
    {
      "cell_type": "code",
      "execution_count": null,
      "id": "d1c34f90",
      "metadata": {
        "ExecuteTime": {
          "end_time": "2023-07-04T12:13:53.227645Z",
          "start_time": "2023-07-04T12:12:07.930499Z"
        },
        "id": "d1c34f90"
      },
      "outputs": [],
      "source": [
        "# X_test = np.load(intermediate_folder / 'test_main_1_sec_audio.npy')\n",
        "# X_test.shape"
      ]
    },
    {
      "cell_type": "code",
      "execution_count": null,
      "id": "fae97f72",
      "metadata": {
        "ExecuteTime": {
          "end_time": "2023-07-04T12:14:11.050972Z",
          "start_time": "2023-07-04T12:14:10.929107Z"
        },
        "colab": {
          "base_uri": "https://localhost:8080/"
        },
        "id": "fae97f72",
        "outputId": "4a0f15cb-80db-4915-e3f2-a44b0ecd6d27"
      },
      "outputs": [
        {
          "output_type": "execute_result",
          "data": {
            "text/plain": [
              "((33566,), (4619,))"
            ]
          },
          "metadata": {},
          "execution_count": 7
        }
      ],
      "source": [
        "y_train_labels = pd.read_csv(intermediate_folder / 'train_main_1_sec_labels.csv', header=None, index_col=False)[0]\n",
        "y_val_labels = pd.read_csv(intermediate_folder / 'val_main_1_sec_labels.csv', header=None, index_col=False)[0]\n",
        "# y_test_labels = pd.read_csv(intermediate_folder / 'test_main_1_sec_labels.csv', header=None, index_col=False)[0]\n",
        "y_train_labels.shape, y_val_labels.shape\n",
        "# y_train_labels.shape, y_val_labels.shape, y_test_labels.shape"
      ]
    },
    {
      "cell_type": "code",
      "source": [
        "le = LabelEncoder()\n",
        "le.fit(y_train_labels)\n",
        "\n",
        "y_train = le.transform(y_train_labels)\n",
        "y_val = le.transform(y_val_labels)\n",
        "# y_test = le.transform(y_test_labels)\n",
        "y_train.shape, y_val.shape\n",
        "# y_train.shape, y_val.shape, y_test.shape"
      ],
      "metadata": {
        "colab": {
          "base_uri": "https://localhost:8080/"
        },
        "id": "hlwcuIdUTJKZ",
        "outputId": "24c113e4-cda6-4375-a7d4-d17aef2bef2b"
      },
      "id": "hlwcuIdUTJKZ",
      "execution_count": null,
      "outputs": [
        {
          "output_type": "execute_result",
          "data": {
            "text/plain": [
              "((33566,), (4619,))"
            ]
          },
          "metadata": {},
          "execution_count": 8
        }
      ]
    },
    {
      "cell_type": "code",
      "source": [
        "pd.Series(y_train).value_counts().sort_index()"
      ],
      "metadata": {
        "colab": {
          "base_uri": "https://localhost:8080/"
        },
        "id": "TyTZqvctfz6R",
        "outputId": "485a0379-8c14-491d-8609-6e722ae4cb6e"
      },
      "id": "TyTZqvctfz6R",
      "execution_count": null,
      "outputs": [
        {
          "output_type": "execute_result",
          "data": {
            "text/plain": [
              "0     1667\n",
              "1     1655\n",
              "2     1696\n",
              "3     1662\n",
              "4     1647\n",
              "5     1683\n",
              "6     1723\n",
              "7     1630\n",
              "8     1668\n",
              "9     1650\n",
              "10    1672\n",
              "11    1687\n",
              "12    1708\n",
              "13    1727\n",
              "14    1715\n",
              "15    1672\n",
              "16    1693\n",
              "17    1591\n",
              "18    1686\n",
              "19    1734\n",
              "dtype: int64"
            ]
          },
          "metadata": {},
          "execution_count": 9
        }
      ]
    },
    {
      "cell_type": "markdown",
      "metadata": {
        "id": "UGLIFFOIqf-1"
      },
      "source": [
        "## RNN - 50"
      ],
      "id": "UGLIFFOIqf-1"
    },
    {
      "cell_type": "code",
      "source": [
        "lstm = Sequential([LSTM(50, input_shape=(16000, 1)),\n",
        "                  Dense(20, activation='softmax')]\n",
        "                  )\n",
        "lstm.summary()"
      ],
      "metadata": {
        "colab": {
          "base_uri": "https://localhost:8080/"
        },
        "outputId": "77640043-06f4-4521-b0c1-6f9accec0f76",
        "id": "L8i4wk-4qf-2"
      },
      "execution_count": null,
      "outputs": [
        {
          "output_type": "stream",
          "name": "stdout",
          "text": [
            "Model: \"sequential\"\n",
            "_________________________________________________________________\n",
            " Layer (type)                Output Shape              Param #   \n",
            "=================================================================\n",
            " lstm (LSTM)                 (None, 50)                10400     \n",
            "                                                                 \n",
            " dense (Dense)               (None, 20)                1020      \n",
            "                                                                 \n",
            "=================================================================\n",
            "Total params: 11,420\n",
            "Trainable params: 11,420\n",
            "Non-trainable params: 0\n",
            "_________________________________________________________________\n"
          ]
        }
      ],
      "id": "L8i4wk-4qf-2"
    },
    {
      "cell_type": "code",
      "source": [
        "lstm.input_shape, lstm.output_shape"
      ],
      "metadata": {
        "colab": {
          "base_uri": "https://localhost:8080/"
        },
        "id": "ES2ZL9yPqf-2",
        "outputId": "e7a829ad-fec1-4e39-e7e7-0974d313fb2f"
      },
      "execution_count": null,
      "outputs": [
        {
          "output_type": "execute_result",
          "data": {
            "text/plain": [
              "((None, 16000, 1), (None, 20))"
            ]
          },
          "metadata": {},
          "execution_count": 11
        }
      ],
      "id": "ES2ZL9yPqf-2"
    },
    {
      "cell_type": "code",
      "source": [
        "early_stopping = EarlyStopping(monitor='val_loss', patience=5)"
      ],
      "metadata": {
        "id": "CyRSn1opu14D"
      },
      "id": "CyRSn1opu14D",
      "execution_count": null,
      "outputs": []
    },
    {
      "cell_type": "code",
      "source": [
        "learning_rate = 0.001\n",
        "\n",
        "lstm.compile(optimizer=Adam(learning_rate=learning_rate),\n",
        "             loss='sparse_categorical_crossentropy',\n",
        "             metrics=['accuracy'])"
      ],
      "metadata": {
        "id": "baEPAp4Fqf-2"
      },
      "execution_count": null,
      "outputs": [],
      "id": "baEPAp4Fqf-2"
    },
    {
      "cell_type": "code",
      "source": [
        "# learning_rate = 0.001\n",
        "lstm.fit(X_train[:, :, None], y_train, batch_size=128, epochs=20, validation_data=(X_val[:, :, None], y_val), callbacks=[early_stopping]);"
      ],
      "metadata": {
        "colab": {
          "base_uri": "https://localhost:8080/"
        },
        "id": "W08S2zWnsp6Z",
        "outputId": "4ada913c-2a92-4b0b-c363-23b5018ea37f"
      },
      "id": "W08S2zWnsp6Z",
      "execution_count": null,
      "outputs": [
        {
          "output_type": "stream",
          "name": "stdout",
          "text": [
            "Epoch 1/20\n",
            "263/263 [==============================] - 132s 496ms/step - loss: 2.9927 - accuracy: 0.0577 - val_loss: 2.9943 - val_accuracy: 0.0595\n",
            "Epoch 2/20\n",
            "263/263 [==============================] - 158s 601ms/step - loss: 2.9896 - accuracy: 0.0575 - val_loss: 2.9911 - val_accuracy: 0.0520\n",
            "Epoch 3/20\n",
            "263/263 [==============================] - 133s 507ms/step - loss: 2.9866 - accuracy: 0.0616 - val_loss: 2.9897 - val_accuracy: 0.0569\n",
            "Epoch 4/20\n",
            "263/263 [==============================] - 130s 495ms/step - loss: 2.9854 - accuracy: 0.0606 - val_loss: 2.9896 - val_accuracy: 0.0541\n",
            "Epoch 5/20\n",
            "263/263 [==============================] - 130s 492ms/step - loss: 2.9816 - accuracy: 0.0656 - val_loss: 2.9880 - val_accuracy: 0.0567\n",
            "Epoch 6/20\n",
            "263/263 [==============================] - 129s 492ms/step - loss: 2.9859 - accuracy: 0.0644 - val_loss: 2.9898 - val_accuracy: 0.0602\n",
            "Epoch 7/20\n",
            "263/263 [==============================] - 130s 492ms/step - loss: 2.9830 - accuracy: 0.0643 - val_loss: 2.9898 - val_accuracy: 0.0580\n",
            "Epoch 8/20\n",
            "263/263 [==============================] - 130s 494ms/step - loss: 2.9768 - accuracy: 0.0676 - val_loss: 2.9830 - val_accuracy: 0.0559\n",
            "Epoch 9/20\n",
            "263/263 [==============================] - 130s 494ms/step - loss: 2.9735 - accuracy: 0.0698 - val_loss: 2.9733 - val_accuracy: 0.0671\n",
            "Epoch 10/20\n",
            "263/263 [==============================] - 130s 492ms/step - loss: 2.9689 - accuracy: 0.0704 - val_loss: 2.9757 - val_accuracy: 0.0615\n",
            "Epoch 11/20\n",
            "263/263 [==============================] - 130s 493ms/step - loss: 2.9681 - accuracy: 0.0687 - val_loss: 2.9778 - val_accuracy: 0.0587\n",
            "Epoch 12/20\n",
            "263/263 [==============================] - 130s 492ms/step - loss: 2.9650 - accuracy: 0.0714 - val_loss: 2.9904 - val_accuracy: 0.0541\n",
            "Epoch 13/20\n",
            "263/263 [==============================] - 130s 493ms/step - loss: 2.9749 - accuracy: 0.0682 - val_loss: 2.9783 - val_accuracy: 0.0552\n",
            "Epoch 14/20\n",
            "263/263 [==============================] - 130s 493ms/step - loss: 2.9613 - accuracy: 0.0728 - val_loss: 2.9497 - val_accuracy: 0.0647\n",
            "Epoch 15/20\n",
            "263/263 [==============================] - 130s 493ms/step - loss: 2.9451 - accuracy: 0.0761 - val_loss: 2.9553 - val_accuracy: 0.0632\n",
            "Epoch 16/20\n",
            "263/263 [==============================] - 130s 493ms/step - loss: 2.9407 - accuracy: 0.0777 - val_loss: 2.9045 - val_accuracy: 0.0784\n",
            "Epoch 17/20\n",
            "263/263 [==============================] - 129s 491ms/step - loss: 2.9324 - accuracy: 0.0788 - val_loss: 2.9363 - val_accuracy: 0.0725\n",
            "Epoch 18/20\n",
            "263/263 [==============================] - 127s 482ms/step - loss: 2.9662 - accuracy: 0.0740 - val_loss: 3.0071 - val_accuracy: 0.0526\n",
            "Epoch 19/20\n",
            "263/263 [==============================] - 130s 495ms/step - loss: 2.9849 - accuracy: 0.0658 - val_loss: 2.9959 - val_accuracy: 0.0561\n",
            "Epoch 20/20\n",
            "263/263 [==============================] - 130s 496ms/step - loss: 2.9802 - accuracy: 0.0689 - val_loss: 2.9950 - val_accuracy: 0.0535\n"
          ]
        }
      ]
    },
    {
      "cell_type": "code",
      "source": [
        "# learning_rate = 0.005\n",
        "lstm.fit(X_train[:, :, None], y_train, batch_size=128, epochs=10, validation_data=(X_val[:, :, None], y_val), callbacks=[early_stopping]);"
      ],
      "metadata": {
        "colab": {
          "base_uri": "https://localhost:8080/"
        },
        "id": "8dUyEMsxun7V",
        "outputId": "8d6a9750-469b-4f39-8731-6184db9f04f0"
      },
      "id": "8dUyEMsxun7V",
      "execution_count": null,
      "outputs": [
        {
          "output_type": "stream",
          "name": "stdout",
          "text": [
            "Epoch 1/10\n",
            "263/263 [==============================] - 132s 494ms/step - loss: 2.9932 - accuracy: 0.0628 - val_loss: 2.9923 - val_accuracy: 0.0645\n",
            "Epoch 2/10\n",
            "263/263 [==============================] - 132s 501ms/step - loss: 2.9894 - accuracy: 0.0631 - val_loss: 2.9987 - val_accuracy: 0.0647\n",
            "Epoch 3/10\n",
            "263/263 [==============================] - 127s 483ms/step - loss: 2.9867 - accuracy: 0.0656 - val_loss: 2.9920 - val_accuracy: 0.0589\n",
            "Epoch 4/10\n",
            "263/263 [==============================] - 130s 495ms/step - loss: 2.9846 - accuracy: 0.0641 - val_loss: 2.9919 - val_accuracy: 0.0585\n",
            "Epoch 5/10\n",
            "263/263 [==============================] - 129s 491ms/step - loss: 2.9832 - accuracy: 0.0638 - val_loss: 2.9937 - val_accuracy: 0.0554\n",
            "Epoch 6/10\n",
            "263/263 [==============================] - 130s 492ms/step - loss: 2.9837 - accuracy: 0.0649 - val_loss: 2.9933 - val_accuracy: 0.0541\n",
            "Epoch 7/10\n",
            "263/263 [==============================] - 130s 493ms/step - loss: 2.9841 - accuracy: 0.0649 - val_loss: 2.9984 - val_accuracy: 0.0576\n",
            "Epoch 8/10\n",
            "263/263 [==============================] - 130s 494ms/step - loss: 2.9801 - accuracy: 0.0679 - val_loss: 2.9997 - val_accuracy: 0.0561\n",
            "Epoch 9/10\n",
            "263/263 [==============================] - 130s 493ms/step - loss: 2.9770 - accuracy: 0.0691 - val_loss: 2.9988 - val_accuracy: 0.0556\n"
          ]
        }
      ]
    },
    {
      "cell_type": "code",
      "source": [
        "# learning_rate = 0.001\n",
        "lstm.fit(X_train[:, :, None], y_train, batch_size=128, epochs=20, validation_data=(X_val[:, :, None], y_val), callbacks=[early_stopping]);"
      ],
      "metadata": {
        "colab": {
          "base_uri": "https://localhost:8080/"
        },
        "id": "9n2zMildun-d",
        "outputId": "13212813-ce74-41c5-95fb-b93cfb0e4b9e"
      },
      "id": "9n2zMildun-d",
      "execution_count": null,
      "outputs": [
        {
          "output_type": "stream",
          "name": "stdout",
          "text": [
            "Epoch 1/20\n",
            "263/263 [==============================] - 190s 713ms/step - loss: 3.0094 - accuracy: 0.0518 - val_loss: 3.0038 - val_accuracy: 0.0517\n",
            "Epoch 2/20\n",
            "263/263 [==============================] - 185s 703ms/step - loss: 2.9967 - accuracy: 0.0561 - val_loss: 2.9956 - val_accuracy: 0.0541\n",
            "Epoch 3/20\n",
            "263/263 [==============================] - 185s 704ms/step - loss: 2.9909 - accuracy: 0.0597 - val_loss: 2.9963 - val_accuracy: 0.0608\n",
            "Epoch 4/20\n",
            "263/263 [==============================] - 186s 707ms/step - loss: 2.9876 - accuracy: 0.0611 - val_loss: 2.9918 - val_accuracy: 0.0602\n",
            "Epoch 5/20\n",
            "263/263 [==============================] - 185s 704ms/step - loss: 2.9857 - accuracy: 0.0631 - val_loss: 2.9878 - val_accuracy: 0.0552\n",
            "Epoch 6/20\n",
            "263/263 [==============================] - 185s 705ms/step - loss: 2.9834 - accuracy: 0.0620 - val_loss: 2.9892 - val_accuracy: 0.0595\n",
            "Epoch 7/20\n",
            "263/263 [==============================] - 193s 734ms/step - loss: 2.9799 - accuracy: 0.0658 - val_loss: 2.9902 - val_accuracy: 0.0541\n",
            "Epoch 8/20\n",
            "263/263 [==============================] - 187s 712ms/step - loss: 2.9771 - accuracy: 0.0675 - val_loss: 2.9925 - val_accuracy: 0.0539\n",
            "Epoch 9/20\n",
            "263/263 [==============================] - 186s 708ms/step - loss: 2.9757 - accuracy: 0.0688 - val_loss: 2.9902 - val_accuracy: 0.0598\n",
            "Epoch 10/20\n",
            "263/263 [==============================] - 186s 708ms/step - loss: 2.9734 - accuracy: 0.0697 - val_loss: 2.9940 - val_accuracy: 0.0559\n"
          ]
        }
      ]
    },
    {
      "cell_type": "code",
      "source": [],
      "metadata": {
        "id": "P-bP8CuUs2mR"
      },
      "id": "P-bP8CuUs2mR",
      "execution_count": null,
      "outputs": []
    },
    {
      "cell_type": "markdown",
      "id": "3df6315f",
      "metadata": {
        "id": "3df6315f"
      },
      "source": [
        "## RNN - 100 + Fully connected 100 + Bidirectional"
      ]
    },
    {
      "cell_type": "code",
      "source": [
        "lstm = Sequential([Bidirectional(LSTM(70), input_shape=(16000, 1)),\n",
        "                   Dense(100, activation='sigmoid'),\n",
        "                   Dense(20, activation='softmax')]\n",
        "                  )\n",
        "lstm.summary()"
      ],
      "metadata": {
        "colab": {
          "base_uri": "https://localhost:8080/"
        },
        "id": "PeMwD51Ede0p",
        "outputId": "6b28e8df-5add-4fc3-c00b-1333c7bbf99f"
      },
      "id": "PeMwD51Ede0p",
      "execution_count": null,
      "outputs": [
        {
          "output_type": "stream",
          "name": "stdout",
          "text": [
            "Model: \"sequential\"\n",
            "_________________________________________________________________\n",
            " Layer (type)                Output Shape              Param #   \n",
            "=================================================================\n",
            " bidirectional (Bidirectiona  (None, 140)              40320     \n",
            " l)                                                              \n",
            "                                                                 \n",
            " dense (Dense)               (None, 100)               14100     \n",
            "                                                                 \n",
            " dense_1 (Dense)             (None, 20)                2020      \n",
            "                                                                 \n",
            "=================================================================\n",
            "Total params: 56,440\n",
            "Trainable params: 56,440\n",
            "Non-trainable params: 0\n",
            "_________________________________________________________________\n"
          ]
        }
      ]
    },
    {
      "cell_type": "code",
      "source": [
        "lstm.input_shape, lstm.output_shape"
      ],
      "metadata": {
        "id": "TdlRmMTDi96S",
        "colab": {
          "base_uri": "https://localhost:8080/"
        },
        "outputId": "d1a5332e-fbc6-46db-f9dc-d258e90df2f2"
      },
      "id": "TdlRmMTDi96S",
      "execution_count": null,
      "outputs": [
        {
          "output_type": "execute_result",
          "data": {
            "text/plain": [
              "((None, 16000, 1), (None, 20))"
            ]
          },
          "metadata": {},
          "execution_count": 11
        }
      ]
    },
    {
      "cell_type": "code",
      "source": [
        "callbacks = [EarlyStopping(monitor='loss', patience=4, min_delta=.001),\n",
        "             EarlyStopping(monitor='val_loss', patience=10, min_delta=.001)]"
      ],
      "metadata": {
        "id": "C71atyKzv4P9"
      },
      "id": "C71atyKzv4P9",
      "execution_count": null,
      "outputs": []
    },
    {
      "cell_type": "code",
      "source": [
        "learning_rate = 0.001\n",
        "\n",
        "lstm.compile(optimizer=Adam(learning_rate=learning_rate),\n",
        "             loss='sparse_categorical_crossentropy',\n",
        "             metrics=['accuracy'])"
      ],
      "metadata": {
        "id": "XWwTJJiRd7dy"
      },
      "id": "XWwTJJiRd7dy",
      "execution_count": null,
      "outputs": []
    },
    {
      "cell_type": "code",
      "source": [
        "# learning_rate = 0.001\n",
        "lstm.fit(X_train[:, :, None], y_train, batch_size=128, epochs=20, validation_data=(X_val[:, :, None], y_val), callbacks=[early_stopping]);"
      ],
      "metadata": {
        "colab": {
          "base_uri": "https://localhost:8080/",
          "height": 1000
        },
        "id": "C1pxgDVKqETn",
        "outputId": "25b747a2-be3f-474d-8c80-f018800df138"
      },
      "id": "C1pxgDVKqETn",
      "execution_count": null,
      "outputs": [
        {
          "output_type": "stream",
          "name": "stdout",
          "text": [
            "Epoch 1/20\n",
            "263/263 [==============================] - 324s 1s/step - loss: 3.0073 - accuracy: 0.0536 - val_loss: 3.0020 - val_accuracy: 0.0539\n",
            "Epoch 2/20\n",
            "263/263 [==============================] - 323s 1s/step - loss: 2.9946 - accuracy: 0.0575 - val_loss: 2.9982 - val_accuracy: 0.0539\n",
            "Epoch 3/20\n",
            "263/263 [==============================] - 326s 1s/step - loss: 2.9918 - accuracy: 0.0601 - val_loss: 2.9940 - val_accuracy: 0.0533\n",
            "Epoch 4/20\n",
            "263/263 [==============================] - 322s 1s/step - loss: 2.9855 - accuracy: 0.0633 - val_loss: 2.9871 - val_accuracy: 0.0591\n",
            "Epoch 5/20\n",
            "263/263 [==============================] - 331s 1s/step - loss: 2.9831 - accuracy: 0.0660 - val_loss: 2.9965 - val_accuracy: 0.0617\n",
            "Epoch 6/20\n",
            "263/263 [==============================] - 324s 1s/step - loss: 2.9847 - accuracy: 0.0669 - val_loss: 2.9949 - val_accuracy: 0.0630\n",
            "Epoch 7/20\n",
            "263/263 [==============================] - 323s 1s/step - loss: 2.9845 - accuracy: 0.0660 - val_loss: 2.9957 - val_accuracy: 0.0572\n",
            "Epoch 8/20\n",
            "263/263 [==============================] - 322s 1s/step - loss: 2.9812 - accuracy: 0.0666 - val_loss: 2.9887 - val_accuracy: 0.0604\n",
            "Epoch 9/20\n",
            "263/263 [==============================] - 323s 1s/step - loss: 2.9757 - accuracy: 0.0691 - val_loss: 2.9901 - val_accuracy: 0.0589\n",
            "Epoch 10/20\n",
            "263/263 [==============================] - 324s 1s/step - loss: 2.9722 - accuracy: 0.0716 - val_loss: 2.9868 - val_accuracy: 0.0637\n",
            "Epoch 11/20\n",
            "263/263 [==============================] - 322s 1s/step - loss: 2.9705 - accuracy: 0.0724 - val_loss: 2.9921 - val_accuracy: 0.0600\n",
            "Epoch 12/20\n",
            "263/263 [==============================] - 323s 1s/step - loss: 2.9682 - accuracy: 0.0714 - val_loss: 2.9946 - val_accuracy: 0.0613\n",
            "Epoch 13/20\n",
            "263/263 [==============================] - 324s 1s/step - loss: 2.9635 - accuracy: 0.0752 - val_loss: 2.9854 - val_accuracy: 0.0641\n",
            "Epoch 14/20\n",
            "263/263 [==============================] - 324s 1s/step - loss: 2.9601 - accuracy: 0.0767 - val_loss: 2.9898 - val_accuracy: 0.0565\n",
            "Epoch 15/20\n",
            "263/263 [==============================] - 338s 1s/step - loss: 2.9555 - accuracy: 0.0800 - val_loss: 2.9971 - val_accuracy: 0.0630\n",
            "Epoch 16/20\n",
            "263/263 [==============================] - 325s 1s/step - loss: 2.9527 - accuracy: 0.0809 - val_loss: 2.9900 - val_accuracy: 0.0589\n",
            "Epoch 17/20\n",
            "263/263 [==============================] - 324s 1s/step - loss: 2.9127 - accuracy: 0.0937 - val_loss: 2.9066 - val_accuracy: 0.0719\n",
            "Epoch 18/20\n",
            "263/263 [==============================] - 324s 1s/step - loss: 2.8846 - accuracy: 0.0948 - val_loss: 2.8913 - val_accuracy: 0.0792\n",
            "Epoch 19/20\n",
            "221/263 [========================>.....] - ETA: 48s - loss: 2.8816 - accuracy: 0.1009"
          ]
        },
        {
          "output_type": "error",
          "ename": "KeyboardInterrupt",
          "evalue": "ignored",
          "traceback": [
            "\u001b[0;31m---------------------------------------------------------------------------\u001b[0m",
            "\u001b[0;31mKeyboardInterrupt\u001b[0m                         Traceback (most recent call last)",
            "\u001b[0;32m<ipython-input-14-12f0b819366b>\u001b[0m in \u001b[0;36m<cell line: 2>\u001b[0;34m()\u001b[0m\n\u001b[1;32m      1\u001b[0m \u001b[0;31m# learning_rate = 0.001\u001b[0m\u001b[0;34m\u001b[0m\u001b[0;34m\u001b[0m\u001b[0m\n\u001b[0;32m----> 2\u001b[0;31m \u001b[0mlstm\u001b[0m\u001b[0;34m.\u001b[0m\u001b[0mfit\u001b[0m\u001b[0;34m(\u001b[0m\u001b[0mX_train\u001b[0m\u001b[0;34m[\u001b[0m\u001b[0;34m:\u001b[0m\u001b[0;34m,\u001b[0m \u001b[0;34m:\u001b[0m\u001b[0;34m,\u001b[0m \u001b[0;32mNone\u001b[0m\u001b[0;34m]\u001b[0m\u001b[0;34m,\u001b[0m \u001b[0my_train\u001b[0m\u001b[0;34m,\u001b[0m \u001b[0mbatch_size\u001b[0m\u001b[0;34m=\u001b[0m\u001b[0;36m128\u001b[0m\u001b[0;34m,\u001b[0m \u001b[0mepochs\u001b[0m\u001b[0;34m=\u001b[0m\u001b[0;36m20\u001b[0m\u001b[0;34m,\u001b[0m \u001b[0mvalidation_data\u001b[0m\u001b[0;34m=\u001b[0m\u001b[0;34m(\u001b[0m\u001b[0mX_val\u001b[0m\u001b[0;34m[\u001b[0m\u001b[0;34m:\u001b[0m\u001b[0;34m,\u001b[0m \u001b[0;34m:\u001b[0m\u001b[0;34m,\u001b[0m \u001b[0;32mNone\u001b[0m\u001b[0;34m]\u001b[0m\u001b[0;34m,\u001b[0m \u001b[0my_val\u001b[0m\u001b[0;34m)\u001b[0m\u001b[0;34m,\u001b[0m \u001b[0mcallbacks\u001b[0m\u001b[0;34m=\u001b[0m\u001b[0;34m[\u001b[0m\u001b[0mearly_stopping\u001b[0m\u001b[0;34m]\u001b[0m\u001b[0;34m)\u001b[0m\u001b[0;34m;\u001b[0m\u001b[0;34m\u001b[0m\u001b[0;34m\u001b[0m\u001b[0m\n\u001b[0m",
            "\u001b[0;32m/usr/local/lib/python3.10/dist-packages/keras/utils/traceback_utils.py\u001b[0m in \u001b[0;36merror_handler\u001b[0;34m(*args, **kwargs)\u001b[0m\n\u001b[1;32m     63\u001b[0m         \u001b[0mfiltered_tb\u001b[0m \u001b[0;34m=\u001b[0m \u001b[0;32mNone\u001b[0m\u001b[0;34m\u001b[0m\u001b[0;34m\u001b[0m\u001b[0m\n\u001b[1;32m     64\u001b[0m         \u001b[0;32mtry\u001b[0m\u001b[0;34m:\u001b[0m\u001b[0;34m\u001b[0m\u001b[0;34m\u001b[0m\u001b[0m\n\u001b[0;32m---> 65\u001b[0;31m             \u001b[0;32mreturn\u001b[0m \u001b[0mfn\u001b[0m\u001b[0;34m(\u001b[0m\u001b[0;34m*\u001b[0m\u001b[0margs\u001b[0m\u001b[0;34m,\u001b[0m \u001b[0;34m**\u001b[0m\u001b[0mkwargs\u001b[0m\u001b[0;34m)\u001b[0m\u001b[0;34m\u001b[0m\u001b[0;34m\u001b[0m\u001b[0m\n\u001b[0m\u001b[1;32m     66\u001b[0m         \u001b[0;32mexcept\u001b[0m \u001b[0mException\u001b[0m \u001b[0;32mas\u001b[0m \u001b[0me\u001b[0m\u001b[0;34m:\u001b[0m\u001b[0;34m\u001b[0m\u001b[0;34m\u001b[0m\u001b[0m\n\u001b[1;32m     67\u001b[0m             \u001b[0mfiltered_tb\u001b[0m \u001b[0;34m=\u001b[0m \u001b[0m_process_traceback_frames\u001b[0m\u001b[0;34m(\u001b[0m\u001b[0me\u001b[0m\u001b[0;34m.\u001b[0m\u001b[0m__traceback__\u001b[0m\u001b[0;34m)\u001b[0m\u001b[0;34m\u001b[0m\u001b[0;34m\u001b[0m\u001b[0m\n",
            "\u001b[0;32m/usr/local/lib/python3.10/dist-packages/keras/engine/training.py\u001b[0m in \u001b[0;36mfit\u001b[0;34m(self, x, y, batch_size, epochs, verbose, callbacks, validation_split, validation_data, shuffle, class_weight, sample_weight, initial_epoch, steps_per_epoch, validation_steps, validation_batch_size, validation_freq, max_queue_size, workers, use_multiprocessing)\u001b[0m\n\u001b[1;32m   1683\u001b[0m                         ):\n\u001b[1;32m   1684\u001b[0m                             \u001b[0mcallbacks\u001b[0m\u001b[0;34m.\u001b[0m\u001b[0mon_train_batch_begin\u001b[0m\u001b[0;34m(\u001b[0m\u001b[0mstep\u001b[0m\u001b[0;34m)\u001b[0m\u001b[0;34m\u001b[0m\u001b[0;34m\u001b[0m\u001b[0m\n\u001b[0;32m-> 1685\u001b[0;31m                             \u001b[0mtmp_logs\u001b[0m \u001b[0;34m=\u001b[0m \u001b[0mself\u001b[0m\u001b[0;34m.\u001b[0m\u001b[0mtrain_function\u001b[0m\u001b[0;34m(\u001b[0m\u001b[0miterator\u001b[0m\u001b[0;34m)\u001b[0m\u001b[0;34m\u001b[0m\u001b[0;34m\u001b[0m\u001b[0m\n\u001b[0m\u001b[1;32m   1686\u001b[0m                             \u001b[0;32mif\u001b[0m \u001b[0mdata_handler\u001b[0m\u001b[0;34m.\u001b[0m\u001b[0mshould_sync\u001b[0m\u001b[0;34m:\u001b[0m\u001b[0;34m\u001b[0m\u001b[0;34m\u001b[0m\u001b[0m\n\u001b[1;32m   1687\u001b[0m                                 \u001b[0mcontext\u001b[0m\u001b[0;34m.\u001b[0m\u001b[0masync_wait\u001b[0m\u001b[0;34m(\u001b[0m\u001b[0;34m)\u001b[0m\u001b[0;34m\u001b[0m\u001b[0;34m\u001b[0m\u001b[0m\n",
            "\u001b[0;32m/usr/local/lib/python3.10/dist-packages/tensorflow/python/util/traceback_utils.py\u001b[0m in \u001b[0;36merror_handler\u001b[0;34m(*args, **kwargs)\u001b[0m\n\u001b[1;32m    148\u001b[0m     \u001b[0mfiltered_tb\u001b[0m \u001b[0;34m=\u001b[0m \u001b[0;32mNone\u001b[0m\u001b[0;34m\u001b[0m\u001b[0;34m\u001b[0m\u001b[0m\n\u001b[1;32m    149\u001b[0m     \u001b[0;32mtry\u001b[0m\u001b[0;34m:\u001b[0m\u001b[0;34m\u001b[0m\u001b[0;34m\u001b[0m\u001b[0m\n\u001b[0;32m--> 150\u001b[0;31m       \u001b[0;32mreturn\u001b[0m \u001b[0mfn\u001b[0m\u001b[0;34m(\u001b[0m\u001b[0;34m*\u001b[0m\u001b[0margs\u001b[0m\u001b[0;34m,\u001b[0m \u001b[0;34m**\u001b[0m\u001b[0mkwargs\u001b[0m\u001b[0;34m)\u001b[0m\u001b[0;34m\u001b[0m\u001b[0;34m\u001b[0m\u001b[0m\n\u001b[0m\u001b[1;32m    151\u001b[0m     \u001b[0;32mexcept\u001b[0m \u001b[0mException\u001b[0m \u001b[0;32mas\u001b[0m \u001b[0me\u001b[0m\u001b[0;34m:\u001b[0m\u001b[0;34m\u001b[0m\u001b[0;34m\u001b[0m\u001b[0m\n\u001b[1;32m    152\u001b[0m       \u001b[0mfiltered_tb\u001b[0m \u001b[0;34m=\u001b[0m \u001b[0m_process_traceback_frames\u001b[0m\u001b[0;34m(\u001b[0m\u001b[0me\u001b[0m\u001b[0;34m.\u001b[0m\u001b[0m__traceback__\u001b[0m\u001b[0;34m)\u001b[0m\u001b[0;34m\u001b[0m\u001b[0;34m\u001b[0m\u001b[0m\n",
            "\u001b[0;32m/usr/local/lib/python3.10/dist-packages/tensorflow/python/eager/polymorphic_function/polymorphic_function.py\u001b[0m in \u001b[0;36m__call__\u001b[0;34m(self, *args, **kwds)\u001b[0m\n\u001b[1;32m    892\u001b[0m \u001b[0;34m\u001b[0m\u001b[0m\n\u001b[1;32m    893\u001b[0m       \u001b[0;32mwith\u001b[0m \u001b[0mOptionalXlaContext\u001b[0m\u001b[0;34m(\u001b[0m\u001b[0mself\u001b[0m\u001b[0;34m.\u001b[0m\u001b[0m_jit_compile\u001b[0m\u001b[0;34m)\u001b[0m\u001b[0;34m:\u001b[0m\u001b[0;34m\u001b[0m\u001b[0;34m\u001b[0m\u001b[0m\n\u001b[0;32m--> 894\u001b[0;31m         \u001b[0mresult\u001b[0m \u001b[0;34m=\u001b[0m \u001b[0mself\u001b[0m\u001b[0;34m.\u001b[0m\u001b[0m_call\u001b[0m\u001b[0;34m(\u001b[0m\u001b[0;34m*\u001b[0m\u001b[0margs\u001b[0m\u001b[0;34m,\u001b[0m \u001b[0;34m**\u001b[0m\u001b[0mkwds\u001b[0m\u001b[0;34m)\u001b[0m\u001b[0;34m\u001b[0m\u001b[0;34m\u001b[0m\u001b[0m\n\u001b[0m\u001b[1;32m    895\u001b[0m \u001b[0;34m\u001b[0m\u001b[0m\n\u001b[1;32m    896\u001b[0m       \u001b[0mnew_tracing_count\u001b[0m \u001b[0;34m=\u001b[0m \u001b[0mself\u001b[0m\u001b[0;34m.\u001b[0m\u001b[0mexperimental_get_tracing_count\u001b[0m\u001b[0;34m(\u001b[0m\u001b[0;34m)\u001b[0m\u001b[0;34m\u001b[0m\u001b[0;34m\u001b[0m\u001b[0m\n",
            "\u001b[0;32m/usr/local/lib/python3.10/dist-packages/tensorflow/python/eager/polymorphic_function/polymorphic_function.py\u001b[0m in \u001b[0;36m_call\u001b[0;34m(self, *args, **kwds)\u001b[0m\n\u001b[1;32m    924\u001b[0m       \u001b[0;31m# In this case we have created variables on the first call, so we run the\u001b[0m\u001b[0;34m\u001b[0m\u001b[0;34m\u001b[0m\u001b[0m\n\u001b[1;32m    925\u001b[0m       \u001b[0;31m# defunned version which is guaranteed to never create variables.\u001b[0m\u001b[0;34m\u001b[0m\u001b[0;34m\u001b[0m\u001b[0m\n\u001b[0;32m--> 926\u001b[0;31m       \u001b[0;32mreturn\u001b[0m \u001b[0mself\u001b[0m\u001b[0;34m.\u001b[0m\u001b[0m_no_variable_creation_fn\u001b[0m\u001b[0;34m(\u001b[0m\u001b[0;34m*\u001b[0m\u001b[0margs\u001b[0m\u001b[0;34m,\u001b[0m \u001b[0;34m**\u001b[0m\u001b[0mkwds\u001b[0m\u001b[0;34m)\u001b[0m  \u001b[0;31m# pylint: disable=not-callable\u001b[0m\u001b[0;34m\u001b[0m\u001b[0;34m\u001b[0m\u001b[0m\n\u001b[0m\u001b[1;32m    927\u001b[0m     \u001b[0;32melif\u001b[0m \u001b[0mself\u001b[0m\u001b[0;34m.\u001b[0m\u001b[0m_variable_creation_fn\u001b[0m \u001b[0;32mis\u001b[0m \u001b[0;32mnot\u001b[0m \u001b[0;32mNone\u001b[0m\u001b[0;34m:\u001b[0m\u001b[0;34m\u001b[0m\u001b[0;34m\u001b[0m\u001b[0m\n\u001b[1;32m    928\u001b[0m       \u001b[0;31m# Release the lock early so that multiple threads can perform the call\u001b[0m\u001b[0;34m\u001b[0m\u001b[0;34m\u001b[0m\u001b[0m\n",
            "\u001b[0;32m/usr/local/lib/python3.10/dist-packages/tensorflow/python/eager/polymorphic_function/tracing_compiler.py\u001b[0m in \u001b[0;36m__call__\u001b[0;34m(self, *args, **kwargs)\u001b[0m\n\u001b[1;32m    141\u001b[0m       (concrete_function,\n\u001b[1;32m    142\u001b[0m        filtered_flat_args) = self._maybe_define_function(args, kwargs)\n\u001b[0;32m--> 143\u001b[0;31m     return concrete_function._call_flat(\n\u001b[0m\u001b[1;32m    144\u001b[0m         filtered_flat_args, captured_inputs=concrete_function.captured_inputs)  # pylint: disable=protected-access\n\u001b[1;32m    145\u001b[0m \u001b[0;34m\u001b[0m\u001b[0m\n",
            "\u001b[0;32m/usr/local/lib/python3.10/dist-packages/tensorflow/python/eager/polymorphic_function/monomorphic_function.py\u001b[0m in \u001b[0;36m_call_flat\u001b[0;34m(self, args, captured_inputs, cancellation_manager)\u001b[0m\n\u001b[1;32m   1755\u001b[0m         and executing_eagerly):\n\u001b[1;32m   1756\u001b[0m       \u001b[0;31m# No tape is watching; skip to running the function.\u001b[0m\u001b[0;34m\u001b[0m\u001b[0;34m\u001b[0m\u001b[0m\n\u001b[0;32m-> 1757\u001b[0;31m       return self._build_call_outputs(self._inference_function.call(\n\u001b[0m\u001b[1;32m   1758\u001b[0m           ctx, args, cancellation_manager=cancellation_manager))\n\u001b[1;32m   1759\u001b[0m     forward_backward = self._select_forward_and_backward_functions(\n",
            "\u001b[0;32m/usr/local/lib/python3.10/dist-packages/tensorflow/python/eager/polymorphic_function/monomorphic_function.py\u001b[0m in \u001b[0;36mcall\u001b[0;34m(self, ctx, args, cancellation_manager)\u001b[0m\n\u001b[1;32m    379\u001b[0m       \u001b[0;32mwith\u001b[0m \u001b[0m_InterpolateFunctionError\u001b[0m\u001b[0;34m(\u001b[0m\u001b[0mself\u001b[0m\u001b[0;34m)\u001b[0m\u001b[0;34m:\u001b[0m\u001b[0;34m\u001b[0m\u001b[0;34m\u001b[0m\u001b[0m\n\u001b[1;32m    380\u001b[0m         \u001b[0;32mif\u001b[0m \u001b[0mcancellation_manager\u001b[0m \u001b[0;32mis\u001b[0m \u001b[0;32mNone\u001b[0m\u001b[0;34m:\u001b[0m\u001b[0;34m\u001b[0m\u001b[0;34m\u001b[0m\u001b[0m\n\u001b[0;32m--> 381\u001b[0;31m           outputs = execute.execute(\n\u001b[0m\u001b[1;32m    382\u001b[0m               \u001b[0mstr\u001b[0m\u001b[0;34m(\u001b[0m\u001b[0mself\u001b[0m\u001b[0;34m.\u001b[0m\u001b[0msignature\u001b[0m\u001b[0;34m.\u001b[0m\u001b[0mname\u001b[0m\u001b[0;34m)\u001b[0m\u001b[0;34m,\u001b[0m\u001b[0;34m\u001b[0m\u001b[0;34m\u001b[0m\u001b[0m\n\u001b[1;32m    383\u001b[0m               \u001b[0mnum_outputs\u001b[0m\u001b[0;34m=\u001b[0m\u001b[0mself\u001b[0m\u001b[0;34m.\u001b[0m\u001b[0m_num_outputs\u001b[0m\u001b[0;34m,\u001b[0m\u001b[0;34m\u001b[0m\u001b[0;34m\u001b[0m\u001b[0m\n",
            "\u001b[0;32m/usr/local/lib/python3.10/dist-packages/tensorflow/python/eager/execute.py\u001b[0m in \u001b[0;36mquick_execute\u001b[0;34m(op_name, num_outputs, inputs, attrs, ctx, name)\u001b[0m\n\u001b[1;32m     50\u001b[0m   \u001b[0;32mtry\u001b[0m\u001b[0;34m:\u001b[0m\u001b[0;34m\u001b[0m\u001b[0;34m\u001b[0m\u001b[0m\n\u001b[1;32m     51\u001b[0m     \u001b[0mctx\u001b[0m\u001b[0;34m.\u001b[0m\u001b[0mensure_initialized\u001b[0m\u001b[0;34m(\u001b[0m\u001b[0;34m)\u001b[0m\u001b[0;34m\u001b[0m\u001b[0;34m\u001b[0m\u001b[0m\n\u001b[0;32m---> 52\u001b[0;31m     tensors = pywrap_tfe.TFE_Py_Execute(ctx._handle, device_name, op_name,\n\u001b[0m\u001b[1;32m     53\u001b[0m                                         inputs, attrs, num_outputs)\n\u001b[1;32m     54\u001b[0m   \u001b[0;32mexcept\u001b[0m \u001b[0mcore\u001b[0m\u001b[0;34m.\u001b[0m\u001b[0m_NotOkStatusException\u001b[0m \u001b[0;32mas\u001b[0m \u001b[0me\u001b[0m\u001b[0;34m:\u001b[0m\u001b[0;34m\u001b[0m\u001b[0;34m\u001b[0m\u001b[0m\n",
            "\u001b[0;31mKeyboardInterrupt\u001b[0m: "
          ]
        }
      ]
    },
    {
      "cell_type": "markdown",
      "metadata": {
        "id": "XHOMBS2DKuST"
      },
      "source": [
        "## RNN - 2 bidirectional LSTM + Fully connected 100"
      ],
      "id": "XHOMBS2DKuST"
    },
    {
      "cell_type": "code",
      "source": [
        "lstm = Sequential([Bidirectional(LSTM(32, return_sequences=True), input_shape=(16000, 1)),\n",
        "                  #  Dropout(.5),\n",
        "                   Bidirectional(LSTM(32)),\n",
        "                  #  Dropout(.5),\n",
        "                   Dense(100, activation='sigmoid'),\n",
        "                  #  Dropout(.5),\n",
        "                   Dense(20, activation='softmax')]\n",
        "                  )\n",
        "lstm.summary()"
      ],
      "metadata": {
        "colab": {
          "base_uri": "https://localhost:8080/"
        },
        "outputId": "71b7ea39-5dbf-4088-feab-a832242b5a0b",
        "id": "FMy0l--BKuSU"
      },
      "execution_count": null,
      "outputs": [
        {
          "output_type": "stream",
          "name": "stdout",
          "text": [
            "Model: \"sequential\"\n",
            "_________________________________________________________________\n",
            " Layer (type)                Output Shape              Param #   \n",
            "=================================================================\n",
            " bidirectional (Bidirectiona  (None, 16000, 64)        8704      \n",
            " l)                                                              \n",
            "                                                                 \n",
            " bidirectional_1 (Bidirectio  (None, 64)               24832     \n",
            " nal)                                                            \n",
            "                                                                 \n",
            " dense (Dense)               (None, 100)               6500      \n",
            "                                                                 \n",
            " dense_1 (Dense)             (None, 20)                2020      \n",
            "                                                                 \n",
            "=================================================================\n",
            "Total params: 42,056\n",
            "Trainable params: 42,056\n",
            "Non-trainable params: 0\n",
            "_________________________________________________________________\n"
          ]
        }
      ],
      "id": "FMy0l--BKuSU"
    },
    {
      "cell_type": "code",
      "source": [
        "lstm.input_shape, lstm.output_shape"
      ],
      "metadata": {
        "colab": {
          "base_uri": "https://localhost:8080/"
        },
        "outputId": "e9219dae-908e-40e8-bd6c-e886e6b5b253",
        "id": "otrpNSWAKuSU"
      },
      "execution_count": null,
      "outputs": [
        {
          "output_type": "execute_result",
          "data": {
            "text/plain": [
              "((None, 16000, 1), (None, 20))"
            ]
          },
          "metadata": {},
          "execution_count": 11
        }
      ],
      "id": "otrpNSWAKuSU"
    },
    {
      "cell_type": "code",
      "source": [
        "early_stopping = EarlyStopping(monitor='loss', patience=4, min_delta=.001)\n",
        "early_stopping_val = EarlyStopping(monitor='val_loss', patience=10, min_delta=.001)\n",
        "callbacks = [early_stopping, early_stopping_val]"
      ],
      "metadata": {
        "id": "BoDjiOzEKuSU"
      },
      "execution_count": null,
      "outputs": [],
      "id": "BoDjiOzEKuSU"
    },
    {
      "cell_type": "code",
      "source": [
        "learning_rate = 0.001\n",
        "\n",
        "lstm.compile(optimizer=Adam(learning_rate=learning_rate),\n",
        "             loss='sparse_categorical_crossentropy',\n",
        "             metrics=['accuracy'])"
      ],
      "metadata": {
        "id": "uwsJIIt1KuSU"
      },
      "execution_count": null,
      "outputs": [],
      "id": "uwsJIIt1KuSU"
    },
    {
      "cell_type": "code",
      "source": [
        "# learning_rate = 0.001\n",
        "lstm.fit(X_train[:, :, None], y_train, batch_size=64, epochs=20, validation_data=(X_val[:, :, None], y_val),\n",
        "         callbacks=[early_stopping]);"
      ],
      "metadata": {
        "colab": {
          "base_uri": "https://localhost:8080/",
          "height": 415
        },
        "outputId": "9053b01c-2d9b-4c29-d091-1f75b0e5d9fb",
        "id": "7vicqa3DKuSU"
      },
      "execution_count": null,
      "outputs": [
        {
          "output_type": "stream",
          "name": "stdout",
          "text": [
            "Epoch 1/20\n",
            " 23/525 [>.............................] - ETA: 12:55:24 - loss: 3.0537 - accuracy: 0.0510"
          ]
        },
        {
          "output_type": "error",
          "ename": "KeyboardInterrupt",
          "evalue": "ignored",
          "traceback": [
            "\u001b[0;31m---------------------------------------------------------------------------\u001b[0m",
            "\u001b[0;31mKeyboardInterrupt\u001b[0m                         Traceback (most recent call last)",
            "\u001b[0;32m<ipython-input-14-470753edd929>\u001b[0m in \u001b[0;36m<cell line: 2>\u001b[0;34m()\u001b[0m\n\u001b[1;32m      1\u001b[0m \u001b[0;31m# learning_rate = 0.001\u001b[0m\u001b[0;34m\u001b[0m\u001b[0;34m\u001b[0m\u001b[0m\n\u001b[0;32m----> 2\u001b[0;31m lstm.fit(X_train[:, :, None], y_train, batch_size=64, epochs=20, validation_data=(X_val[:, :, None], y_val),\n\u001b[0m\u001b[1;32m      3\u001b[0m          callbacks=[early_stopping]);\n",
            "\u001b[0;32m/usr/local/lib/python3.10/dist-packages/keras/utils/traceback_utils.py\u001b[0m in \u001b[0;36merror_handler\u001b[0;34m(*args, **kwargs)\u001b[0m\n\u001b[1;32m     63\u001b[0m         \u001b[0mfiltered_tb\u001b[0m \u001b[0;34m=\u001b[0m \u001b[0;32mNone\u001b[0m\u001b[0;34m\u001b[0m\u001b[0;34m\u001b[0m\u001b[0m\n\u001b[1;32m     64\u001b[0m         \u001b[0;32mtry\u001b[0m\u001b[0;34m:\u001b[0m\u001b[0;34m\u001b[0m\u001b[0;34m\u001b[0m\u001b[0m\n\u001b[0;32m---> 65\u001b[0;31m             \u001b[0;32mreturn\u001b[0m \u001b[0mfn\u001b[0m\u001b[0;34m(\u001b[0m\u001b[0;34m*\u001b[0m\u001b[0margs\u001b[0m\u001b[0;34m,\u001b[0m \u001b[0;34m**\u001b[0m\u001b[0mkwargs\u001b[0m\u001b[0;34m)\u001b[0m\u001b[0;34m\u001b[0m\u001b[0;34m\u001b[0m\u001b[0m\n\u001b[0m\u001b[1;32m     66\u001b[0m         \u001b[0;32mexcept\u001b[0m \u001b[0mException\u001b[0m \u001b[0;32mas\u001b[0m \u001b[0me\u001b[0m\u001b[0;34m:\u001b[0m\u001b[0;34m\u001b[0m\u001b[0;34m\u001b[0m\u001b[0m\n\u001b[1;32m     67\u001b[0m             \u001b[0mfiltered_tb\u001b[0m \u001b[0;34m=\u001b[0m \u001b[0m_process_traceback_frames\u001b[0m\u001b[0;34m(\u001b[0m\u001b[0me\u001b[0m\u001b[0;34m.\u001b[0m\u001b[0m__traceback__\u001b[0m\u001b[0;34m)\u001b[0m\u001b[0;34m\u001b[0m\u001b[0;34m\u001b[0m\u001b[0m\n",
            "\u001b[0;32m/usr/local/lib/python3.10/dist-packages/keras/engine/training.py\u001b[0m in \u001b[0;36mfit\u001b[0;34m(self, x, y, batch_size, epochs, verbose, callbacks, validation_split, validation_data, shuffle, class_weight, sample_weight, initial_epoch, steps_per_epoch, validation_steps, validation_batch_size, validation_freq, max_queue_size, workers, use_multiprocessing)\u001b[0m\n\u001b[1;32m   1683\u001b[0m                         ):\n\u001b[1;32m   1684\u001b[0m                             \u001b[0mcallbacks\u001b[0m\u001b[0;34m.\u001b[0m\u001b[0mon_train_batch_begin\u001b[0m\u001b[0;34m(\u001b[0m\u001b[0mstep\u001b[0m\u001b[0;34m)\u001b[0m\u001b[0;34m\u001b[0m\u001b[0;34m\u001b[0m\u001b[0m\n\u001b[0;32m-> 1685\u001b[0;31m                             \u001b[0mtmp_logs\u001b[0m \u001b[0;34m=\u001b[0m \u001b[0mself\u001b[0m\u001b[0;34m.\u001b[0m\u001b[0mtrain_function\u001b[0m\u001b[0;34m(\u001b[0m\u001b[0miterator\u001b[0m\u001b[0;34m)\u001b[0m\u001b[0;34m\u001b[0m\u001b[0;34m\u001b[0m\u001b[0m\n\u001b[0m\u001b[1;32m   1686\u001b[0m                             \u001b[0;32mif\u001b[0m \u001b[0mdata_handler\u001b[0m\u001b[0;34m.\u001b[0m\u001b[0mshould_sync\u001b[0m\u001b[0;34m:\u001b[0m\u001b[0;34m\u001b[0m\u001b[0;34m\u001b[0m\u001b[0m\n\u001b[1;32m   1687\u001b[0m                                 \u001b[0mcontext\u001b[0m\u001b[0;34m.\u001b[0m\u001b[0masync_wait\u001b[0m\u001b[0;34m(\u001b[0m\u001b[0;34m)\u001b[0m\u001b[0;34m\u001b[0m\u001b[0;34m\u001b[0m\u001b[0m\n",
            "\u001b[0;32m/usr/local/lib/python3.10/dist-packages/tensorflow/python/util/traceback_utils.py\u001b[0m in \u001b[0;36merror_handler\u001b[0;34m(*args, **kwargs)\u001b[0m\n\u001b[1;32m    148\u001b[0m     \u001b[0mfiltered_tb\u001b[0m \u001b[0;34m=\u001b[0m \u001b[0;32mNone\u001b[0m\u001b[0;34m\u001b[0m\u001b[0;34m\u001b[0m\u001b[0m\n\u001b[1;32m    149\u001b[0m     \u001b[0;32mtry\u001b[0m\u001b[0;34m:\u001b[0m\u001b[0;34m\u001b[0m\u001b[0;34m\u001b[0m\u001b[0m\n\u001b[0;32m--> 150\u001b[0;31m       \u001b[0;32mreturn\u001b[0m \u001b[0mfn\u001b[0m\u001b[0;34m(\u001b[0m\u001b[0;34m*\u001b[0m\u001b[0margs\u001b[0m\u001b[0;34m,\u001b[0m \u001b[0;34m**\u001b[0m\u001b[0mkwargs\u001b[0m\u001b[0;34m)\u001b[0m\u001b[0;34m\u001b[0m\u001b[0;34m\u001b[0m\u001b[0m\n\u001b[0m\u001b[1;32m    151\u001b[0m     \u001b[0;32mexcept\u001b[0m \u001b[0mException\u001b[0m \u001b[0;32mas\u001b[0m \u001b[0me\u001b[0m\u001b[0;34m:\u001b[0m\u001b[0;34m\u001b[0m\u001b[0;34m\u001b[0m\u001b[0m\n\u001b[1;32m    152\u001b[0m       \u001b[0mfiltered_tb\u001b[0m \u001b[0;34m=\u001b[0m \u001b[0m_process_traceback_frames\u001b[0m\u001b[0;34m(\u001b[0m\u001b[0me\u001b[0m\u001b[0;34m.\u001b[0m\u001b[0m__traceback__\u001b[0m\u001b[0;34m)\u001b[0m\u001b[0;34m\u001b[0m\u001b[0;34m\u001b[0m\u001b[0m\n",
            "\u001b[0;32m/usr/local/lib/python3.10/dist-packages/tensorflow/python/eager/polymorphic_function/polymorphic_function.py\u001b[0m in \u001b[0;36m__call__\u001b[0;34m(self, *args, **kwds)\u001b[0m\n\u001b[1;32m    892\u001b[0m \u001b[0;34m\u001b[0m\u001b[0m\n\u001b[1;32m    893\u001b[0m       \u001b[0;32mwith\u001b[0m \u001b[0mOptionalXlaContext\u001b[0m\u001b[0;34m(\u001b[0m\u001b[0mself\u001b[0m\u001b[0;34m.\u001b[0m\u001b[0m_jit_compile\u001b[0m\u001b[0;34m)\u001b[0m\u001b[0;34m:\u001b[0m\u001b[0;34m\u001b[0m\u001b[0;34m\u001b[0m\u001b[0m\n\u001b[0;32m--> 894\u001b[0;31m         \u001b[0mresult\u001b[0m \u001b[0;34m=\u001b[0m \u001b[0mself\u001b[0m\u001b[0;34m.\u001b[0m\u001b[0m_call\u001b[0m\u001b[0;34m(\u001b[0m\u001b[0;34m*\u001b[0m\u001b[0margs\u001b[0m\u001b[0;34m,\u001b[0m \u001b[0;34m**\u001b[0m\u001b[0mkwds\u001b[0m\u001b[0;34m)\u001b[0m\u001b[0;34m\u001b[0m\u001b[0;34m\u001b[0m\u001b[0m\n\u001b[0m\u001b[1;32m    895\u001b[0m \u001b[0;34m\u001b[0m\u001b[0m\n\u001b[1;32m    896\u001b[0m       \u001b[0mnew_tracing_count\u001b[0m \u001b[0;34m=\u001b[0m \u001b[0mself\u001b[0m\u001b[0;34m.\u001b[0m\u001b[0mexperimental_get_tracing_count\u001b[0m\u001b[0;34m(\u001b[0m\u001b[0;34m)\u001b[0m\u001b[0;34m\u001b[0m\u001b[0;34m\u001b[0m\u001b[0m\n",
            "\u001b[0;32m/usr/local/lib/python3.10/dist-packages/tensorflow/python/eager/polymorphic_function/polymorphic_function.py\u001b[0m in \u001b[0;36m_call\u001b[0;34m(self, *args, **kwds)\u001b[0m\n\u001b[1;32m    924\u001b[0m       \u001b[0;31m# In this case we have created variables on the first call, so we run the\u001b[0m\u001b[0;34m\u001b[0m\u001b[0;34m\u001b[0m\u001b[0m\n\u001b[1;32m    925\u001b[0m       \u001b[0;31m# defunned version which is guaranteed to never create variables.\u001b[0m\u001b[0;34m\u001b[0m\u001b[0;34m\u001b[0m\u001b[0m\n\u001b[0;32m--> 926\u001b[0;31m       \u001b[0;32mreturn\u001b[0m \u001b[0mself\u001b[0m\u001b[0;34m.\u001b[0m\u001b[0m_no_variable_creation_fn\u001b[0m\u001b[0;34m(\u001b[0m\u001b[0;34m*\u001b[0m\u001b[0margs\u001b[0m\u001b[0;34m,\u001b[0m \u001b[0;34m**\u001b[0m\u001b[0mkwds\u001b[0m\u001b[0;34m)\u001b[0m  \u001b[0;31m# pylint: disable=not-callable\u001b[0m\u001b[0;34m\u001b[0m\u001b[0;34m\u001b[0m\u001b[0m\n\u001b[0m\u001b[1;32m    927\u001b[0m     \u001b[0;32melif\u001b[0m \u001b[0mself\u001b[0m\u001b[0;34m.\u001b[0m\u001b[0m_variable_creation_fn\u001b[0m \u001b[0;32mis\u001b[0m \u001b[0;32mnot\u001b[0m \u001b[0;32mNone\u001b[0m\u001b[0;34m:\u001b[0m\u001b[0;34m\u001b[0m\u001b[0;34m\u001b[0m\u001b[0m\n\u001b[1;32m    928\u001b[0m       \u001b[0;31m# Release the lock early so that multiple threads can perform the call\u001b[0m\u001b[0;34m\u001b[0m\u001b[0;34m\u001b[0m\u001b[0m\n",
            "\u001b[0;32m/usr/local/lib/python3.10/dist-packages/tensorflow/python/eager/polymorphic_function/tracing_compiler.py\u001b[0m in \u001b[0;36m__call__\u001b[0;34m(self, *args, **kwargs)\u001b[0m\n\u001b[1;32m    141\u001b[0m       (concrete_function,\n\u001b[1;32m    142\u001b[0m        filtered_flat_args) = self._maybe_define_function(args, kwargs)\n\u001b[0;32m--> 143\u001b[0;31m     return concrete_function._call_flat(\n\u001b[0m\u001b[1;32m    144\u001b[0m         filtered_flat_args, captured_inputs=concrete_function.captured_inputs)  # pylint: disable=protected-access\n\u001b[1;32m    145\u001b[0m \u001b[0;34m\u001b[0m\u001b[0m\n",
            "\u001b[0;32m/usr/local/lib/python3.10/dist-packages/tensorflow/python/eager/polymorphic_function/monomorphic_function.py\u001b[0m in \u001b[0;36m_call_flat\u001b[0;34m(self, args, captured_inputs, cancellation_manager)\u001b[0m\n\u001b[1;32m   1755\u001b[0m         and executing_eagerly):\n\u001b[1;32m   1756\u001b[0m       \u001b[0;31m# No tape is watching; skip to running the function.\u001b[0m\u001b[0;34m\u001b[0m\u001b[0;34m\u001b[0m\u001b[0m\n\u001b[0;32m-> 1757\u001b[0;31m       return self._build_call_outputs(self._inference_function.call(\n\u001b[0m\u001b[1;32m   1758\u001b[0m           ctx, args, cancellation_manager=cancellation_manager))\n\u001b[1;32m   1759\u001b[0m     forward_backward = self._select_forward_and_backward_functions(\n",
            "\u001b[0;32m/usr/local/lib/python3.10/dist-packages/tensorflow/python/eager/polymorphic_function/monomorphic_function.py\u001b[0m in \u001b[0;36mcall\u001b[0;34m(self, ctx, args, cancellation_manager)\u001b[0m\n\u001b[1;32m    379\u001b[0m       \u001b[0;32mwith\u001b[0m \u001b[0m_InterpolateFunctionError\u001b[0m\u001b[0;34m(\u001b[0m\u001b[0mself\u001b[0m\u001b[0;34m)\u001b[0m\u001b[0;34m:\u001b[0m\u001b[0;34m\u001b[0m\u001b[0;34m\u001b[0m\u001b[0m\n\u001b[1;32m    380\u001b[0m         \u001b[0;32mif\u001b[0m \u001b[0mcancellation_manager\u001b[0m \u001b[0;32mis\u001b[0m \u001b[0;32mNone\u001b[0m\u001b[0;34m:\u001b[0m\u001b[0;34m\u001b[0m\u001b[0;34m\u001b[0m\u001b[0m\n\u001b[0;32m--> 381\u001b[0;31m           outputs = execute.execute(\n\u001b[0m\u001b[1;32m    382\u001b[0m               \u001b[0mstr\u001b[0m\u001b[0;34m(\u001b[0m\u001b[0mself\u001b[0m\u001b[0;34m.\u001b[0m\u001b[0msignature\u001b[0m\u001b[0;34m.\u001b[0m\u001b[0mname\u001b[0m\u001b[0;34m)\u001b[0m\u001b[0;34m,\u001b[0m\u001b[0;34m\u001b[0m\u001b[0;34m\u001b[0m\u001b[0m\n\u001b[1;32m    383\u001b[0m               \u001b[0mnum_outputs\u001b[0m\u001b[0;34m=\u001b[0m\u001b[0mself\u001b[0m\u001b[0;34m.\u001b[0m\u001b[0m_num_outputs\u001b[0m\u001b[0;34m,\u001b[0m\u001b[0;34m\u001b[0m\u001b[0;34m\u001b[0m\u001b[0m\n",
            "\u001b[0;32m/usr/local/lib/python3.10/dist-packages/tensorflow/python/eager/execute.py\u001b[0m in \u001b[0;36mquick_execute\u001b[0;34m(op_name, num_outputs, inputs, attrs, ctx, name)\u001b[0m\n\u001b[1;32m     50\u001b[0m   \u001b[0;32mtry\u001b[0m\u001b[0;34m:\u001b[0m\u001b[0;34m\u001b[0m\u001b[0;34m\u001b[0m\u001b[0m\n\u001b[1;32m     51\u001b[0m     \u001b[0mctx\u001b[0m\u001b[0;34m.\u001b[0m\u001b[0mensure_initialized\u001b[0m\u001b[0;34m(\u001b[0m\u001b[0;34m)\u001b[0m\u001b[0;34m\u001b[0m\u001b[0;34m\u001b[0m\u001b[0m\n\u001b[0;32m---> 52\u001b[0;31m     tensors = pywrap_tfe.TFE_Py_Execute(ctx._handle, device_name, op_name,\n\u001b[0m\u001b[1;32m     53\u001b[0m                                         inputs, attrs, num_outputs)\n\u001b[1;32m     54\u001b[0m   \u001b[0;32mexcept\u001b[0m \u001b[0mcore\u001b[0m\u001b[0;34m.\u001b[0m\u001b[0m_NotOkStatusException\u001b[0m \u001b[0;32mas\u001b[0m \u001b[0me\u001b[0m\u001b[0;34m:\u001b[0m\u001b[0;34m\u001b[0m\u001b[0;34m\u001b[0m\u001b[0m\n",
            "\u001b[0;31mKeyboardInterrupt\u001b[0m: "
          ]
        }
      ],
      "id": "7vicqa3DKuSU"
    },
    {
      "cell_type": "markdown",
      "source": [
        "## Report"
      ],
      "metadata": {
        "id": "mOBgE_CxvNNi"
      },
      "id": "mOBgE_CxvNNi"
    },
    {
      "cell_type": "code",
      "source": [
        "y_pred_lstm = lstm.predict(X_val[:, :, None])\n",
        "print(classification_report(y_val, y_pred_lstm.argmax(axis=1)))"
      ],
      "metadata": {
        "colab": {
          "base_uri": "https://localhost:8080/"
        },
        "outputId": "684bad83-c557-4997-80b8-98fd5df3d99b",
        "id": "YnU30hYJqf-3"
      },
      "execution_count": null,
      "outputs": [
        {
          "output_type": "stream",
          "name": "stdout",
          "text": [
            "145/145 [==============================] - 29s 197ms/step\n",
            "              precision    recall  f1-score   support\n",
            "\n",
            "           0       0.01      0.00      0.01       247\n",
            "           1       0.10      0.03      0.04       226\n",
            "           2       0.07      0.05      0.06       224\n",
            "           3       0.00      0.00      0.00       261\n",
            "           4       0.08      0.05      0.06       231\n",
            "           5       0.05      0.03      0.03       233\n",
            "           6       0.00      0.00      0.00       215\n",
            "           7       0.07      0.01      0.02       235\n",
            "           8       0.00      0.00      0.00       232\n",
            "           9       0.04      0.09      0.06       234\n",
            "          10       0.00      0.00      0.00       209\n",
            "          11       0.03      0.03      0.03       235\n",
            "          12       0.06      0.12      0.08       240\n",
            "          13       0.07      0.16      0.10       241\n",
            "          14       0.02      0.00      0.01       225\n",
            "          15       0.05      0.01      0.02       225\n",
            "          16       0.05      0.14      0.07       214\n",
            "          17       0.06      0.12      0.08       221\n",
            "          18       0.09      0.08      0.08       232\n",
            "          19       0.06      0.20      0.09       239\n",
            "\n",
            "    accuracy                           0.06      4619\n",
            "   macro avg       0.05      0.06      0.04      4619\n",
            "weighted avg       0.05      0.06      0.04      4619\n",
            "\n"
          ]
        }
      ],
      "id": "YnU30hYJqf-3"
    }
  ],
  "metadata": {
    "hide_input": false,
    "kernelspec": {
      "display_name": "Python 3",
      "name": "python3"
    },
    "language_info": {
      "codemirror_mode": {
        "name": "ipython",
        "version": 3
      },
      "file_extension": ".py",
      "mimetype": "text/x-python",
      "name": "python",
      "nbconvert_exporter": "python",
      "pygments_lexer": "ipython3",
      "version": "3.9.7"
    },
    "toc": {
      "base_numbering": 1,
      "nav_menu": {},
      "number_sections": true,
      "sideBar": true,
      "skip_h1_title": false,
      "title_cell": "Table of Contents",
      "title_sidebar": "Contents",
      "toc_cell": false,
      "toc_position": {},
      "toc_section_display": true,
      "toc_window_display": true
    },
    "varInspector": {
      "cols": {
        "lenName": 16,
        "lenType": 16,
        "lenVar": 40
      },
      "kernels_config": {
        "python": {
          "delete_cmd_postfix": "",
          "delete_cmd_prefix": "del ",
          "library": "var_list.py",
          "varRefreshCmd": "print(var_dic_list())"
        },
        "r": {
          "delete_cmd_postfix": ") ",
          "delete_cmd_prefix": "rm(",
          "library": "var_list.r",
          "varRefreshCmd": "cat(var_dic_list()) "
        }
      },
      "types_to_exclude": [
        "module",
        "function",
        "builtin_function_or_method",
        "instance",
        "_Feature"
      ],
      "window_display": false
    },
    "colab": {
      "provenance": [],
      "gpuType": "T4"
    },
    "accelerator": "GPU"
  },
  "nbformat": 4,
  "nbformat_minor": 5
}