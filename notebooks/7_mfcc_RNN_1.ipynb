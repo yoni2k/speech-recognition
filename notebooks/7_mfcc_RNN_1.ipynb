{
 "cells": [
  {
   "cell_type": "code",
   "execution_count": null,
   "id": "60718ffa",
   "metadata": {
    "ExecuteTime": {
     "end_time": "2023-07-04T13:56:59.295637Z",
     "start_time": "2023-07-04T13:56:59.286151Z"
    },
    "id": "60718ffa"
   },
   "outputs": [],
   "source": [
    "# ! pip install --user librosa"
   ]
  },
  {
   "cell_type": "code",
   "execution_count": null,
   "id": "c223697b",
   "metadata": {
    "ExecuteTime": {
     "end_time": "2023-07-04T15:08:07.159437Z",
     "start_time": "2023-07-04T15:08:02.089282Z"
    },
    "id": "c223697b"
   },
   "outputs": [],
   "source": [
    "from pathlib import Path\n",
    "from scipy.io import wavfile\n",
    "import scipy.signal\n",
    "import pandas as pd\n",
    "from tqdm.auto import tqdm\n",
    "import seaborn as sns\n",
    "import matplotlib.pyplot as plt\n",
    "from collections import Counter\n",
    "import numpy as np\n",
    "import os\n",
    "from sklearn.linear_model import LogisticRegression\n",
    "from sklearn.metrics import accuracy_score, classification_report\n",
    "from sklearn.ensemble import RandomForestClassifier\n",
    "import tensorflow as tf\n",
    "from tensorflow.keras.layers import LSTM, Dense\n",
    "from tensorflow.keras.models import Sequential\n",
    "from sklearn.preprocessing import LabelEncoder\n",
    "from tensorflow.keras.optimizers import Adam\n",
    "from tensorflow.keras.callbacks import EarlyStopping"
   ]
  },
  {
   "cell_type": "markdown",
   "id": "s4x4DS3IxaYL",
   "metadata": {
    "id": "s4x4DS3IxaYL"
   },
   "source": [
    "## Mount Drive"
   ]
  },
  {
   "cell_type": "code",
   "execution_count": null,
   "id": "gWhFzrEkxZdC",
   "metadata": {
    "id": "gWhFzrEkxZdC"
   },
   "outputs": [],
   "source": [
    "def is_running_on_colab():\n",
    "    try:\n",
    "        import google.colab\n",
    "        return True\n",
    "    except ImportError:\n",
    "        return False\n",
    "\n",
    "ON_COLAB = is_running_on_colab()\n",
    "ON_COLAB"
   ]
  },
  {
   "cell_type": "code",
   "execution_count": null,
   "id": "-SEvLXbvxe0A",
   "metadata": {
    "id": "-SEvLXbvxe0A"
   },
   "outputs": [],
   "source": [
    "if ON_COLAB:\n",
    "  from google.colab import drive\n",
    "  drive.mount('/content/gdrive')\n",
    "  intermediate_folder = Path('/content/gdrive/MyDrive/Temp/Speech recognition project')\n",
    "else:\n",
    "  intermediate_folder = Path('..') / 'data' / 'intermediate'"
   ]
  },
  {
   "cell_type": "markdown",
   "id": "c0f22118",
   "metadata": {
    "id": "c0f22118"
   },
   "source": [
    "## Read data"
   ]
  },
  {
   "cell_type": "code",
   "execution_count": null,
   "id": "1cf1809d",
   "metadata": {
    "ExecuteTime": {
     "end_time": "2023-07-04T15:23:08.691126Z",
     "start_time": "2023-07-04T15:23:08.359560Z"
    },
    "id": "1cf1809d",
    "outputId": "15589920-1385-444e-eddc-02261504f363"
   },
   "outputs": [
    {
     "data": {
      "text/plain": [
       "(33566, 20, 32)"
      ]
     },
     "execution_count": 16,
     "metadata": {},
     "output_type": "execute_result"
    }
   ],
   "source": [
    "X_train = np.load(intermediate_folder / 'train_main_1_sec_audio_mfcc.npy').transpose(0, 2, 1)\n",
    "X_train.shape"
   ]
  },
  {
   "cell_type": "code",
   "execution_count": null,
   "id": "e323dc3a",
   "metadata": {
    "ExecuteTime": {
     "end_time": "2023-07-04T15:23:08.906806Z",
     "start_time": "2023-07-04T15:23:08.785010Z"
    },
    "id": "e323dc3a",
    "outputId": "88c5efbf-63fd-4c7b-fa77-d437f970bb35"
   },
   "outputs": [
    {
     "data": {
      "text/plain": [
       "(4619, 20, 32)"
      ]
     },
     "execution_count": 17,
     "metadata": {},
     "output_type": "execute_result"
    }
   ],
   "source": [
    "X_val = np.load(intermediate_folder / 'val_main_1_sec_audio_mfcc.npy').transpose(0, 2, 1)\n",
    "X_val.shape"
   ]
  },
  {
   "cell_type": "code",
   "execution_count": null,
   "id": "1947bcc5",
   "metadata": {
    "ExecuteTime": {
     "end_time": "2023-07-04T15:23:09.634515Z",
     "start_time": "2023-07-04T15:23:09.575687Z"
    },
    "id": "1947bcc5",
    "outputId": "056c4cc5-5b43-4142-b5f3-7faffaba1d88"
   },
   "outputs": [
    {
     "data": {
      "text/plain": [
       "(4689, 20, 32)"
      ]
     },
     "execution_count": 18,
     "metadata": {},
     "output_type": "execute_result"
    }
   ],
   "source": [
    "# X_test = np.load(intermediate_folder / 'test_main_1_sec_audio_mfcc.npy').transpose(0, 2, 1)\n",
    "# X_test.shape"
   ]
  },
  {
   "cell_type": "code",
   "execution_count": null,
   "id": "a94d9740",
   "metadata": {
    "ExecuteTime": {
     "end_time": "2023-07-04T15:23:10.843802Z",
     "start_time": "2023-07-04T15:23:10.759245Z"
    },
    "id": "a94d9740",
    "outputId": "c0ad1790-9b40-4fbc-b506-f8542fb5ec91"
   },
   "outputs": [
    {
     "data": {
      "text/plain": [
       "((33566,), (4619,), (4689,))"
      ]
     },
     "execution_count": 19,
     "metadata": {},
     "output_type": "execute_result"
    }
   ],
   "source": [
    "y_train_labels = pd.read_csv(intermediate_folder / 'train_main_1_sec_labels.csv', header=None, index_col=False)[0]\n",
    "y_val_labels = pd.read_csv(intermediate_folder / 'val_main_1_sec_labels.csv', header=None, index_col=False)[0]\n",
    "# y_test_labels = pd.read_csv(intermediate_folder / 'test_main_1_sec_labels.csv', header=None, index_col=False)[0]\n",
    "y_train_labels.shape, y_val_labels.shape\n",
    "# y_train_labels.shape, y_val_labels.shape, y_test_labels.shape"
   ]
  },
  {
   "cell_type": "code",
   "execution_count": null,
   "id": "z7I_fnXDy1ZS",
   "metadata": {
    "id": "z7I_fnXDy1ZS"
   },
   "outputs": [],
   "source": [
    "le = LabelEncoder()\n",
    "le.fit(y_train_labels)\n",
    "\n",
    "y_train = le.transform(y_train_labels)\n",
    "y_val = le.transform(y_val_labels)\n",
    "# y_test = le.transform(y_test_labels)\n",
    "y_train.shape, y_val.shape\n",
    "# y_train.shape, y_val.shape, y_test.shape"
   ]
  },
  {
   "cell_type": "code",
   "execution_count": null,
   "id": "uxvX7cPdzMje",
   "metadata": {
    "id": "uxvX7cPdzMje"
   },
   "outputs": [],
   "source": [
    "pd.Series(y_train).value_counts().sort_index()"
   ]
  },
  {
   "cell_type": "markdown",
   "id": "0688e654",
   "metadata": {
    "id": "0688e654"
   },
   "source": [
    "## RNN - 50"
   ]
  },
  {
   "cell_type": "code",
   "execution_count": null,
   "id": "0acf99f5",
   "metadata": {
    "ExecuteTime": {
     "end_time": "2023-07-04T15:26:16.627154Z",
     "start_time": "2023-07-04T15:24:51.238295Z"
    },
    "id": "0acf99f5",
    "outputId": "8417a2c4-8c40-4b86-cf6d-fd00cd81e6b0"
   },
   "outputs": [
    {
     "name": "stderr",
     "output_type": "stream",
     "text": [
      "[Parallel(n_jobs=1)]: Using backend SequentialBackend with 1 concurrent workers.\n",
      "C:\\ProgramData\\Anaconda3\\lib\\site-packages\\sklearn\\linear_model\\_logistic.py:763: ConvergenceWarning: lbfgs failed to converge (status=1):\n",
      "STOP: TOTAL NO. of ITERATIONS REACHED LIMIT.\n",
      "\n",
      "Increase the number of iterations (max_iter) or scale the data as shown in:\n",
      "    https://scikit-learn.org/stable/modules/preprocessing.html\n",
      "Please also refer to the documentation for alternative solver options:\n",
      "    https://scikit-learn.org/stable/modules/linear_model.html#logistic-regression\n",
      "  n_iter_i = _check_optimize_result(\n",
      "[Parallel(n_jobs=1)]: Done   1 out of   1 | elapsed:  1.4min finished\n"
     ]
    },
    {
     "name": "stdout",
     "output_type": "stream",
     "text": [
      "              precision    recall  f1-score   support\n",
      "\n",
      "        down       0.05      0.04      0.05       247\n",
      "       eight       0.04      0.03      0.03       226\n",
      "        five       0.06      0.07      0.07       224\n",
      "        four       0.07      0.06      0.07       261\n",
      "          go       0.03      0.03      0.03       231\n",
      "        left       0.03      0.04      0.04       233\n",
      "        nine       0.06      0.07      0.06       215\n",
      "          no       0.05      0.04      0.04       235\n",
      "         off       0.05      0.06      0.05       232\n",
      "          on       0.03      0.03      0.03       234\n",
      "         one       0.04      0.03      0.03       209\n",
      "       right       0.05      0.06      0.05       235\n",
      "       seven       0.05      0.04      0.05       240\n",
      "         six       0.07      0.09      0.08       241\n",
      "        stop       0.05      0.04      0.05       225\n",
      "       three       0.06      0.07      0.07       225\n",
      "         two       0.05      0.06      0.05       214\n",
      "          up       0.05      0.04      0.04       221\n",
      "         yes       0.07      0.07      0.07       232\n",
      "        zero       0.04      0.05      0.05       239\n",
      "\n",
      "    accuracy                           0.05      4619\n",
      "   macro avg       0.05      0.05      0.05      4619\n",
      "weighted avg       0.05      0.05      0.05      4619\n",
      "\n"
     ]
    }
   ],
   "source": [
    "lstm = Sequential([LSTM(50, input_shape=(32, 20)),\n",
    "                  Dense(20, activation='softmax')]\n",
    "                  )\n",
    "lstm.summary()"
   ]
  },
  {
   "cell_type": "code",
   "execution_count": null,
   "id": "fywomH2MyDHV",
   "metadata": {
    "id": "fywomH2MyDHV"
   },
   "outputs": [],
   "source": [
    "lstm.input_shape, lstm.output_shape"
   ]
  },
  {
   "cell_type": "code",
   "execution_count": null,
   "id": "7scJaL11yFZl",
   "metadata": {
    "id": "7scJaL11yFZl"
   },
   "outputs": [],
   "source": [
    "early_stopping = EarlyStopping(monitor='val_loss', patience=5)"
   ]
  },
  {
   "cell_type": "code",
   "execution_count": null,
   "id": "m8qVhFI0yGNq",
   "metadata": {
    "id": "m8qVhFI0yGNq"
   },
   "outputs": [],
   "source": [
    "learning_rate = 0.001\n",
    "\n",
    "lstm.compile(optimizer=Adam(learning_rate=learning_rate),\n",
    "             loss='sparse_categorical_crossentropy',\n",
    "             metrics=['accuracy'])"
   ]
  },
  {
   "cell_type": "code",
   "execution_count": null,
   "id": "p_J8vUn3yIRt",
   "metadata": {
    "id": "p_J8vUn3yIRt"
   },
   "outputs": [],
   "source": []
  },
  {
   "cell_type": "code",
   "execution_count": null,
   "id": "7NQ0m7mMyKpR",
   "metadata": {
    "id": "7NQ0m7mMyKpR"
   },
   "outputs": [],
   "source": []
  },
  {
   "cell_type": "code",
   "execution_count": null,
   "id": "dgk7dDBWyKrx",
   "metadata": {
    "id": "dgk7dDBWyKrx"
   },
   "outputs": [],
   "source": []
  },
  {
   "cell_type": "code",
   "execution_count": null,
   "id": "BXKeX35myKuR",
   "metadata": {
    "id": "BXKeX35myKuR"
   },
   "outputs": [],
   "source": []
  },
  {
   "cell_type": "code",
   "execution_count": null,
   "id": "0dlNHfsIyKwW",
   "metadata": {
    "id": "0dlNHfsIyKwW"
   },
   "outputs": [],
   "source": []
  },
  {
   "cell_type": "markdown",
   "id": "nh8eOK8lyK5F",
   "metadata": {
    "id": "nh8eOK8lyK5F"
   },
   "source": [
    "## Report"
   ]
  },
  {
   "cell_type": "code",
   "execution_count": null,
   "id": "U5IiNdxWyLmY",
   "metadata": {
    "id": "U5IiNdxWyLmY"
   },
   "outputs": [],
   "source": [
    "y_pred_lstm = lstm.predict(X_val[:, :, None])\n",
    "print(classification_report(y_val, y_pred_lstm.argmax(axis=1)))"
   ]
  }
 ],
 "metadata": {
  "accelerator": "GPU",
  "colab": {
   "gpuType": "T4",
   "provenance": []
  },
  "hide_input": false,
  "kernelspec": {
   "display_name": "Python 3 (ipykernel)",
   "language": "python",
   "name": "python3"
  },
  "language_info": {
   "codemirror_mode": {
    "name": "ipython",
    "version": 3
   },
   "file_extension": ".py",
   "mimetype": "text/x-python",
   "name": "python",
   "nbconvert_exporter": "python",
   "pygments_lexer": "ipython3",
   "version": "3.9.7"
  },
  "toc": {
   "base_numbering": 1,
   "nav_menu": {},
   "number_sections": true,
   "sideBar": true,
   "skip_h1_title": false,
   "title_cell": "Table of Contents",
   "title_sidebar": "Contents",
   "toc_cell": false,
   "toc_position": {},
   "toc_section_display": true,
   "toc_window_display": true
  },
  "varInspector": {
   "cols": {
    "lenName": 16,
    "lenType": 16,
    "lenVar": 40
   },
   "kernels_config": {
    "python": {
     "delete_cmd_postfix": "",
     "delete_cmd_prefix": "del ",
     "library": "var_list.py",
     "varRefreshCmd": "print(var_dic_list())"
    },
    "r": {
     "delete_cmd_postfix": ") ",
     "delete_cmd_prefix": "rm(",
     "library": "var_list.r",
     "varRefreshCmd": "cat(var_dic_list()) "
    }
   },
   "position": {
    "height": "297.865px",
    "left": "1754.33px",
    "right": "20px",
    "top": "120px",
    "width": "350px"
   },
   "types_to_exclude": [
    "module",
    "function",
    "builtin_function_or_method",
    "instance",
    "_Feature"
   ],
   "window_display": false
  }
 },
 "nbformat": 4,
 "nbformat_minor": 5
}
