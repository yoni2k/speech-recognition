{
 "cells": [
  {
   "cell_type": "code",
   "execution_count": 1,
   "id": "60718ffa",
   "metadata": {
    "ExecuteTime": {
     "end_time": "2023-07-16T05:22:51.711862Z",
     "start_time": "2023-07-16T05:22:51.697457Z"
    }
   },
   "outputs": [],
   "source": [
    "# ! pip install --user librosa"
   ]
  },
  {
   "cell_type": "code",
   "execution_count": 2,
   "id": "c223697b",
   "metadata": {
    "ExecuteTime": {
     "end_time": "2023-07-16T05:22:54.082850Z",
     "start_time": "2023-07-16T05:22:51.714177Z"
    }
   },
   "outputs": [],
   "source": [
    "from pathlib import Path\n",
    "from scipy.io import wavfile\n",
    "import scipy.signal\n",
    "import pandas as pd\n",
    "from tqdm.auto import tqdm\n",
    "import seaborn as sns\n",
    "import matplotlib.pyplot as plt\n",
    "from collections import Counter\n",
    "import numpy as np\n",
    "import os\n",
    "from sklearn.linear_model import LogisticRegression\n",
    "from sklearn.metrics import accuracy_score, classification_report\n",
    "from sklearn.ensemble import RandomForestClassifier\n",
    "import librosa"
   ]
  },
  {
   "cell_type": "code",
   "execution_count": 3,
   "id": "e28503be",
   "metadata": {
    "ExecuteTime": {
     "end_time": "2023-07-16T05:22:54.098156Z",
     "start_time": "2023-07-16T05:22:54.085270Z"
    }
   },
   "outputs": [],
   "source": [
    "intermediate_folder = Path('..') / 'data' / 'intermediate'"
   ]
  },
  {
   "cell_type": "code",
   "execution_count": 4,
   "id": "c3b06050",
   "metadata": {
    "ExecuteTime": {
     "end_time": "2023-07-16T05:22:56.680551Z",
     "start_time": "2023-07-16T05:22:54.099124Z"
    }
   },
   "outputs": [
    {
     "data": {
      "text/plain": [
       "(33566, 16000)"
      ]
     },
     "execution_count": 4,
     "metadata": {},
     "output_type": "execute_result"
    }
   ],
   "source": [
    "X_train = np.load(intermediate_folder / 'train_main_1_sec_audio.npy').astype(float)\n",
    "X_train.shape"
   ]
  },
  {
   "cell_type": "code",
   "execution_count": 5,
   "id": "135dffdc",
   "metadata": {
    "ExecuteTime": {
     "end_time": "2023-07-16T05:22:57.257582Z",
     "start_time": "2023-07-16T05:22:56.682369Z"
    }
   },
   "outputs": [
    {
     "data": {
      "text/plain": [
       "(4619, 16000)"
      ]
     },
     "execution_count": 5,
     "metadata": {},
     "output_type": "execute_result"
    }
   ],
   "source": [
    "X_val = np.load(intermediate_folder / 'val_main_1_sec_audio.npy').astype(float)\n",
    "X_val.shape"
   ]
  },
  {
   "cell_type": "code",
   "execution_count": 6,
   "id": "38ebe26c",
   "metadata": {
    "ExecuteTime": {
     "end_time": "2023-07-16T05:22:57.910384Z",
     "start_time": "2023-07-16T05:22:57.260622Z"
    }
   },
   "outputs": [
    {
     "data": {
      "text/plain": [
       "(4689, 16000)"
      ]
     },
     "execution_count": 6,
     "metadata": {},
     "output_type": "execute_result"
    }
   ],
   "source": [
    "X_test = np.load(intermediate_folder / 'test_main_1_sec_audio.npy').astype(float)\n",
    "X_test.shape"
   ]
  },
  {
   "cell_type": "code",
   "execution_count": 7,
   "id": "be092f1b",
   "metadata": {
    "ExecuteTime": {
     "end_time": "2023-07-16T05:22:57.941715Z",
     "start_time": "2023-07-16T05:22:57.918205Z"
    }
   },
   "outputs": [],
   "source": [
    "SAMPLE_RATE = 16000"
   ]
  },
  {
   "cell_type": "code",
   "execution_count": 8,
   "id": "ffcc28cc",
   "metadata": {
    "ExecuteTime": {
     "end_time": "2023-07-16T05:26:47.028474Z",
     "start_time": "2023-07-16T05:22:57.949290Z"
    }
   },
   "outputs": [
    {
     "data": {
      "application/vnd.jupyter.widget-view+json": {
       "model_id": "088860e24a744365abc98c5cb8672526",
       "version_major": 2,
       "version_minor": 0
      },
      "text/plain": [
       "  0%|          | 0/33566 [00:00<?, ?it/s]"
      ]
     },
     "metadata": {},
     "output_type": "display_data"
    },
    {
     "data": {
      "text/plain": [
       "(33566, 20, 32)"
      ]
     },
     "execution_count": 8,
     "metadata": {},
     "output_type": "execute_result"
    }
   ],
   "source": [
    "mfcc_train_list = []\n",
    "\n",
    "for i in tqdm(range(len(X_train))):\n",
    "    mfcc_train_list.append(librosa.feature.mfcc(y=X_train[i], sr=SAMPLE_RATE))\n",
    "\n",
    "X_train_mfcc_np = np.stack(mfcc_train_list)\n",
    "del mfcc_train_list\n",
    "X_train_mfcc_np.shape"
   ]
  },
  {
   "cell_type": "code",
   "execution_count": 9,
   "id": "d1734352",
   "metadata": {
    "ExecuteTime": {
     "end_time": "2023-07-16T05:27:16.399305Z",
     "start_time": "2023-07-16T05:26:47.032115Z"
    }
   },
   "outputs": [
    {
     "data": {
      "application/vnd.jupyter.widget-view+json": {
       "model_id": "635f1163c4fd4fcc8ddf3d1d00627e5c",
       "version_major": 2,
       "version_minor": 0
      },
      "text/plain": [
       "  0%|          | 0/4619 [00:00<?, ?it/s]"
      ]
     },
     "metadata": {},
     "output_type": "display_data"
    },
    {
     "data": {
      "text/plain": [
       "(4619, 20, 32)"
      ]
     },
     "execution_count": 9,
     "metadata": {},
     "output_type": "execute_result"
    }
   ],
   "source": [
    "mfcc_val_list = []\n",
    "\n",
    "for i in tqdm(range(len(X_val))):\n",
    "    mfcc_val_list.append(librosa.feature.mfcc(y=X_val[i], sr=SAMPLE_RATE))\n",
    "\n",
    "X_val_mfcc_np = np.stack(mfcc_val_list)\n",
    "del mfcc_val_list\n",
    "X_val_mfcc_np.shape"
   ]
  },
  {
   "cell_type": "code",
   "execution_count": 10,
   "id": "71b113c8",
   "metadata": {
    "ExecuteTime": {
     "end_time": "2023-07-16T05:27:45.109455Z",
     "start_time": "2023-07-16T05:27:16.401348Z"
    }
   },
   "outputs": [
    {
     "data": {
      "application/vnd.jupyter.widget-view+json": {
       "model_id": "feabf7fd0a24439984e8c853e43e16a5",
       "version_major": 2,
       "version_minor": 0
      },
      "text/plain": [
       "  0%|          | 0/4689 [00:00<?, ?it/s]"
      ]
     },
     "metadata": {},
     "output_type": "display_data"
    },
    {
     "data": {
      "text/plain": [
       "(4689, 20, 32)"
      ]
     },
     "execution_count": 10,
     "metadata": {},
     "output_type": "execute_result"
    }
   ],
   "source": [
    "mfcc_test_list = []\n",
    "\n",
    "for i in tqdm(range(len(X_test))):\n",
    "    mfcc_test_list.append(librosa.feature.mfcc(y=X_test[i], sr=SAMPLE_RATE))\n",
    "\n",
    "X_test_mfcc_np = np.stack(mfcc_test_list)\n",
    "del mfcc_test_list\n",
    "X_test_mfcc_np.shape"
   ]
  },
  {
   "cell_type": "code",
   "execution_count": 11,
   "id": "b795940a",
   "metadata": {
    "ExecuteTime": {
     "end_time": "2023-07-16T05:27:45.296061Z",
     "start_time": "2023-07-16T05:27:45.110955Z"
    }
   },
   "outputs": [],
   "source": [
    "np.save(intermediate_folder / 'train_main_1_sec_audio_mfcc.npy', X_train_mfcc_np)"
   ]
  },
  {
   "cell_type": "code",
   "execution_count": 12,
   "id": "ca342567",
   "metadata": {
    "ExecuteTime": {
     "end_time": "2023-07-16T05:27:45.327856Z",
     "start_time": "2023-07-16T05:27:45.303525Z"
    }
   },
   "outputs": [],
   "source": [
    "np.save(intermediate_folder / 'val_main_1_sec_audio_mfcc.npy', X_val_mfcc_np)"
   ]
  },
  {
   "cell_type": "code",
   "execution_count": 13,
   "id": "503bfd52",
   "metadata": {
    "ExecuteTime": {
     "end_time": "2023-07-16T05:27:45.358807Z",
     "start_time": "2023-07-16T05:27:45.329619Z"
    }
   },
   "outputs": [],
   "source": [
    "np.save(intermediate_folder / 'test_main_1_sec_audio_mfcc.npy', X_test_mfcc_np)"
   ]
  }
 ],
 "metadata": {
  "hide_input": false,
  "kernelspec": {
   "display_name": "Python 3 (ipykernel)",
   "language": "python",
   "name": "python3"
  },
  "language_info": {
   "codemirror_mode": {
    "name": "ipython",
    "version": 3
   },
   "file_extension": ".py",
   "mimetype": "text/x-python",
   "name": "python",
   "nbconvert_exporter": "python",
   "pygments_lexer": "ipython3",
   "version": "3.9.7"
  },
  "toc": {
   "base_numbering": 1,
   "nav_menu": {},
   "number_sections": true,
   "sideBar": true,
   "skip_h1_title": false,
   "title_cell": "Table of Contents",
   "title_sidebar": "Contents",
   "toc_cell": false,
   "toc_position": {
    "height": "calc(100% - 180px)",
    "left": "10px",
    "top": "150px",
    "width": "165px"
   },
   "toc_section_display": true,
   "toc_window_display": true
  },
  "varInspector": {
   "cols": {
    "lenName": 16,
    "lenType": 16,
    "lenVar": 40
   },
   "kernels_config": {
    "python": {
     "delete_cmd_postfix": "",
     "delete_cmd_prefix": "del ",
     "library": "var_list.py",
     "varRefreshCmd": "print(var_dic_list())"
    },
    "r": {
     "delete_cmd_postfix": ") ",
     "delete_cmd_prefix": "rm(",
     "library": "var_list.r",
     "varRefreshCmd": "cat(var_dic_list()) "
    }
   },
   "position": {
    "height": "297.865px",
    "left": "1754.33px",
    "right": "20px",
    "top": "120px",
    "width": "350px"
   },
   "types_to_exclude": [
    "module",
    "function",
    "builtin_function_or_method",
    "instance",
    "_Feature"
   ],
   "window_display": false
  }
 },
 "nbformat": 4,
 "nbformat_minor": 5
}
