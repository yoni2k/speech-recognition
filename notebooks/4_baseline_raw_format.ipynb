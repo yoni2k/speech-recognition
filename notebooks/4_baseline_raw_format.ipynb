{
 "cells": [
  {
   "cell_type": "code",
   "execution_count": 1,
   "id": "c223697b",
   "metadata": {
    "ExecuteTime": {
     "end_time": "2023-07-04T11:57:04.787952Z",
     "start_time": "2023-07-04T11:56:55.051179Z"
    }
   },
   "outputs": [],
   "source": [
    "from pathlib import Path\n",
    "from scipy.io import wavfile\n",
    "import scipy.signal\n",
    "import pandas as pd\n",
    "from tqdm.auto import tqdm\n",
    "import seaborn as sns\n",
    "import matplotlib.pyplot as plt\n",
    "from collections import Counter\n",
    "import numpy as np\n",
    "import os\n",
    "from sklearn.linear_model import LogisticRegression\n",
    "from sklearn.metrics import accuracy_score, classification_report\n",
    "from sklearn.ensemble import RandomForestClassifier"
   ]
  },
  {
   "cell_type": "markdown",
   "id": "fe12bd7b",
   "metadata": {},
   "source": [
    "## Read files"
   ]
  },
  {
   "cell_type": "code",
   "execution_count": 2,
   "id": "7e360baf",
   "metadata": {
    "ExecuteTime": {
     "end_time": "2023-07-04T11:57:31.618693Z",
     "start_time": "2023-07-04T11:57:31.614705Z"
    }
   },
   "outputs": [],
   "source": [
    "intermediate_folder = Path('..') / 'data' / 'intermediate'"
   ]
  },
  {
   "cell_type": "code",
   "execution_count": 3,
   "id": "924b631f",
   "metadata": {
    "ExecuteTime": {
     "end_time": "2023-07-04T12:10:32.798434Z",
     "start_time": "2023-07-04T11:57:32.009816Z"
    }
   },
   "outputs": [
    {
     "data": {
      "text/plain": [
       "(33566, 16000)"
      ]
     },
     "execution_count": 3,
     "metadata": {},
     "output_type": "execute_result"
    }
   ],
   "source": [
    "X_train = np.load(intermediate_folder / 'train_main_1_sec_audio.npy')\n",
    "X_train.shape"
   ]
  },
  {
   "cell_type": "code",
   "execution_count": 4,
   "id": "544a3ec0",
   "metadata": {
    "ExecuteTime": {
     "end_time": "2023-07-04T12:11:58.043667Z",
     "start_time": "2023-07-04T12:10:39.542245Z"
    }
   },
   "outputs": [
    {
     "data": {
      "text/plain": [
       "(4619, 16000)"
      ]
     },
     "execution_count": 4,
     "metadata": {},
     "output_type": "execute_result"
    }
   ],
   "source": [
    "X_val = np.load(intermediate_folder / 'val_main_1_sec_audio.npy')\n",
    "X_val.shape"
   ]
  },
  {
   "cell_type": "code",
   "execution_count": 5,
   "id": "d1c34f90",
   "metadata": {
    "ExecuteTime": {
     "end_time": "2023-07-04T12:13:53.227645Z",
     "start_time": "2023-07-04T12:12:07.930499Z"
    }
   },
   "outputs": [
    {
     "data": {
      "text/plain": [
       "(4689, 16000)"
      ]
     },
     "execution_count": 5,
     "metadata": {},
     "output_type": "execute_result"
    }
   ],
   "source": [
    "X_test = np.load(intermediate_folder / 'test_main_1_sec_audio.npy')\n",
    "X_test.shape"
   ]
  },
  {
   "cell_type": "code",
   "execution_count": 6,
   "id": "fae97f72",
   "metadata": {
    "ExecuteTime": {
     "end_time": "2023-07-04T12:14:11.050972Z",
     "start_time": "2023-07-04T12:14:10.929107Z"
    }
   },
   "outputs": [
    {
     "data": {
      "text/plain": [
       "((33566,), (4619,), (4689,))"
      ]
     },
     "execution_count": 6,
     "metadata": {},
     "output_type": "execute_result"
    }
   ],
   "source": [
    "y_train = pd.read_csv(intermediate_folder / 'train_main_1_sec_labels.csv', header=None, index_col=False)[0]\n",
    "y_val = pd.read_csv(intermediate_folder / 'val_main_1_sec_labels.csv', header=None, index_col=False)[0]\n",
    "y_test = pd.read_csv(intermediate_folder / 'test_main_1_sec_labels.csv', header=None, index_col=False)[0]\n",
    "y_train.shape, y_val.shape, y_test.shape"
   ]
  },
  {
   "cell_type": "markdown",
   "id": "3df6315f",
   "metadata": {},
   "source": [
    "## Logistic Regression"
   ]
  },
  {
   "cell_type": "code",
   "execution_count": 12,
   "id": "7d736824",
   "metadata": {
    "ExecuteTime": {
     "end_time": "2023-07-04T10:43:24.107458Z",
     "start_time": "2023-07-04T10:43:24.102472Z"
    }
   },
   "outputs": [],
   "source": [
    "lr = LogisticRegression(multi_class='multinomial', warm_start=True, n_jobs=-1, solver='sag', max_iter=1, verbose=10)"
   ]
  },
  {
   "cell_type": "code",
   "execution_count": 13,
   "id": "74884b95",
   "metadata": {
    "ExecuteTime": {
     "end_time": "2023-07-04T10:51:55.387845Z",
     "start_time": "2023-07-04T10:43:30.189236Z"
    }
   },
   "outputs": [
    {
     "name": "stderr",
     "output_type": "stream",
     "text": [
      "[Parallel(n_jobs=-1)]: Using backend ThreadingBackend with 8 concurrent workers.\n"
     ]
    },
    {
     "name": "stdout",
     "output_type": "stream",
     "text": [
      "max_iter reached after 135 seconds\n"
     ]
    },
    {
     "name": "stderr",
     "output_type": "stream",
     "text": [
      "C:\\ProgramData\\Anaconda3\\lib\\site-packages\\sklearn\\linear_model\\_sag.py:328: ConvergenceWarning: The max_iter was reached which means the coef_ did not converge\n",
      "  warnings.warn(\"The max_iter was reached which means \"\n",
      "[Parallel(n_jobs=-1)]: Done   1 tasks      | elapsed:  2.3min\n",
      "[Parallel(n_jobs=-1)]: Done   1 out of   1 | elapsed:  2.3min finished\n"
     ]
    },
    {
     "data": {
      "text/plain": [
       "LogisticRegression(max_iter=1, multi_class='multinomial', n_jobs=-1,\n",
       "                   solver='sag', verbose=10, warm_start=True)"
      ]
     },
     "execution_count": 13,
     "metadata": {},
     "output_type": "execute_result"
    }
   ],
   "source": [
    "lr.fit(X_train, y_train)"
   ]
  },
  {
   "cell_type": "code",
   "execution_count": 15,
   "id": "9dbc8d83",
   "metadata": {
    "ExecuteTime": {
     "end_time": "2023-07-04T10:52:53.869672Z",
     "start_time": "2023-07-04T10:52:51.398253Z"
    }
   },
   "outputs": [
    {
     "name": "stdout",
     "output_type": "stream",
     "text": [
      "              precision    recall  f1-score   support\n",
      "\n",
      "        down       0.05      0.05      0.05       247\n",
      "       eight       0.08      0.07      0.07       226\n",
      "        five       0.05      0.05      0.05       224\n",
      "        four       0.07      0.11      0.09       261\n",
      "          go       0.08      0.09      0.08       231\n",
      "        left       0.05      0.04      0.05       233\n",
      "        nine       0.05      0.07      0.06       215\n",
      "          no       0.04      0.07      0.05       235\n",
      "         off       0.13      0.10      0.12       232\n",
      "          on       0.07      0.06      0.06       234\n",
      "         one       0.05      0.07      0.06       209\n",
      "       right       0.05      0.04      0.04       235\n",
      "       seven       0.04      0.03      0.04       240\n",
      "         six       0.08      0.02      0.04       241\n",
      "        stop       0.06      0.04      0.05       225\n",
      "       three       0.09      0.09      0.09       225\n",
      "         two       0.11      0.11      0.11       214\n",
      "          up       0.07      0.03      0.04       221\n",
      "         yes       0.07      0.06      0.06       232\n",
      "        zero       0.07      0.13      0.09       239\n",
      "\n",
      "    accuracy                           0.07      4619\n",
      "   macro avg       0.07      0.07      0.07      4619\n",
      "weighted avg       0.07      0.07      0.07      4619\n",
      "\n"
     ]
    }
   ],
   "source": [
    "y_pred_lr = lr.predict(X_val)\n",
    "print(classification_report(y_val, y_pred_lr))"
   ]
  },
  {
   "cell_type": "code",
   "execution_count": 18,
   "id": "d5107474",
   "metadata": {
    "ExecuteTime": {
     "end_time": "2023-07-04T11:04:50.871026Z",
     "start_time": "2023-07-04T10:59:40.810207Z"
    }
   },
   "outputs": [
    {
     "name": "stderr",
     "output_type": "stream",
     "text": [
      "[Parallel(n_jobs=-1)]: Using backend ThreadingBackend with 8 concurrent workers.\n"
     ]
    },
    {
     "name": "stdout",
     "output_type": "stream",
     "text": [
      "max_iter reached after 138 seconds\n"
     ]
    },
    {
     "name": "stderr",
     "output_type": "stream",
     "text": [
      "C:\\ProgramData\\Anaconda3\\lib\\site-packages\\sklearn\\linear_model\\_sag.py:328: ConvergenceWarning: The max_iter was reached which means the coef_ did not converge\n",
      "  warnings.warn(\"The max_iter was reached which means \"\n",
      "[Parallel(n_jobs=-1)]: Done   1 tasks      | elapsed:  2.3min\n",
      "[Parallel(n_jobs=-1)]: Done   1 out of   1 | elapsed:  2.3min finished\n"
     ]
    },
    {
     "name": "stdout",
     "output_type": "stream",
     "text": [
      "              precision    recall  f1-score   support\n",
      "\n",
      "        down       0.04      0.03      0.04       247\n",
      "       eight       0.09      0.06      0.07       226\n",
      "        five       0.08      0.08      0.08       224\n",
      "        four       0.05      0.07      0.06       261\n",
      "          go       0.05      0.07      0.06       231\n",
      "        left       0.02      0.02      0.02       233\n",
      "        nine       0.07      0.08      0.07       215\n",
      "          no       0.08      0.09      0.08       235\n",
      "         off       0.09      0.08      0.09       232\n",
      "          on       0.07      0.08      0.08       234\n",
      "         one       0.05      0.06      0.05       209\n",
      "       right       0.06      0.07      0.07       235\n",
      "       seven       0.04      0.03      0.03       240\n",
      "         six       0.09      0.04      0.05       241\n",
      "        stop       0.08      0.06      0.07       225\n",
      "       three       0.12      0.12      0.12       225\n",
      "         two       0.08      0.11      0.09       214\n",
      "          up       0.08      0.04      0.05       221\n",
      "         yes       0.07      0.06      0.06       232\n",
      "        zero       0.05      0.07      0.06       239\n",
      "\n",
      "    accuracy                           0.07      4619\n",
      "   macro avg       0.07      0.07      0.06      4619\n",
      "weighted avg       0.07      0.07      0.06      4619\n",
      "\n"
     ]
    }
   ],
   "source": [
    "lr.fit(X_train, y_train)\n",
    "y_pred_lr = lr.predict(X_val)\n",
    "print(classification_report(y_val, y_pred_lr))"
   ]
  },
  {
   "cell_type": "code",
   "execution_count": null,
   "id": "c39aeb0f",
   "metadata": {},
   "outputs": [],
   "source": []
  },
  {
   "cell_type": "code",
   "execution_count": 7,
   "id": "841682b0",
   "metadata": {
    "ExecuteTime": {
     "end_time": "2023-07-04T12:22:03.265173Z",
     "start_time": "2023-07-04T12:22:03.142808Z"
    }
   },
   "outputs": [],
   "source": [
    "# lr_def = LogisticRegression(warm_start=True, n_jobs=-1, verbose=1) # max_iter=1\n",
    "lr_def = LogisticRegression(verbose=1) # max_iter=1"
   ]
  },
  {
   "cell_type": "code",
   "execution_count": 8,
   "id": "ac68f2d4",
   "metadata": {
    "ExecuteTime": {
     "end_time": "2023-07-04T12:36:21.984657Z",
     "start_time": "2023-07-04T12:22:21.335408Z"
    }
   },
   "outputs": [
    {
     "name": "stderr",
     "output_type": "stream",
     "text": [
      "[Parallel(n_jobs=1)]: Using backend SequentialBackend with 1 concurrent workers.\n",
      "C:\\ProgramData\\Anaconda3\\lib\\site-packages\\sklearn\\linear_model\\_logistic.py:763: ConvergenceWarning: lbfgs failed to converge (status=1):\n",
      "STOP: TOTAL NO. of ITERATIONS REACHED LIMIT.\n",
      "\n",
      "Increase the number of iterations (max_iter) or scale the data as shown in:\n",
      "    https://scikit-learn.org/stable/modules/preprocessing.html\n",
      "Please also refer to the documentation for alternative solver options:\n",
      "    https://scikit-learn.org/stable/modules/linear_model.html#logistic-regression\n",
      "  n_iter_i = _check_optimize_result(\n",
      "[Parallel(n_jobs=1)]: Done   1 out of   1 | elapsed:  5.5min finished\n"
     ]
    },
    {
     "name": "stdout",
     "output_type": "stream",
     "text": [
      "              precision    recall  f1-score   support\n",
      "\n",
      "        down       0.08      0.08      0.08       247\n",
      "       eight       0.07      0.06      0.06       226\n",
      "        five       0.06      0.07      0.06       224\n",
      "        four       0.07      0.07      0.07       261\n",
      "          go       0.04      0.04      0.04       231\n",
      "        left       0.04      0.05      0.05       233\n",
      "        nine       0.05      0.06      0.05       215\n",
      "          no       0.08      0.09      0.08       235\n",
      "         off       0.10      0.11      0.11       232\n",
      "          on       0.07      0.07      0.07       234\n",
      "         one       0.07      0.08      0.07       209\n",
      "       right       0.09      0.09      0.09       235\n",
      "       seven       0.09      0.07      0.08       240\n",
      "         six       0.08      0.05      0.06       241\n",
      "        stop       0.11      0.10      0.11       225\n",
      "       three       0.06      0.07      0.06       225\n",
      "         two       0.04      0.04      0.04       214\n",
      "          up       0.05      0.05      0.05       221\n",
      "         yes       0.09      0.08      0.08       232\n",
      "        zero       0.04      0.04      0.04       239\n",
      "\n",
      "    accuracy                           0.07      4619\n",
      "   macro avg       0.07      0.07      0.07      4619\n",
      "weighted avg       0.07      0.07      0.07      4619\n",
      "\n"
     ]
    }
   ],
   "source": [
    "lr_def.fit(X_train, y_train)\n",
    "y_pred_lr = lr_def.predict(X_val)\n",
    "print(classification_report(y_val, y_pred_lr))"
   ]
  },
  {
   "cell_type": "code",
   "execution_count": null,
   "id": "8962f4b3",
   "metadata": {},
   "outputs": [],
   "source": [
    "# lr_def.fit(X_train, y_train)\n",
    "# y_pred_lr = lr_def.predict(X_val)\n",
    "# print(classification_report(y_val, y_pred_lr))"
   ]
  },
  {
   "cell_type": "markdown",
   "id": "9aeef792",
   "metadata": {},
   "source": [
    "## Random Forest"
   ]
  },
  {
   "cell_type": "code",
   "execution_count": 19,
   "id": "d41e9810",
   "metadata": {
    "ExecuteTime": {
     "end_time": "2023-07-04T13:15:15.758348Z",
     "start_time": "2023-07-04T13:06:22.954837Z"
    },
    "scrolled": false
   },
   "outputs": [
    {
     "name": "stderr",
     "output_type": "stream",
     "text": [
      "[Parallel(n_jobs=-1)]: Using backend ThreadingBackend with 8 concurrent workers.\n",
      "[Parallel(n_jobs=-1)]: Done  34 tasks      | elapsed:  2.7min\n",
      "[Parallel(n_jobs=-1)]: Done 100 out of 100 | elapsed:  7.7min finished\n",
      "[Parallel(n_jobs=8)]: Using backend ThreadingBackend with 8 concurrent workers.\n",
      "[Parallel(n_jobs=8)]: Done  34 tasks      | elapsed:    0.2s\n",
      "[Parallel(n_jobs=8)]: Done 100 out of 100 | elapsed:    0.4s finished\n"
     ]
    },
    {
     "name": "stdout",
     "output_type": "stream",
     "text": [
      "              precision    recall  f1-score   support\n",
      "\n",
      "        down       0.09      0.06      0.07       247\n",
      "       eight       0.16      0.18      0.17       226\n",
      "        five       0.07      0.05      0.06       224\n",
      "        four       0.07      0.05      0.06       261\n",
      "          go       0.06      0.05      0.06       231\n",
      "        left       0.10      0.10      0.10       233\n",
      "        nine       0.12      0.16      0.13       215\n",
      "          no       0.07      0.03      0.05       235\n",
      "         off       0.13      0.12      0.12       232\n",
      "          on       0.10      0.05      0.07       234\n",
      "         one       0.06      0.04      0.05       209\n",
      "       right       0.05      0.04      0.04       235\n",
      "       seven       0.13      0.12      0.12       240\n",
      "         six       0.21      0.32      0.26       241\n",
      "        stop       0.29      0.32      0.30       225\n",
      "       three       0.09      0.08      0.08       225\n",
      "         two       0.10      0.13      0.11       214\n",
      "          up       0.21      0.48      0.29       221\n",
      "         yes       0.23      0.17      0.20       232\n",
      "        zero       0.17      0.28      0.21       239\n",
      "\n",
      "    accuracy                           0.14      4619\n",
      "   macro avg       0.13      0.14      0.13      4619\n",
      "weighted avg       0.13      0.14      0.13      4619\n",
      "\n"
     ]
    }
   ],
   "source": [
    "rf = RandomForestClassifier(n_jobs=-1, verbose=1, min_impurity_decrease=.0001)\n",
    "rf.fit(X_train, y_train)\n",
    "y_pred_rf = rf.predict(X_val)\n",
    "print(classification_report(y_val, y_pred_rf))"
   ]
  },
  {
   "cell_type": "code",
   "execution_count": 20,
   "id": "0107fe32",
   "metadata": {
    "ExecuteTime": {
     "end_time": "2023-07-04T13:24:36.344173Z",
     "start_time": "2023-07-04T13:16:02.388620Z"
    }
   },
   "outputs": [
    {
     "name": "stderr",
     "output_type": "stream",
     "text": [
      "[Parallel(n_jobs=-1)]: Using backend ThreadingBackend with 8 concurrent workers.\n",
      "[Parallel(n_jobs=-1)]: Done  34 tasks      | elapsed:  2.8min\n",
      "[Parallel(n_jobs=-1)]: Done 100 out of 100 | elapsed:  7.5min finished\n",
      "[Parallel(n_jobs=8)]: Using backend ThreadingBackend with 8 concurrent workers.\n",
      "[Parallel(n_jobs=8)]: Done  34 tasks      | elapsed:    0.5s\n",
      "[Parallel(n_jobs=8)]: Done 100 out of 100 | elapsed:    0.8s finished\n"
     ]
    },
    {
     "name": "stdout",
     "output_type": "stream",
     "text": [
      "              precision    recall  f1-score   support\n",
      "\n",
      "        down       0.10      0.10      0.10       247\n",
      "       eight       0.13      0.17      0.15       226\n",
      "        five       0.08      0.08      0.08       224\n",
      "        four       0.11      0.10      0.10       261\n",
      "          go       0.08      0.09      0.09       231\n",
      "        left       0.12      0.14      0.13       233\n",
      "        nine       0.10      0.12      0.11       215\n",
      "          no       0.08      0.05      0.06       235\n",
      "         off       0.16      0.15      0.15       232\n",
      "          on       0.05      0.03      0.04       234\n",
      "         one       0.05      0.04      0.05       209\n",
      "       right       0.09      0.06      0.07       235\n",
      "       seven       0.10      0.09      0.10       240\n",
      "         six       0.27      0.34      0.30       241\n",
      "        stop       0.26      0.20      0.23       225\n",
      "       three       0.10      0.08      0.09       225\n",
      "         two       0.12      0.12      0.12       214\n",
      "          up       0.21      0.39      0.27       221\n",
      "         yes       0.19      0.13      0.16       232\n",
      "        zero       0.13      0.15      0.14       239\n",
      "\n",
      "    accuracy                           0.13      4619\n",
      "   macro avg       0.13      0.13      0.13      4619\n",
      "weighted avg       0.13      0.13      0.13      4619\n",
      "\n"
     ]
    }
   ],
   "source": [
    "rf = RandomForestClassifier(n_jobs=-1, verbose=1, min_impurity_decrease=.00001)\n",
    "rf.fit(X_train, y_train)\n",
    "y_pred_rf = rf.predict(X_val)\n",
    "print(classification_report(y_val, y_pred_rf))"
   ]
  }
 ],
 "metadata": {
  "hide_input": false,
  "kernelspec": {
   "display_name": "Python 3 (ipykernel)",
   "language": "python",
   "name": "python3"
  },
  "language_info": {
   "codemirror_mode": {
    "name": "ipython",
    "version": 3
   },
   "file_extension": ".py",
   "mimetype": "text/x-python",
   "name": "python",
   "nbconvert_exporter": "python",
   "pygments_lexer": "ipython3",
   "version": "3.9.7"
  },
  "toc": {
   "base_numbering": 1,
   "nav_menu": {},
   "number_sections": true,
   "sideBar": true,
   "skip_h1_title": false,
   "title_cell": "Table of Contents",
   "title_sidebar": "Contents",
   "toc_cell": false,
   "toc_position": {},
   "toc_section_display": true,
   "toc_window_display": true
  },
  "varInspector": {
   "cols": {
    "lenName": 16,
    "lenType": 16,
    "lenVar": 40
   },
   "kernels_config": {
    "python": {
     "delete_cmd_postfix": "",
     "delete_cmd_prefix": "del ",
     "library": "var_list.py",
     "varRefreshCmd": "print(var_dic_list())"
    },
    "r": {
     "delete_cmd_postfix": ") ",
     "delete_cmd_prefix": "rm(",
     "library": "var_list.r",
     "varRefreshCmd": "cat(var_dic_list()) "
    }
   },
   "types_to_exclude": [
    "module",
    "function",
    "builtin_function_or_method",
    "instance",
    "_Feature"
   ],
   "window_display": false
  }
 },
 "nbformat": 4,
 "nbformat_minor": 5
}
