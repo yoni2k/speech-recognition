{
 "cells": [
  {
   "cell_type": "code",
   "execution_count": 2,
   "id": "fbf8c07b",
   "metadata": {
    "ExecuteTime": {
     "end_time": "2023-06-28T10:32:26.049251Z",
     "start_time": "2023-06-28T10:32:25.784482Z"
    }
   },
   "outputs": [],
   "source": [
    "from pathlib import Path\n",
    "import re\n",
    "import pandas as pd"
   ]
  },
  {
   "cell_type": "code",
   "execution_count": 3,
   "id": "91f22466",
   "metadata": {
    "ExecuteTime": {
     "end_time": "2023-06-28T10:26:02.062851Z",
     "start_time": "2023-06-28T10:26:02.018835Z"
    }
   },
   "outputs": [
    {
     "data": {
      "text/plain": [
       "((6798, 5), (6835, 5))"
      ]
     },
     "execution_count": 3,
     "metadata": {},
     "output_type": "execute_result"
    }
   ],
   "source": [
    "val_list_file = Path('..') / 'data' / 'train' / 'validation_list.txt'\n",
    "test_list_file = Path('..') / 'data' / 'train' / 'testing_list.txt'\n",
    "\n",
    "lines = []\n",
    "\n",
    "with open(val_list_file, 'r') as file:\n",
    "    for line in file:\n",
    "        lines.append(re.split(r'[/_\\.]', line[:-1]))\n",
    "\n",
    "val_df = pd.DataFrame(lines, columns=['folder', 'person', 'nohash', 'person_ind', 'format'])\n",
    "val_df['person_ind'] = val_df['person_ind'].astype(int)\n",
    "\n",
    "lines = []\n",
    "\n",
    "with open(test_list_file, 'r') as file:\n",
    "    for line in file:\n",
    "        lines.append(re.split(r'[/_\\.]', line[:-1]))\n",
    "\n",
    "test_df = pd.DataFrame(lines, columns=['folder', 'person', 'nohash', 'person_ind', 'format'])\n",
    "test_df['person_ind'] = test_df['person_ind'].astype(int)\n",
    "\n",
    "val_df.shape, test_df.shape"
   ]
  },
  {
   "cell_type": "code",
   "execution_count": 4,
   "id": "4d2248f1",
   "metadata": {
    "ExecuteTime": {
     "end_time": "2023-06-28T10:26:02.074672Z",
     "start_time": "2023-06-28T10:26:02.063814Z"
    }
   },
   "outputs": [
    {
     "data": {
      "text/html": [
       "<div>\n",
       "<style scoped>\n",
       "    .dataframe tbody tr th:only-of-type {\n",
       "        vertical-align: middle;\n",
       "    }\n",
       "\n",
       "    .dataframe tbody tr th {\n",
       "        vertical-align: top;\n",
       "    }\n",
       "\n",
       "    .dataframe thead th {\n",
       "        text-align: right;\n",
       "    }\n",
       "</style>\n",
       "<table border=\"1\" class=\"dataframe\">\n",
       "  <thead>\n",
       "    <tr style=\"text-align: right;\">\n",
       "      <th></th>\n",
       "      <th>folder</th>\n",
       "      <th>person</th>\n",
       "      <th>nohash</th>\n",
       "      <th>person_ind</th>\n",
       "      <th>format</th>\n",
       "    </tr>\n",
       "  </thead>\n",
       "  <tbody>\n",
       "    <tr>\n",
       "      <th>2887</th>\n",
       "      <td>nine</td>\n",
       "      <td>9db2bfe9</td>\n",
       "      <td>nohash</td>\n",
       "      <td>1</td>\n",
       "      <td>wav</td>\n",
       "    </tr>\n",
       "    <tr>\n",
       "      <th>4136</th>\n",
       "      <td>right</td>\n",
       "      <td>97ae8b25</td>\n",
       "      <td>nohash</td>\n",
       "      <td>1</td>\n",
       "      <td>wav</td>\n",
       "    </tr>\n",
       "    <tr>\n",
       "      <th>1329</th>\n",
       "      <td>five</td>\n",
       "      <td>9db2bfe9</td>\n",
       "      <td>nohash</td>\n",
       "      <td>4</td>\n",
       "      <td>wav</td>\n",
       "    </tr>\n",
       "    <tr>\n",
       "      <th>812</th>\n",
       "      <td>down</td>\n",
       "      <td>7eee5973</td>\n",
       "      <td>nohash</td>\n",
       "      <td>0</td>\n",
       "      <td>wav</td>\n",
       "    </tr>\n",
       "    <tr>\n",
       "      <th>3334</th>\n",
       "      <td>off</td>\n",
       "      <td>5fadb538</td>\n",
       "      <td>nohash</td>\n",
       "      <td>2</td>\n",
       "      <td>wav</td>\n",
       "    </tr>\n",
       "  </tbody>\n",
       "</table>\n",
       "</div>"
      ],
      "text/plain": [
       "     folder    person  nohash  person_ind format\n",
       "2887   nine  9db2bfe9  nohash           1    wav\n",
       "4136  right  97ae8b25  nohash           1    wav\n",
       "1329   five  9db2bfe9  nohash           4    wav\n",
       "812    down  7eee5973  nohash           0    wav\n",
       "3334    off  5fadb538  nohash           2    wav"
      ]
     },
     "execution_count": 4,
     "metadata": {},
     "output_type": "execute_result"
    }
   ],
   "source": [
    "val_df.sample(5)"
   ]
  },
  {
   "cell_type": "code",
   "execution_count": 5,
   "id": "09176eea",
   "metadata": {
    "ExecuteTime": {
     "end_time": "2023-06-28T10:26:02.086909Z",
     "start_time": "2023-06-28T10:26:02.075631Z"
    }
   },
   "outputs": [
    {
     "data": {
      "text/plain": [
       "nohash          1\n",
       "format          1\n",
       "person_ind      7\n",
       "folder         30\n",
       "person        189\n",
       "dtype: int64"
      ]
     },
     "execution_count": 5,
     "metadata": {},
     "output_type": "execute_result"
    }
   ],
   "source": [
    "val_df.nunique().sort_values()"
   ]
  },
  {
   "cell_type": "code",
   "execution_count": 6,
   "id": "e925fb6a",
   "metadata": {
    "ExecuteTime": {
     "end_time": "2023-06-28T10:26:02.097501Z",
     "start_time": "2023-06-28T10:26:02.087896Z"
    }
   },
   "outputs": [
    {
     "data": {
      "text/plain": [
       "nohash          1\n",
       "format          1\n",
       "person_ind      8\n",
       "folder         30\n",
       "person        189\n",
       "dtype: int64"
      ]
     },
     "execution_count": 6,
     "metadata": {},
     "output_type": "execute_result"
    }
   ],
   "source": [
    "test_df.nunique().sort_values()"
   ]
  },
  {
   "cell_type": "code",
   "execution_count": 7,
   "id": "c742865a",
   "metadata": {
    "ExecuteTime": {
     "end_time": "2023-06-28T10:26:06.638586Z",
     "start_time": "2023-06-28T10:26:02.098487Z"
    }
   },
   "outputs": [
    {
     "data": {
      "text/plain": [
       "(64721, 5)"
      ]
     },
     "execution_count": 7,
     "metadata": {},
     "output_type": "execute_result"
    }
   ],
   "source": [
    "from pathlib import Path\n",
    "\n",
    "# Create a Path object for the root folder\n",
    "root_folder = Path('..') / 'data' / 'train' / 'audio'\n",
    "\n",
    "lines = []\n",
    "\n",
    "for path in root_folder.rglob('*'):\n",
    "    if '_background_noise_' not in path.parts and path.is_file():\n",
    "        if len(re.split(r'[\\\\/_\\.]', str(path.relative_to(root_folder)))) > 5:\n",
    "            print(re.split(r'[\\\\/_\\.]', str(path.relative_to(root_folder))))\n",
    "        lines.append(re.split(r'[\\\\/_\\.]', str(path.relative_to(root_folder))))\n",
    "\n",
    "# # Use the rglob method to find all files in the folder and its subfolders\n",
    "# file_paths = [str(path.relative_to(root_folder)) for path in root_folder.rglob('*') if path.is_file()]\n",
    "\n",
    "# # Now file_paths is a list of all file paths, starting from the directory name inside 'root_folder'\n",
    "# for path in file_paths:\n",
    "#     print(path)\n",
    "    \n",
    "# lines = []\n",
    "\n",
    "# with open(test_list_file, 'r') as file:\n",
    "#     for line in file:\n",
    "#         lines.append(re.split(r'[/_\\.]', line[:-1]))\n",
    "\n",
    "# print(lines)\n",
    "\n",
    "full_df = pd.DataFrame(lines, columns=['folder', 'person', 'nohash', 'person_ind', 'format'])\n",
    "full_df.shape"
   ]
  },
  {
   "cell_type": "code",
   "execution_count": 8,
   "id": "f156058a",
   "metadata": {
    "ExecuteTime": {
     "end_time": "2023-06-28T10:26:06.661580Z",
     "start_time": "2023-06-28T10:26:06.639596Z"
    }
   },
   "outputs": [],
   "source": [
    "full_df['person_ind'] = full_df['person_ind'].astype(int)"
   ]
  },
  {
   "cell_type": "code",
   "execution_count": 9,
   "id": "43edb20f",
   "metadata": {
    "ExecuteTime": {
     "end_time": "2023-06-28T10:26:06.720347Z",
     "start_time": "2023-06-28T10:26:06.662666Z"
    }
   },
   "outputs": [
    {
     "data": {
      "text/plain": [
       "nohash           1\n",
       "format           1\n",
       "person_ind      12\n",
       "folder          30\n",
       "person        1881\n",
       "dtype: int64"
      ]
     },
     "execution_count": 9,
     "metadata": {},
     "output_type": "execute_result"
    }
   ],
   "source": [
    "full_df.nunique().sort_values()"
   ]
  },
  {
   "cell_type": "code",
   "execution_count": 10,
   "id": "99e4fec2",
   "metadata": {
    "ExecuteTime": {
     "end_time": "2023-06-28T10:26:06.886199Z",
     "start_time": "2023-06-28T10:26:06.721264Z"
    }
   },
   "outputs": [
    {
     "data": {
      "text/plain": [
       "((51088, 5), (6798, 5), (6835, 5), (64721, 5))"
      ]
     },
     "execution_count": 10,
     "metadata": {},
     "output_type": "execute_result"
    }
   ],
   "source": [
    "train_df = pd.concat([full_df, val_df, test_df]).drop_duplicates(keep=False)\n",
    "assert len(full_df) == len(train_df) + len(val_df) + len(test_df)\n",
    "train_df.shape, val_df.shape, test_df.shape, full_df.shape"
   ]
  },
  {
   "cell_type": "code",
   "execution_count": 11,
   "id": "60d6812d",
   "metadata": {
    "ExecuteTime": {
     "end_time": "2023-06-28T10:26:06.916076Z",
     "start_time": "2023-06-28T10:26:06.887134Z"
    }
   },
   "outputs": [],
   "source": [
    "assert full_df['nohash'].unique() == ['nohash']\n",
    "assert full_df['format'].unique() == ['wav']"
   ]
  },
  {
   "cell_type": "code",
   "execution_count": 12,
   "id": "36fe93b6",
   "metadata": {
    "ExecuteTime": {
     "end_time": "2023-06-28T10:26:06.943995Z",
     "start_time": "2023-06-28T10:26:06.918990Z"
    }
   },
   "outputs": [],
   "source": [
    "train_df.drop(columns=['nohash', 'format'], inplace=True)\n",
    "val_df.drop(columns=['nohash', 'format'], inplace=True)\n",
    "test_df.drop(columns=['nohash', 'format'], inplace=True)\n",
    "full_df.drop(columns=['nohash', 'format'], inplace=True)"
   ]
  },
  {
   "cell_type": "code",
   "execution_count": 13,
   "id": "fac8cee2",
   "metadata": {
    "ExecuteTime": {
     "end_time": "2023-06-28T10:26:06.966814Z",
     "start_time": "2023-06-28T10:26:06.944904Z"
    }
   },
   "outputs": [
    {
     "name": "stdout",
     "output_type": "stream",
     "text": [
      "<class 'pandas.core.frame.DataFrame'>\n",
      "RangeIndex: 64721 entries, 0 to 64720\n",
      "Data columns (total 3 columns):\n",
      " #   Column      Non-Null Count  Dtype \n",
      "---  ------      --------------  ----- \n",
      " 0   folder      64721 non-null  object\n",
      " 1   person      64721 non-null  object\n",
      " 2   person_ind  64721 non-null  int32 \n",
      "dtypes: int32(1), object(2)\n",
      "memory usage: 1.2+ MB\n"
     ]
    }
   ],
   "source": [
    "full_df.info()"
   ]
  },
  {
   "cell_type": "code",
   "execution_count": 14,
   "id": "f1ad2c94",
   "metadata": {
    "ExecuteTime": {
     "end_time": "2023-06-28T10:26:06.985480Z",
     "start_time": "2023-06-28T10:26:06.967799Z"
    }
   },
   "outputs": [],
   "source": [
    "assert set(val_df['folder']) == set(test_df['folder'])\n",
    "assert set(val_df['folder']) == set(full_df['folder'])"
   ]
  },
  {
   "cell_type": "code",
   "execution_count": 15,
   "id": "56543096",
   "metadata": {
    "ExecuteTime": {
     "end_time": "2023-06-28T10:26:07.012237Z",
     "start_time": "2023-06-28T10:26:06.987517Z"
    }
   },
   "outputs": [],
   "source": [
    "assert set(val_df['person']) & set(test_df['person']) == set()\n",
    "assert set(val_df['person']) & set(train_df['person']) == set()\n",
    "assert set(test_df['person']) & set(train_df['person']) == set()"
   ]
  },
  {
   "cell_type": "markdown",
   "id": "56b700fb",
   "metadata": {},
   "source": [
    "# Full investigation"
   ]
  },
  {
   "cell_type": "code",
   "execution_count": 16,
   "id": "d31ddb5c",
   "metadata": {
    "ExecuteTime": {
     "end_time": "2023-06-28T10:26:07.033189Z",
     "start_time": "2023-06-28T10:26:07.013437Z"
    }
   },
   "outputs": [
    {
     "name": "stdout",
     "output_type": "stream",
     "text": [
      "<class 'pandas.core.frame.DataFrame'>\n",
      "RangeIndex: 64721 entries, 0 to 64720\n",
      "Data columns (total 3 columns):\n",
      " #   Column      Non-Null Count  Dtype \n",
      "---  ------      --------------  ----- \n",
      " 0   folder      64721 non-null  object\n",
      " 1   person      64721 non-null  object\n",
      " 2   person_ind  64721 non-null  int32 \n",
      "dtypes: int32(1), object(2)\n",
      "memory usage: 1.2+ MB\n"
     ]
    }
   ],
   "source": [
    "full_df.info()"
   ]
  },
  {
   "cell_type": "code",
   "execution_count": 17,
   "id": "7fb28f1c",
   "metadata": {
    "ExecuteTime": {
     "end_time": "2023-06-28T10:26:07.069609Z",
     "start_time": "2023-06-28T10:26:07.034152Z"
    }
   },
   "outputs": [
    {
     "data": {
      "text/plain": [
       "folder\n",
       "bed       1713\n",
       "bird      1731\n",
       "tree      1733\n",
       "cat       1733\n",
       "sheila    1734\n",
       "happy     1742\n",
       "wow       1745\n",
       "dog       1746\n",
       "marvin    1746\n",
       "house     1750\n",
       "eight     2352\n",
       "left      2353\n",
       "three     2356\n",
       "five      2357\n",
       "off       2357\n",
       "down      2359\n",
       "nine      2364\n",
       "on        2367\n",
       "right     2367\n",
       "six       2369\n",
       "one       2370\n",
       "four      2372\n",
       "go        2372\n",
       "two       2373\n",
       "up        2375\n",
       "no        2375\n",
       "zero      2376\n",
       "seven     2377\n",
       "yes       2377\n",
       "stop      2380\n",
       "Name: person, dtype: int64"
      ]
     },
     "execution_count": 17,
     "metadata": {},
     "output_type": "execute_result"
    }
   ],
   "source": [
    "full_df.groupby(by='folder').count()['person'].sort_values()"
   ]
  },
  {
   "cell_type": "code",
   "execution_count": 18,
   "id": "74fd26fe",
   "metadata": {
    "ExecuteTime": {
     "end_time": "2023-06-28T10:26:07.173417Z",
     "start_time": "2023-06-28T10:26:07.071564Z"
    }
   },
   "outputs": [
    {
     "name": "stdout",
     "output_type": "stream",
     "text": [
      "10 {'happy', 'cat', 'marvin', 'bird', 'house', 'dog', 'wow', 'sheila', 'tree', 'bed'}\n",
      "20 {'on', 'four', 'yes', 'nine', 'three', 'no', 'stop', 'five', 'right', 'down', 'one', 'eight', 'off', 'zero', 'two', 'up', 'six', 'go', 'left', 'seven'}\n"
     ]
    }
   ],
   "source": [
    "folders_aux = set(full_df.groupby(by='folder').count()['person'][full_df.groupby(by='folder').count()['person'] < 2000].index)\n",
    "print(len(folders_aux), folders_aux)\n",
    "folders_main = set(full_df.groupby(by='folder').count()['person'][full_df.groupby(by='folder').count()['person'] > 2000].index)\n",
    "print(len(folders_main), folders_main)"
   ]
  },
  {
   "cell_type": "code",
   "execution_count": 19,
   "id": "d1b81601",
   "metadata": {
    "ExecuteTime": {
     "end_time": "2023-06-28T10:26:07.199939Z",
     "start_time": "2023-06-28T10:26:07.174407Z"
    }
   },
   "outputs": [
    {
     "data": {
      "text/plain": [
       "((64721, 3), (47348, 3), (17373, 3))"
      ]
     },
     "execution_count": 19,
     "metadata": {},
     "output_type": "execute_result"
    }
   ],
   "source": [
    "full_aux_df = full_df[full_df['folder'].isin(folders_aux)]\n",
    "full_main_df = full_df[full_df['folder'].isin(folders_main)]\n",
    "full_df.shape, full_main_df.shape, full_aux_df.shape "
   ]
  },
  {
   "cell_type": "code",
   "execution_count": 20,
   "id": "55b9c69b",
   "metadata": {
    "ExecuteTime": {
     "end_time": "2023-06-28T10:26:07.241134Z",
     "start_time": "2023-06-28T10:26:07.200935Z"
    }
   },
   "outputs": [
    {
     "data": {
      "text/plain": [
       "(1881, 1836, 1868)"
      ]
     },
     "execution_count": 20,
     "metadata": {},
     "output_type": "execute_result"
    }
   ],
   "source": [
    "full_df['person'].nunique(), full_aux_df['person'].nunique(), full_main_df['person'].nunique()"
   ]
  },
  {
   "cell_type": "code",
   "execution_count": 21,
   "id": "9117a061",
   "metadata": {
    "ExecuteTime": {
     "end_time": "2023-06-28T10:26:07.261951Z",
     "start_time": "2023-06-28T10:26:07.242132Z"
    }
   },
   "outputs": [
    {
     "data": {
      "text/plain": [
       "folder\n",
       "bed       1177\n",
       "bird      1194\n",
       "cat       1180\n",
       "dog       1209\n",
       "happy     1178\n",
       "house     1165\n",
       "marvin    1191\n",
       "sheila    1178\n",
       "tree      1173\n",
       "wow       1181\n",
       "Name: person, dtype: int64"
      ]
     },
     "execution_count": 21,
     "metadata": {},
     "output_type": "execute_result"
    }
   ],
   "source": [
    "full_aux_df.groupby(by='folder').nunique()['person']"
   ]
  },
  {
   "cell_type": "code",
   "execution_count": 22,
   "id": "efcf6300",
   "metadata": {
    "ExecuteTime": {
     "end_time": "2023-06-28T10:26:07.313460Z",
     "start_time": "2023-06-28T10:26:07.262928Z"
    }
   },
   "outputs": [
    {
     "data": {
      "text/plain": [
       "folder\n",
       "down     1206\n",
       "eight    1179\n",
       "five     1181\n",
       "four     1194\n",
       "go       1182\n",
       "left     1180\n",
       "nine     1182\n",
       "no       1203\n",
       "off      1170\n",
       "on       1198\n",
       "one      1179\n",
       "right    1194\n",
       "seven    1192\n",
       "six      1197\n",
       "stop     1191\n",
       "three    1202\n",
       "two      1175\n",
       "up       1186\n",
       "yes      1200\n",
       "zero     1186\n",
       "Name: person, dtype: int64"
      ]
     },
     "execution_count": 22,
     "metadata": {},
     "output_type": "execute_result"
    }
   ],
   "source": [
    "full_main_df.groupby(by='folder').nunique()['person']"
   ]
  },
  {
   "cell_type": "code",
   "execution_count": 23,
   "id": "c8ab73b3",
   "metadata": {
    "ExecuteTime": {
     "end_time": "2023-06-28T10:26:07.330084Z",
     "start_time": "2023-06-28T10:26:07.314458Z"
    }
   },
   "outputs": [
    {
     "data": {
      "text/html": [
       "<div>\n",
       "<style scoped>\n",
       "    .dataframe tbody tr th:only-of-type {\n",
       "        vertical-align: middle;\n",
       "    }\n",
       "\n",
       "    .dataframe tbody tr th {\n",
       "        vertical-align: top;\n",
       "    }\n",
       "\n",
       "    .dataframe thead th {\n",
       "        text-align: right;\n",
       "    }\n",
       "</style>\n",
       "<table border=\"1\" class=\"dataframe\">\n",
       "  <thead>\n",
       "    <tr style=\"text-align: right;\">\n",
       "      <th></th>\n",
       "      <th>full</th>\n",
       "      <th>aux</th>\n",
       "      <th>main</th>\n",
       "    </tr>\n",
       "  </thead>\n",
       "  <tbody>\n",
       "    <tr>\n",
       "      <th>count</th>\n",
       "      <td>64721.000000</td>\n",
       "      <td>17373.000000</td>\n",
       "      <td>47348.000000</td>\n",
       "    </tr>\n",
       "    <tr>\n",
       "      <th>mean</th>\n",
       "      <td>0.832697</td>\n",
       "      <td>0.417142</td>\n",
       "      <td>0.985174</td>\n",
       "    </tr>\n",
       "    <tr>\n",
       "      <th>std</th>\n",
       "      <td>1.189834</td>\n",
       "      <td>0.695201</td>\n",
       "      <td>1.292760</td>\n",
       "    </tr>\n",
       "    <tr>\n",
       "      <th>min</th>\n",
       "      <td>0.000000</td>\n",
       "      <td>0.000000</td>\n",
       "      <td>0.000000</td>\n",
       "    </tr>\n",
       "    <tr>\n",
       "      <th>25%</th>\n",
       "      <td>0.000000</td>\n",
       "      <td>0.000000</td>\n",
       "      <td>0.000000</td>\n",
       "    </tr>\n",
       "    <tr>\n",
       "      <th>50%</th>\n",
       "      <td>0.000000</td>\n",
       "      <td>0.000000</td>\n",
       "      <td>0.000000</td>\n",
       "    </tr>\n",
       "    <tr>\n",
       "      <th>75%</th>\n",
       "      <td>1.000000</td>\n",
       "      <td>1.000000</td>\n",
       "      <td>2.000000</td>\n",
       "    </tr>\n",
       "    <tr>\n",
       "      <th>max</th>\n",
       "      <td>11.000000</td>\n",
       "      <td>6.000000</td>\n",
       "      <td>11.000000</td>\n",
       "    </tr>\n",
       "  </tbody>\n",
       "</table>\n",
       "</div>"
      ],
      "text/plain": [
       "               full           aux          main\n",
       "count  64721.000000  17373.000000  47348.000000\n",
       "mean       0.832697      0.417142      0.985174\n",
       "std        1.189834      0.695201      1.292760\n",
       "min        0.000000      0.000000      0.000000\n",
       "25%        0.000000      0.000000      0.000000\n",
       "50%        0.000000      0.000000      0.000000\n",
       "75%        1.000000      1.000000      2.000000\n",
       "max       11.000000      6.000000     11.000000"
      ]
     },
     "execution_count": 23,
     "metadata": {},
     "output_type": "execute_result"
    }
   ],
   "source": [
    "pd.DataFrame({'full': full_df['person_ind'].describe(),\n",
    "              'aux': full_aux_df['person_ind'].describe(),\n",
    "              'main': full_main_df['person_ind'].describe()})"
   ]
  },
  {
   "cell_type": "code",
   "execution_count": 24,
   "id": "0d0a5762",
   "metadata": {
    "ExecuteTime": {
     "end_time": "2023-06-28T10:26:07.346783Z",
     "start_time": "2023-06-28T10:26:07.332073Z"
    }
   },
   "outputs": [
    {
     "data": {
      "text/plain": [
       "((51088, 3), (37158, 3))"
      ]
     },
     "execution_count": 24,
     "metadata": {},
     "output_type": "execute_result"
    }
   ],
   "source": [
    "train_main_df = train_df[train_df['folder'].isin(folders_main)]\n",
    "train_df.shape, train_main_df.shape"
   ]
  },
  {
   "cell_type": "markdown",
   "id": "88e1997a",
   "metadata": {},
   "source": [
    "# Build list of files without auxiliry of train, val, test"
   ]
  },
  {
   "cell_type": "code",
   "execution_count": 3,
   "id": "14d0afe5",
   "metadata": {
    "ExecuteTime": {
     "end_time": "2023-06-28T10:32:33.557953Z",
     "start_time": "2023-06-28T10:32:29.704742Z"
    }
   },
   "outputs": [
    {
     "data": {
      "text/plain": [
       "(64721, 6798, 6835, 51088)"
      ]
     },
     "execution_count": 3,
     "metadata": {},
     "output_type": "execute_result"
    }
   ],
   "source": [
    "val_list_file = Path('..') / 'data' / 'train' / 'validation_list.txt'\n",
    "test_list_file = Path('..') / 'data' / 'train' / 'testing_list.txt'\n",
    "\n",
    "with open(val_list_file, 'r') as file:\n",
    "    set_val_all = set(line.strip().replace('/', '\\\\') for line in file)\n",
    "with open(test_list_file, 'r') as file:\n",
    "    set_test_all = set(line.strip().replace('/', '\\\\') for line in file)\n",
    "\n",
    "    \n",
    "root_folder = Path('..') / 'data' / 'train' / 'audio'\n",
    "\n",
    "lines = []\n",
    "\n",
    "set_all = set()\n",
    "\n",
    "for path in root_folder.rglob('*'):\n",
    "    if '_background_noise_' not in path.parts and path.is_file():\n",
    "        set_all.add(str(path.relative_to(root_folder)))\n",
    "        \n",
    "set_train_all = set_all - set_val_all - set_test_all\n",
    "        \n",
    "len(set_all), len(set_val_all), len(set_test_all), len(set_train_all)"
   ]
  },
  {
   "cell_type": "code",
   "execution_count": 4,
   "id": "3e8d0023",
   "metadata": {
    "ExecuteTime": {
     "end_time": "2023-06-28T10:32:34.114906Z",
     "start_time": "2023-06-28T10:32:34.110876Z"
    }
   },
   "outputs": [
    {
     "name": "stdout",
     "output_type": "stream",
     "text": [
      "['on', 'four', 'yes', 'nine', 'three', 'no', 'stop', 'five', 'right', 'down', 'one', 'eight', 'off', 'zero', 'two', 'up', 'six', 'go', 'left', 'seven']\n"
     ]
    }
   ],
   "source": [
    "folders_main = ['on', 'four', 'yes', 'nine', 'three', 'no', 'stop', 'five', 'right', 'down', 'one', 'eight', 'off', 'zero', 'two', 'up', 'six', 'go', 'left', 'seven']\n",
    "print(folders_main)"
   ]
  },
  {
   "cell_type": "code",
   "execution_count": 7,
   "id": "a8f38cd9",
   "metadata": {
    "ExecuteTime": {
     "end_time": "2023-06-28T12:26:20.494672Z",
     "start_time": "2023-06-28T12:26:08.034154Z"
    }
   },
   "outputs": [
    {
     "data": {
      "text/plain": [
       "(37158, 5071, 5119, 17380, 64721)"
      ]
     },
     "execution_count": 7,
     "metadata": {},
     "output_type": "execute_result"
    }
   ],
   "source": [
    "set_not_main = set()\n",
    "folders_main_ser = pd.Series(list(folders_main))\n",
    "\n",
    "for path in root_folder.rglob('*'):\n",
    "    if not folders_main_ser.isin(path.parts).any() and path.is_file():\n",
    "        set_not_main.add(str(path.relative_to(root_folder)))\n",
    "        \n",
    "set_val_main = set_val_all - set_not_main\n",
    "set_test_main = set_test_all - set_not_main\n",
    "set_train_main = set_train_all - set_not_main\n",
    "        \n",
    "len(set_train_main), len(set_val_main), len(set_test_main), len(set_not_main), len(set_all)"
   ]
  }
 ],
 "metadata": {
  "hide_input": false,
  "kernelspec": {
   "display_name": "Python 3 (ipykernel)",
   "language": "python",
   "name": "python3"
  },
  "language_info": {
   "codemirror_mode": {
    "name": "ipython",
    "version": 3
   },
   "file_extension": ".py",
   "mimetype": "text/x-python",
   "name": "python",
   "nbconvert_exporter": "python",
   "pygments_lexer": "ipython3",
   "version": "3.9.7"
  },
  "toc": {
   "base_numbering": 1,
   "nav_menu": {},
   "number_sections": true,
   "sideBar": true,
   "skip_h1_title": false,
   "title_cell": "Table of Contents",
   "title_sidebar": "Contents",
   "toc_cell": false,
   "toc_position": {},
   "toc_section_display": true,
   "toc_window_display": true
  },
  "varInspector": {
   "cols": {
    "lenName": 16,
    "lenType": 16,
    "lenVar": 40
   },
   "kernels_config": {
    "python": {
     "delete_cmd_postfix": "",
     "delete_cmd_prefix": "del ",
     "library": "var_list.py",
     "varRefreshCmd": "print(var_dic_list())"
    },
    "r": {
     "delete_cmd_postfix": ") ",
     "delete_cmd_prefix": "rm(",
     "library": "var_list.r",
     "varRefreshCmd": "cat(var_dic_list()) "
    }
   },
   "types_to_exclude": [
    "module",
    "function",
    "builtin_function_or_method",
    "instance",
    "_Feature"
   ],
   "window_display": false
  }
 },
 "nbformat": 4,
 "nbformat_minor": 5
}
